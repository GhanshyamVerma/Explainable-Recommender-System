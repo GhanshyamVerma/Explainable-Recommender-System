{
 "cells": [
  {
   "cell_type": "code",
   "execution_count": null,
   "id": "b5ee70d0-1736-4142-a6f2-b47c265bd3ae",
   "metadata": {},
   "outputs": [],
   "source": [
    "import pandas as pd\n",
    "import numpy as np\n",
    "import xgboost as xgb\n",
    "import optuna \n",
    "from optuna import Trial, visualization\n",
    "from optuna.samplers import TPESampler\n",
    "from matplotlib import pyplot\n",
    "import matplotlib.pyplot as plt\n",
    "\n",
    "from prediction import LtrPrediction\n",
    "from processing_transE import DataPreprocessing\n",
    "import ltr_utils as ut"
   ]
  },
  {
   "attachments": {},
   "cell_type": "markdown",
   "id": "30865fa3-569a-43ea-ac25-d73e9c50e93b",
   "metadata": {},
   "source": [
    "## Datasets"
   ]
  },
  {
   "cell_type": "code",
   "execution_count": 3,
   "id": "104a76d5-acd7-4fc0-b21d-d41218385615",
   "metadata": {},
   "outputs": [],
   "source": [
    "train = pd.read_csv(\"../Dataset/train.csv\")\n",
    "test = pd.read_csv(\"../Dataset/test.csv\")\n",
    "articles = pd.read_csv(\"../Dataset/Published_online_articles.csv\")\n",
    "users = pd.read_csv(\"../Dataset/subscribers.csv\")"
   ]
  },
  {
   "attachments": {},
   "cell_type": "markdown",
   "id": "d47c6d61-09bc-43fe-9da2-818612a5b177",
   "metadata": {},
   "source": [
    "## Data Preprocessing"
   ]
  },
  {
   "cell_type": "code",
   "execution_count": 4,
   "id": "20e0ec0b-e585-4c43-a85e-28b0ee752527",
   "metadata": {},
   "outputs": [],
   "source": [
    "data_dict = {\n",
    "    'train' : '../Dataset/train.csv',\n",
    "    'test' : '../Dataset/test.csv',\n",
    "    'articles' : '../Dataset/Published_online_articles.csv',\n",
    "    'users' : '../Dataset/subscribers.csv'\n",
    "}"
   ]
  },
  {
   "cell_type": "code",
   "execution_count": 5,
   "id": "c03c65c7-8e96-45a8-8448-a0f9a7aa35ef",
   "metadata": {},
   "outputs": [
    {
     "name": "stdout",
     "output_type": "stream",
     "text": [
      "(11020, 19) (25672, 19)\n"
     ]
    }
   ],
   "source": [
    "DataPrep = DataPreprocessing(data_dict)"
   ]
  },
  {
   "cell_type": "raw",
   "id": "8899a75b-03fb-4114-891f-64fd61490df5",
   "metadata": {},
   "source": [
    "'''\n",
    "KG PATHS\n",
    "        'KG_structured_transE': 'TransE/transE_combined_emb.txt',\n",
    "        'KG_art_user_transE': 'TransE/transE_words_emb.txt'\n",
    "'''"
   ]
  },
  {
   "cell_type": "code",
   "execution_count": 6,
   "id": "32d7de59-7b3e-42c4-b83e-576c2bf900f4",
   "metadata": {},
   "outputs": [],
   "source": [
    "DataPrep.init_KG('TransE/transE_combined_emb.txt')"
   ]
  },
  {
   "cell_type": "code",
   "execution_count": 7,
   "id": "26ad61e2-4394-4b6e-bdbf-319a3b5fb1f9",
   "metadata": {},
   "outputs": [],
   "source": [
    "DataPrep.init_SentenceTransformer('all-MiniLM-L6-v2')"
   ]
  },
  {
   "cell_type": "code",
   "execution_count": 8,
   "id": "604e91d3-85c6-4c0a-b363-3bab4d687489",
   "metadata": {},
   "outputs": [
    {
     "name": "stderr",
     "output_type": "stream",
     "text": [
      "100%|██████████| 25672/25672 [14:48<00:00, 28.90it/s]\n",
      "100%|██████████| 25672/25672 [18:29<00:00, 23.15it/s]\n",
      "/home/devpil/anaconda3/envs/fid2_xgboost/lib/python3.10/site-packages/sklearn/utils/deprecation.py:87: FutureWarning: Function get_feature_names is deprecated; get_feature_names is deprecated in 1.0 and will be removed in 1.2. Please use get_feature_names_out instead.\n",
      "  warnings.warn(msg, category=FutureWarning)\n",
      "100%|██████████| 11020/11020 [06:11<00:00, 29.67it/s]\n",
      "100%|██████████| 11020/11020 [07:55<00:00, 23.15it/s]\n"
     ]
    }
   ],
   "source": [
    "train_data_df, test_data_df = DataPrep.fit_data_pipeline()"
   ]
  },
  {
   "cell_type": "raw",
   "id": "88001595-1f76-400c-b993-d5b95966327e",
   "metadata": {},
   "source": [
    "'''\n",
    "FEATURE SELECTION\n",
    "            ['art'],\n",
    "            ['art','usr'],\n",
    "            ['art','st'],\n",
    "            ['art','st','usr'],\n",
    "            ['art','kg'],\n",
    "            ['art','usr','kg']\n",
    "            ['art','usr','st','kg']\n",
    "'''"
   ]
  },
  {
   "cell_type": "code",
   "execution_count": 9,
   "id": "de7771d2-1cb1-44e9-aa0d-917493d0e5a4",
   "metadata": {},
   "outputs": [
    {
     "name": "stdout",
     "output_type": "stream",
     "text": [
      "87\n",
      "(25672, 87) (25672, 1) (11020, 87) (11020, 1)\n"
     ]
    }
   ],
   "source": [
    "processed_data_dict = DataPrep.get_train_test_split(['art','usr','kg'])"
   ]
  },
  {
   "cell_type": "code",
   "execution_count": 10,
   "id": "6425c81d",
   "metadata": {},
   "outputs": [],
   "source": [
    "X_train, y_train, groups_train, qid_train, X_test, y_test, qid_test, groups_test = processed_data_dict['train_test']\n",
    "test_data = processed_data_dict['test_data']"
   ]
  },
  {
   "attachments": {},
   "cell_type": "markdown",
   "id": "baf7bd8c-426c-4f21-a777-33bcc8155680",
   "metadata": {},
   "source": [
    "## Model Training"
   ]
  },
  {
   "cell_type": "code",
   "execution_count": 11,
   "id": "0143a9a0-fd07-412a-bf34-3e85f9800a3e",
   "metadata": {},
   "outputs": [
    {
     "name": "stdout",
     "output_type": "stream",
     "text": [
      "default Train :   0.4058095483308847\n",
      "default Test  :   0.17870518219766907\n"
     ]
    }
   ],
   "source": [
    "xgb_params = {  'booster':\"gbtree\", \n",
    "                'objective':\"rank:pairwise\",\n",
    "                'tree_method':\"gpu_hist\", \n",
    "                'sampling_method':\"gradient_based\",\n",
    "                'eval_metric':['map@10'],\n",
    "             }\n",
    "\n",
    "model = xgb.XGBRanker(**xgb_params)\n",
    "\n",
    "\n",
    "model.fit(X_train, y_train, group=groups_train, eval_set=[(X_train, y_train),(X_test, y_test)], eval_group=[groups_train,groups_test],  verbose=False)\n",
    "\n",
    "result = model.evals_result()\n",
    "train_score = np.mean(result['validation_0']['map@10'])\n",
    "test_score = np.mean(result['validation_1']['map@10'])\n",
    "print('default Train :  ', train_score)\n",
    "print('default Test  :  ', test_score)"
   ]
  },
  {
   "attachments": {},
   "cell_type": "markdown",
   "id": "2a8491be-ef51-4ab7-b7e1-fa2a2e011bb4",
   "metadata": {},
   "source": [
    "## Hyperparameter Tuning"
   ]
  },
  {
   "cell_type": "code",
   "execution_count": 12,
   "id": "246b4554-f898-481e-b922-ec6db0e1a746",
   "metadata": {},
   "outputs": [
    {
     "name": "stderr",
     "output_type": "stream",
     "text": [
      "/home/devpil/anaconda3/envs/fid2_xgboost/lib/python3.10/site-packages/xgboost/sklearn.py:835: UserWarning: `early_stopping_rounds` in `fit` method is deprecated for better compatibility with scikit-learn, use `early_stopping_rounds` in constructor or`set_params` instead.\n",
      "  warnings.warn(\n",
      "/home/devpil/anaconda3/envs/fid2_xgboost/lib/python3.10/site-packages/xgboost/sklearn.py:835: UserWarning: `callbacks` in `fit` method is deprecated for better compatibility with scikit-learn, use `callbacks` in constructor or`set_params` instead.\n",
      "  warnings.warn(\n"
     ]
    }
   ],
   "source": [
    "def objective(trial):\n",
    "\n",
    "        metric = \"map@10\"\n",
    "\n",
    "        tuning_params = {\n",
    "                    \"max_depth\": trial.suggest_int(\"max_depth\", 2, 8, step=1),\n",
    "                    \"subsample\": trial.suggest_float(\"subsample\", 0.5, 0.8, step=0.05),\n",
    "                    \"colsample_bytree\": trial.suggest_float(\"colsample_bytree\", 0.5, 0.8, step=0.05),\n",
    "                    \"reg_lambda\": trial.suggest_float(\"reg_lambda\", 0.01, 10.0, step=0.01),\n",
    "                    \"alpha\": trial.suggest_float(\"alpha\", 1e-8, 1.0),\n",
    "                    \"min_child_weight\": trial.suggest_float(\"min_child_weight\", 0.01, 10.0, step=0.01),\n",
    "                    \"gamma\": trial.suggest_float(\"gamma\", 0.01, 10.0, step=0.01),\n",
    "                    \"max_delta_step\":  trial.suggest_float(\"max_delta_step\", 0.01, 10.0, step=0.01),\n",
    "                    \"eta\": trial.suggest_float(\"eta\", 0.001, 10.0, step=0.001)\n",
    "\n",
    "                }\n",
    "        \n",
    "        pruning_callback = optuna.integration.XGBoostPruningCallback(trial, \"validation_0-map@10\")\n",
    "\n",
    "        model = xgb.XGBRanker(booster=\"gbtree\", objective=\"rank:pairwise\",\n",
    "                            tree_method=\"gpu_hist\", sampling_method=\"gradient_based\",\n",
    "                            eval_metric=metric,\n",
    "                            verbosity=1,\n",
    "                            n_estimators=5000,\n",
    "                            **tuning_params)\n",
    "\n",
    "        model.fit(X_train, y_train, group=groups_train, eval_set=[(X_test, y_test)],early_stopping_rounds = 100,  eval_group=[groups_test], callbacks=[pruning_callback],  verbose=False)\n",
    "\n",
    "        result = model.evals_result()\n",
    "        opt_score1 = np.mean(result['validation_0'][metric])\n",
    "\n",
    "        if trial.should_prune():\n",
    "            raise optuna.exceptions.TrialPruned()\n",
    "\n",
    "        return opt_score1\n",
    "\n",
    "# optuna.logging.WARNING\n",
    "optuna.logging.set_verbosity(optuna.logging.WARNING)\n",
    "\n",
    "pruner = optuna.pruners.MedianPruner(n_warmup_steps=20)\n",
    "study = optuna.create_study(pruner=pruner, direction='maximize')\n",
    "study.optimize(objective, n_trials=500)"
   ]
  },
  {
   "cell_type": "code",
   "execution_count": 14,
   "id": "cf65c64a-7c4a-4764-b040-004355e85005",
   "metadata": {},
   "outputs": [
    {
     "name": "stdout",
     "output_type": "stream",
     "text": [
      "Optimized MAP: 0.3107\n",
      "Best params:\n",
      "\tmax_depth: 3\n",
      "\tsubsample: 0.55\n",
      "\tcolsample_bytree: 0.75\n",
      "\treg_lambda: 0.33\n",
      "\talpha: 0.7026672253454432\n",
      "\tmin_child_weight: 1.06\n",
      "\tgamma: 2.3499999999999996\n",
      "\tmax_delta_step: 0.9\n",
      "\teta: 0.001\n"
     ]
    }
   ],
   "source": [
    "print(f\"Optimized MAP: {study.best_value:.4f}\")\n",
    "print(\"Best params:\")\n",
    "for key, value in study.best_params.items():\n",
    "    print(f\"\\t{key}: {value}\")"
   ]
  },
  {
   "cell_type": "code",
   "execution_count": 15,
   "id": "acd83b4b-21cc-4228-b657-24c272133855",
   "metadata": {},
   "outputs": [
    {
     "name": "stdout",
     "output_type": "stream",
     "text": [
      "Optimized Train :   0.2365675231336474\n",
      "Optimized Test  :   0.31930241090916806\n"
     ]
    }
   ],
   "source": [
    "metric = \"map@10\"\n",
    "\n",
    "model_bst = xgb.XGBRanker(booster=\"gbtree\", objective=\"rank:pairwise\",\n",
    "                        tree_method=\"gpu_hist\", sampling_method=\"gradient_based\",\n",
    "                        eval_metric=metric,\n",
    "                        n_estimators=5000,\n",
    "                        early_stopping_rounds = 50, \n",
    "                        verbosity=0,\n",
    "                        **study.best_params)\n",
    "\n",
    "model_bst.fit(X_train, y_train, group=groups_train, eval_set=[(X_train, y_train),(X_test, y_test)], eval_group=[groups_train,groups_test],  verbose=False)\n",
    "result = model_bst.evals_result()\n",
    "train_score = np.max(result['validation_0']['map@10'])\n",
    "test_score = np.max(result['validation_1']['map@10'])\n",
    "print('Optimized Train :  ', train_score)\n",
    "print('Optimized Test  :  ', test_score)"
   ]
  },
  {
   "cell_type": "code",
   "execution_count": 9,
   "id": "2542a9d8-70b5-4032-8a4c-91ae26cfcd31",
   "metadata": {},
   "outputs": [
    {
     "data": {
      "image/png": "[encoded data removed]",
      "text/plain": [
       "<Figure size 640x480 with 1 Axes>"
      ]
     },
     "metadata": {},
     "output_type": "display_data"
    }
   ],
   "source": [
    "# plot learning curves\n",
    "pyplot.plot(result['validation_0']['map@10'], label='train')\n",
    "pyplot.plot(result['validation_1']['map@10'], label='test')\n",
    "# show the legend\n",
    "pyplot.legend()\n",
    "pyplot.rcParams[\"figure.figsize\"] = (10,5)\n",
    "# show the plot\n",
    "pyplot.show()"
   ]
  },
  {
   "cell_type": "code",
   "execution_count": 16,
   "id": "200a3029",
   "metadata": {},
   "outputs": [],
   "source": [
    "path = 'outputs/kg_DP/'\n",
    "ut.model_save(model_bst,path,DataPrep)"
   ]
  },
  {
   "cell_type": "code",
   "execution_count": 10,
   "id": "ebf777e5",
   "metadata": {},
   "outputs": [
    {
     "data": {
      "image/png": "[encoded data removed]",
      "text/plain": [
       "<Figure size 1000x500 with 1 Axes>"
      ]
     },
     "metadata": {},
     "output_type": "display_data"
    }
   ],
   "source": [
    "xgb.plot_importance(model_bst)\n",
    "plt.show()"
   ]
  },
  {
   "attachments": {},
   "cell_type": "markdown",
   "id": "d7b76587-40e9-4f2c-941b-e2fa5f555360",
   "metadata": {},
   "source": [
    "## Model Evaluation"
   ]
  },
  {
   "cell_type": "code",
   "execution_count": 2,
   "id": "a2bcb90f",
   "metadata": {},
   "outputs": [
    {
     "name": "stdout",
     "output_type": "stream",
     "text": [
      "87\n",
      "(25672, 87) (25672, 1) (11020, 87) (11020, 1)\n"
     ]
    }
   ],
   "source": [
    "path = 'outputs/kg_DP/'\n",
    "\n",
    "model_bst, DataPrep = ut.load_model(path)\n",
    "\n",
    "processed_data_dict = DataPrep.get_train_test_split(['art','usr','kg'])\n",
    "X_train, y_train, groups_train, qid_train, X_test, y_test, qid_test, groups_test = processed_data_dict['train_test']\n",
    "test_data = processed_data_dict['test_data']"
   ]
  },
  {
   "cell_type": "code",
   "execution_count": 3,
   "id": "70cdf7a1-32f4-45d0-9253-7f686825fa90",
   "metadata": {},
   "outputs": [],
   "source": [
    "xgb_Prediction = LtrPrediction(model_bst, test_data)"
   ]
  },
  {
   "cell_type": "code",
   "execution_count": 4,
   "id": "7d0b4d31-3f32-402e-b2eb-08971e1471e2",
   "metadata": {},
   "outputs": [
    {
     "name": "stdout",
     "output_type": "stream",
     "text": [
      "NDCG=0.517 | Recall=0.712 | Precision=0.948 \n"
     ]
    },
    {
     "data": {
      "text/plain": [
       "{'MAP@10': 0.3582043321443804,\n",
       " 'results@10': {'NDCG': 0.5166801374076652,\n",
       "  'Recall': 0.7118087975931112,\n",
       "  'Precision': 0.23355119825708062}}"
      ]
     },
     "execution_count": 4,
     "metadata": {},
     "output_type": "execute_result"
    }
   ],
   "source": [
    "results = xgb_Prediction.evaluate()\n",
    "results"
   ]
  },
  {
   "cell_type": "code",
   "execution_count": 5,
   "id": "4a604bef-955d-47a8-9326-82cc52938c97",
   "metadata": {},
   "outputs": [],
   "source": [
    "top_k_best_score_ips = xgb_Prediction.get_recomendation()"
   ]
  },
  {
   "cell_type": "code",
   "execution_count": 6,
   "id": "08600799-281d-4b56-a9cf-5d1e04e96e6f",
   "metadata": {},
   "outputs": [],
   "source": [
    "tcm_le = DataPrep.return_inverse_transform()\n",
    "top_k_best_score_ips['article_actual_ids'] = top_k_best_score_ips.apply(lambda row: tcm_le.inverse_transform(row['article_actual']) ,axis=1)\n",
    "top_k_best_score_ips['article_recomended_ids'] = top_k_best_score_ips.apply(lambda row: tcm_le.inverse_transform(row['article_prediction']) ,axis=1)"
   ]
  },
  {
   "cell_type": "code",
   "execution_count": 7,
   "id": "df65cfe3-7815-4511-a852-b524d5ddddc6",
   "metadata": {},
   "outputs": [
    {
     "data": {
      "text/html": [
       "<div>\n",
       "<style scoped>\n",
       "    .dataframe tbody tr th:only-of-type {\n",
       "        vertical-align: middle;\n",
       "    }\n",
       "\n",
       "    .dataframe tbody tr th {\n",
       "        vertical-align: top;\n",
       "    }\n",
       "\n",
       "    .dataframe thead th {\n",
       "        text-align: right;\n",
       "    }\n",
       "</style>\n",
       "<table border=\"1\" class=\"dataframe\">\n",
       "  <thead>\n",
       "    <tr style=\"text-align: right;\">\n",
       "      <th></th>\n",
       "      <th>article_actual_ids</th>\n",
       "      <th>article_recomended_ids</th>\n",
       "      <th>apk</th>\n",
       "    </tr>\n",
       "    <tr>\n",
       "      <th>qid</th>\n",
       "      <th></th>\n",
       "      <th></th>\n",
       "      <th></th>\n",
       "    </tr>\n",
       "  </thead>\n",
       "  <tbody>\n",
       "    <tr>\n",
       "      <th>68235149</th>\n",
       "      <td>[8410, 8987]</td>\n",
       "      <td>[8410, 8987, 4909, 5259, 3755, 9893, 2601, 517...</td>\n",
       "      <td>1.000000</td>\n",
       "    </tr>\n",
       "    <tr>\n",
       "      <th>17639664</th>\n",
       "      <td>[8410, 8485, 6200, 9897]</td>\n",
       "      <td>[8485, 9897, 6200, 8410, 4909, 3755, 8987, 260...</td>\n",
       "      <td>1.000000</td>\n",
       "    </tr>\n",
       "    <tr>\n",
       "      <th>75566156</th>\n",
       "      <td>[2852]</td>\n",
       "      <td>[2852, 8410, 8987, 8962, 9893, 5742, 6200, 438...</td>\n",
       "      <td>1.000000</td>\n",
       "    </tr>\n",
       "    <tr>\n",
       "      <th>2570506</th>\n",
       "      <td>[9897]</td>\n",
       "      <td>[9897, 6184, 6200, 5788, 3755, 4909, 4326, 989...</td>\n",
       "      <td>1.000000</td>\n",
       "    </tr>\n",
       "    <tr>\n",
       "      <th>58147318</th>\n",
       "      <td>[6200]</td>\n",
       "      <td>[6200, 5788, 3755, 8987, 1073, 4326, 7387, 719...</td>\n",
       "      <td>1.000000</td>\n",
       "    </tr>\n",
       "    <tr>\n",
       "      <th>30229272</th>\n",
       "      <td>[6184, 8410]</td>\n",
       "      <td>[8410, 6184, 6200, 8962, 3755, 9893, 8952, 423...</td>\n",
       "      <td>1.000000</td>\n",
       "    </tr>\n",
       "    <tr>\n",
       "      <th>43668861</th>\n",
       "      <td>[8407, 8410]</td>\n",
       "      <td>[8407, 8410, 5742, 7197, 1226, 8952, 4234, 880...</td>\n",
       "      <td>1.000000</td>\n",
       "    </tr>\n",
       "    <tr>\n",
       "      <th>70342129</th>\n",
       "      <td>[5788, 2229, 6184, 6200, 7387, 8410]</td>\n",
       "      <td>[8410, 6200, 6184, 5788, 9893, 7387, 2229, 260...</td>\n",
       "      <td>0.948413</td>\n",
       "    </tr>\n",
       "    <tr>\n",
       "      <th>69530129</th>\n",
       "      <td>[1073, 2229, 7197, 8485, 4909]</td>\n",
       "      <td>[8485, 4909, 1073, 3755, 7197, 2229, 4380, 292...</td>\n",
       "      <td>0.926667</td>\n",
       "    </tr>\n",
       "    <tr>\n",
       "      <th>50730920</th>\n",
       "      <td>[8485, 6379, 8218]</td>\n",
       "      <td>[8485, 6379, 8410, 8218, 8987, 8962, 5259, 574...</td>\n",
       "      <td>0.916667</td>\n",
       "    </tr>\n",
       "  </tbody>\n",
       "</table>\n",
       "</div>"
      ],
      "text/plain": [
       "                            article_actual_ids  \\\n",
       "qid                                              \n",
       "68235149                          [8410, 8987]   \n",
       "17639664              [8410, 8485, 6200, 9897]   \n",
       "75566156                                [2852]   \n",
       "2570506                                 [9897]   \n",
       "58147318                                [6200]   \n",
       "30229272                          [6184, 8410]   \n",
       "43668861                          [8407, 8410]   \n",
       "70342129  [5788, 2229, 6184, 6200, 7387, 8410]   \n",
       "69530129        [1073, 2229, 7197, 8485, 4909]   \n",
       "50730920                    [8485, 6379, 8218]   \n",
       "\n",
       "                                     article_recomended_ids       apk  \n",
       "qid                                                                    \n",
       "68235149  [8410, 8987, 4909, 5259, 3755, 9893, 2601, 517...  1.000000  \n",
       "17639664  [8485, 9897, 6200, 8410, 4909, 3755, 8987, 260...  1.000000  \n",
       "75566156  [2852, 8410, 8987, 8962, 9893, 5742, 6200, 438...  1.000000  \n",
       "2570506   [9897, 6184, 6200, 5788, 3755, 4909, 4326, 989...  1.000000  \n",
       "58147318  [6200, 5788, 3755, 8987, 1073, 4326, 7387, 719...  1.000000  \n",
       "30229272  [8410, 6184, 6200, 8962, 3755, 9893, 8952, 423...  1.000000  \n",
       "43668861  [8407, 8410, 5742, 7197, 1226, 8952, 4234, 880...  1.000000  \n",
       "70342129  [8410, 6200, 6184, 5788, 9893, 7387, 2229, 260...  0.948413  \n",
       "69530129  [8485, 4909, 1073, 3755, 7197, 2229, 4380, 292...  0.926667  \n",
       "50730920  [8485, 6379, 8410, 8218, 8987, 8962, 5259, 574...  0.916667  "
      ]
     },
     "execution_count": 7,
     "metadata": {},
     "output_type": "execute_result"
    }
   ],
   "source": [
    "pd.set_option('max_columns', None)\n",
    "pd.set_option('display.max_colwidth', None)\n",
    "top_k_best_score_ips[['article_actual_ids','article_recomended_ids','apk']].sort_values(by='apk',ascending = False).head(10)"
   ]
  },
  {
   "attachments": {},
   "cell_type": "markdown",
   "id": "e4e38257",
   "metadata": {},
   "source": [
    "## SHAP"
   ]
  },
  {
   "cell_type": "code",
   "execution_count": 8,
   "id": "f73ea0ec",
   "metadata": {},
   "outputs": [],
   "source": [
    "import shap"
   ]
  },
  {
   "cell_type": "code",
   "execution_count": 9,
   "id": "f0c35474",
   "metadata": {},
   "outputs": [],
   "source": [
    "explainer = shap.Explainer(model_bst)\n",
    "shap_values = explainer(X_train)"
   ]
  },
  {
   "cell_type": "code",
   "execution_count": 10,
   "id": "35c3e68b",
   "metadata": {},
   "outputs": [
    {
     "data": {
      "image/png": "[encoded data removed]",
      "text/plain": [
       "<Figure size 800x950 with 1 Axes>"
      ]
     },
     "metadata": {},
     "output_type": "display_data"
    }
   ],
   "source": [
    "shap.summary_plot(shap_values, X_train, plot_type=\"bar\")"
   ]
  },
  {
   "attachments": {},
   "cell_type": "markdown",
   "id": "94d55c32",
   "metadata": {},
   "source": [
    "## ELI5"
   ]
  },
  {
   "cell_type": "code",
   "execution_count": 11,
   "id": "5bf8c588",
   "metadata": {},
   "outputs": [],
   "source": [
    "from eli5.xgboost import explain_weights_xgboost"
   ]
  },
  {
   "cell_type": "code",
   "execution_count": 12,
   "id": "c491d496",
   "metadata": {},
   "outputs": [
    {
     "data": {
      "text/html": [
       "\n",
       "    <style>\n",
       "    table.eli5-weights tr:hover {\n",
       "        filter: brightness(85%);\n",
       "    }\n",
       "</style>\n",
       "\n",
       "\n",
       "\n",
       "    \n",
       "\n",
       "    \n",
       "\n",
       "    \n",
       "\n",
       "    \n",
       "\n",
       "    \n",
       "\n",
       "    \n",
       "\n",
       "\n",
       "    \n",
       "\n",
       "    \n",
       "\n",
       "    \n",
       "\n",
       "    \n",
       "\n",
       "    \n",
       "\n",
       "    \n",
       "\n",
       "\n",
       "    \n",
       "\n",
       "    \n",
       "\n",
       "    \n",
       "\n",
       "    \n",
       "\n",
       "    \n",
       "        <table class=\"eli5-weights eli5-feature-importances\" style=\"border-collapse: collapse; border: none; margin-top: 0em; table-layout: auto;\">\n",
       "    <thead>\n",
       "    <tr style=\"border: none;\">\n",
       "        <th style=\"padding: 0 1em 0 0.5em; text-align: right; border: none;\">Weight</th>\n",
       "        <th style=\"padding: 0 0.5em 0 0.5em; text-align: left; border: none;\">Feature</th>\n",
       "    </tr>\n",
       "    </thead>\n",
       "    <tbody>\n",
       "    \n",
       "        <tr style=\"background-color: hsl(120, 100.00%, 80.00%); border: none;\">\n",
       "            <td style=\"padding: 0 1em 0 0.5em; text-align: right; border: none;\">\n",
       "                0.0522\n",
       "                \n",
       "            </td>\n",
       "            <td style=\"padding: 0 0.5em 0 0.5em; text-align: left; border: none;\">\n",
       "                kg_0\n",
       "            </td>\n",
       "        </tr>\n",
       "    \n",
       "        <tr style=\"background-color: hsl(120, 100.00%, 80.41%); border: none;\">\n",
       "            <td style=\"padding: 0 1em 0 0.5em; text-align: right; border: none;\">\n",
       "                0.0506\n",
       "                \n",
       "            </td>\n",
       "            <td style=\"padding: 0 0.5em 0 0.5em; text-align: left; border: none;\">\n",
       "                kg_3\n",
       "            </td>\n",
       "        </tr>\n",
       "    \n",
       "        <tr style=\"background-color: hsl(120, 100.00%, 80.59%); border: none;\">\n",
       "            <td style=\"padding: 0 1em 0 0.5em; text-align: right; border: none;\">\n",
       "                0.0500\n",
       "                \n",
       "            </td>\n",
       "            <td style=\"padding: 0 0.5em 0 0.5em; text-align: left; border: none;\">\n",
       "                kg_7\n",
       "            </td>\n",
       "        </tr>\n",
       "    \n",
       "        <tr style=\"background-color: hsl(120, 100.00%, 81.64%); border: none;\">\n",
       "            <td style=\"padding: 0 1em 0 0.5em; text-align: right; border: none;\">\n",
       "                0.0462\n",
       "                \n",
       "            </td>\n",
       "            <td style=\"padding: 0 0.5em 0 0.5em; text-align: left; border: none;\">\n",
       "                article_popularity\n",
       "            </td>\n",
       "        </tr>\n",
       "    \n",
       "        <tr style=\"background-color: hsl(120, 100.00%, 82.40%); border: none;\">\n",
       "            <td style=\"padding: 0 1em 0 0.5em; text-align: right; border: none;\">\n",
       "                0.0435\n",
       "                \n",
       "            </td>\n",
       "            <td style=\"padding: 0 0.5em 0 0.5em; text-align: left; border: none;\">\n",
       "                kg_10\n",
       "            </td>\n",
       "        </tr>\n",
       "    \n",
       "        <tr style=\"background-color: hsl(120, 100.00%, 82.71%); border: none;\">\n",
       "            <td style=\"padding: 0 1em 0 0.5em; text-align: right; border: none;\">\n",
       "                0.0424\n",
       "                \n",
       "            </td>\n",
       "            <td style=\"padding: 0 0.5em 0 0.5em; text-align: left; border: none;\">\n",
       "                kg_22\n",
       "            </td>\n",
       "        </tr>\n",
       "    \n",
       "        <tr style=\"background-color: hsl(120, 100.00%, 82.77%); border: none;\">\n",
       "            <td style=\"padding: 0 1em 0 0.5em; text-align: right; border: none;\">\n",
       "                0.0422\n",
       "                \n",
       "            </td>\n",
       "            <td style=\"padding: 0 0.5em 0 0.5em; text-align: left; border: none;\">\n",
       "                article_length\n",
       "            </td>\n",
       "        </tr>\n",
       "    \n",
       "        <tr style=\"background-color: hsl(120, 100.00%, 82.95%); border: none;\">\n",
       "            <td style=\"padding: 0 1em 0 0.5em; text-align: right; border: none;\">\n",
       "                0.0416\n",
       "                \n",
       "            </td>\n",
       "            <td style=\"padding: 0 0.5em 0 0.5em; text-align: left; border: none;\">\n",
       "                kg_5\n",
       "            </td>\n",
       "        </tr>\n",
       "    \n",
       "        <tr style=\"background-color: hsl(120, 100.00%, 84.20%); border: none;\">\n",
       "            <td style=\"padding: 0 1em 0 0.5em; text-align: right; border: none;\">\n",
       "                0.0373\n",
       "                \n",
       "            </td>\n",
       "            <td style=\"padding: 0 0.5em 0 0.5em; text-align: left; border: none;\">\n",
       "                kg_33\n",
       "            </td>\n",
       "        </tr>\n",
       "    \n",
       "        <tr style=\"background-color: hsl(120, 100.00%, 85.21%); border: none;\">\n",
       "            <td style=\"padding: 0 1em 0 0.5em; text-align: right; border: none;\">\n",
       "                0.0339\n",
       "                \n",
       "            </td>\n",
       "            <td style=\"padding: 0 0.5em 0 0.5em; text-align: left; border: none;\">\n",
       "                kg_25\n",
       "            </td>\n",
       "        </tr>\n",
       "    \n",
       "        <tr style=\"background-color: hsl(120, 100.00%, 85.38%); border: none;\">\n",
       "            <td style=\"padding: 0 1em 0 0.5em; text-align: right; border: none;\">\n",
       "                0.0334\n",
       "                \n",
       "            </td>\n",
       "            <td style=\"padding: 0 0.5em 0 0.5em; text-align: left; border: none;\">\n",
       "                kg_24\n",
       "            </td>\n",
       "        </tr>\n",
       "    \n",
       "        <tr style=\"background-color: hsl(120, 100.00%, 85.42%); border: none;\">\n",
       "            <td style=\"padding: 0 1em 0 0.5em; text-align: right; border: none;\">\n",
       "                0.0332\n",
       "                \n",
       "            </td>\n",
       "            <td style=\"padding: 0 0.5em 0 0.5em; text-align: left; border: none;\">\n",
       "                kg_52\n",
       "            </td>\n",
       "        </tr>\n",
       "    \n",
       "        <tr style=\"background-color: hsl(120, 100.00%, 86.00%); border: none;\">\n",
       "            <td style=\"padding: 0 1em 0 0.5em; text-align: right; border: none;\">\n",
       "                0.0313\n",
       "                \n",
       "            </td>\n",
       "            <td style=\"padding: 0 0.5em 0 0.5em; text-align: left; border: none;\">\n",
       "                kg_8\n",
       "            </td>\n",
       "        </tr>\n",
       "    \n",
       "        <tr style=\"background-color: hsl(120, 100.00%, 86.25%); border: none;\">\n",
       "            <td style=\"padding: 0 1em 0 0.5em; text-align: right; border: none;\">\n",
       "                0.0306\n",
       "                \n",
       "            </td>\n",
       "            <td style=\"padding: 0 0.5em 0 0.5em; text-align: left; border: none;\">\n",
       "                kg_40\n",
       "            </td>\n",
       "        </tr>\n",
       "    \n",
       "        <tr style=\"background-color: hsl(120, 100.00%, 87.95%); border: none;\">\n",
       "            <td style=\"padding: 0 1em 0 0.5em; text-align: right; border: none;\">\n",
       "                0.0253\n",
       "                \n",
       "            </td>\n",
       "            <td style=\"padding: 0 0.5em 0 0.5em; text-align: left; border: none;\">\n",
       "                kg_26\n",
       "            </td>\n",
       "        </tr>\n",
       "    \n",
       "        <tr style=\"background-color: hsl(120, 100.00%, 88.39%); border: none;\">\n",
       "            <td style=\"padding: 0 1em 0 0.5em; text-align: right; border: none;\">\n",
       "                0.0240\n",
       "                \n",
       "            </td>\n",
       "            <td style=\"padding: 0 0.5em 0 0.5em; text-align: left; border: none;\">\n",
       "                kg_6\n",
       "            </td>\n",
       "        </tr>\n",
       "    \n",
       "        <tr style=\"background-color: hsl(120, 100.00%, 88.99%); border: none;\">\n",
       "            <td style=\"padding: 0 1em 0 0.5em; text-align: right; border: none;\">\n",
       "                0.0222\n",
       "                \n",
       "            </td>\n",
       "            <td style=\"padding: 0 0.5em 0 0.5em; text-align: left; border: none;\">\n",
       "                kg_17\n",
       "            </td>\n",
       "        </tr>\n",
       "    \n",
       "        <tr style=\"background-color: hsl(120, 100.00%, 89.16%); border: none;\">\n",
       "            <td style=\"padding: 0 1em 0 0.5em; text-align: right; border: none;\">\n",
       "                0.0217\n",
       "                \n",
       "            </td>\n",
       "            <td style=\"padding: 0 0.5em 0 0.5em; text-align: left; border: none;\">\n",
       "                kg_1\n",
       "            </td>\n",
       "        </tr>\n",
       "    \n",
       "        <tr style=\"background-color: hsl(120, 100.00%, 89.16%); border: none;\">\n",
       "            <td style=\"padding: 0 1em 0 0.5em; text-align: right; border: none;\">\n",
       "                0.0217\n",
       "                \n",
       "            </td>\n",
       "            <td style=\"padding: 0 0.5em 0 0.5em; text-align: left; border: none;\">\n",
       "                kg_51\n",
       "            </td>\n",
       "        </tr>\n",
       "    \n",
       "        <tr style=\"background-color: hsl(120, 100.00%, 89.25%); border: none;\">\n",
       "            <td style=\"padding: 0 1em 0 0.5em; text-align: right; border: none;\">\n",
       "                0.0215\n",
       "                \n",
       "            </td>\n",
       "            <td style=\"padding: 0 0.5em 0 0.5em; text-align: left; border: none;\">\n",
       "                kg_36\n",
       "            </td>\n",
       "        </tr>\n",
       "    \n",
       "    \n",
       "        \n",
       "            <tr style=\"background-color: hsl(120, 100.00%, 89.25%); border: none;\">\n",
       "                <td colspan=\"2\" style=\"padding: 0 0.5em 0 0.5em; text-align: center; border: none; white-space: nowrap;\">\n",
       "                    <i>&hellip; 67 more &hellip;</i>\n",
       "                </td>\n",
       "            </tr>\n",
       "        \n",
       "    \n",
       "    </tbody>\n",
       "</table>\n",
       "    \n",
       "\n",
       "    \n",
       "\n",
       "\n",
       "    \n",
       "\n",
       "    \n",
       "\n",
       "    \n",
       "\n",
       "    \n",
       "\n",
       "    \n",
       "\n",
       "    \n",
       "\n",
       "\n",
       "\n"
      ],
      "text/plain": [
       "Explanation(estimator=\"XGBRanker(alpha=0.7026672253454432, base_score=None, booster='gbtree',\\n          callbacks=None, colsample_bylevel=None, colsample_bynode=None,\\n          colsample_bytree=0.75, early_stopping_rounds=50,\\n          enable_categorical=False, eta=0.001, eval_metric='map@10',\\n          feature_types=['float', 'float', 'float', 'float', 'float', 'float',\\n                         'float', 'float', 'float', 'float', 'float', 'float',\\n                         'float',...\\n                         'float', 'float', 'float', 'float', 'float', 'float', ...],\\n          gamma=2.3499999999999996, gpu_id=None, grow_policy=None,\\n          importance_type=None, interaction_constraints=None,\\n          learning_rate=None, max_bin=None, max_cat_threshold=None,\\n          max_cat_to_onehot=None, max_delta_step=0.9, max_depth=3,\\n          max_leaves=None, min_child_weight=1.06, missing=nan,\\n          monotone_constraints=None, n_estimators=5000, n_jobs=None,\\n          num_parallel_tree=None, ...)\", description='\\nXGBoost feature importances; values are numbers 0 <= x <= 1;\\nall values sum to 1.\\n', error=None, method='feature importances', is_regression=False, targets=None, feature_importances=FeatureImportances(importances=[FeatureWeight(feature='kg_0', weight=0.052188687, std=None, value=None), FeatureWeight(feature='kg_3', weight=0.050649304, std=None, value=None), FeatureWeight(feature='kg_7', weight=0.05000481, std=None, value=None), FeatureWeight(feature='article_popularity', weight=0.046189442, std=None, value=None), FeatureWeight(feature='kg_10', weight=0.04347071, std=None, value=None), FeatureWeight(feature='kg_22', weight=0.04239944, std=None, value=None), FeatureWeight(feature='article_length', weight=0.04218037, std=None, value=None), FeatureWeight(feature='kg_5', weight=0.041554328, std=None, value=None), FeatureWeight(feature='kg_33', weight=0.0372734, std=None, value=None), FeatureWeight(feature='kg_25', weight=0.033919044, std=None, value=None), FeatureWeight(feature='kg_24', weight=0.033352785, std=None, value=None), FeatureWeight(feature='kg_52', weight=0.033227973, std=None, value=None), FeatureWeight(feature='kg_8', weight=0.031340737, std=None, value=None), FeatureWeight(feature='kg_40', weight=0.030564103, std=None, value=None), FeatureWeight(feature='kg_26', weight=0.025320336, std=None, value=None), FeatureWeight(feature='kg_6', weight=0.024005808, std=None, value=None), FeatureWeight(feature='kg_17', weight=0.02224916, std=None, value=None), FeatureWeight(feature='kg_1', weight=0.02174447, std=None, value=None), FeatureWeight(feature='kg_51', weight=0.021744106, std=None, value=None), FeatureWeight(feature='kg_36', weight=0.021503046, std=None, value=None)], remaining=67), decision_tree=None, highlight_spaces=None, transition_features=None, image=None)"
      ]
     },
     "execution_count": 12,
     "metadata": {},
     "output_type": "execute_result"
    }
   ],
   "source": [
    "explain_weights_xgboost(model_bst)"
   ]
  }
 ],
 "metadata": {
  "instance_type": "ml.g4dn.xlarge",
  "kernelspec": {
   "display_name": "tf_gpu",
   "language": "python",
   "name": "python3"
  },
  "language_info": {
   "codemirror_mode": {
    "name": "ipython",
    "version": 3
   },
   "file_extension": ".py",
   "mimetype": "text/x-python",
   "name": "python",
   "nbconvert_exporter": "python",
   "pygments_lexer": "ipython3",
   "version": "3.10.6"
  },
  "lcc_arn": "arn:aws:sagemaker:us-east-1:647324198242:studio-lifecycle-config/dlsg-sagemaker-kernel-on-start-d120ff"
 },
 "nbformat": 4,
 "nbformat_minor": 5
}
