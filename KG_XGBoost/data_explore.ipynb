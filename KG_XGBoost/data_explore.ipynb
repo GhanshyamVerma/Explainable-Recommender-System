{
 "cells": [
  {
   "cell_type": "code",
   "execution_count": 83,
   "metadata": {},
   "outputs": [],
   "source": [
    "import pandas as pd\n",
    "import seaborn as sns\n",
    "import matplotlib.pyplot as plt\n",
    "\n",
    "# Comment this if the data visualisations doesn't work on your side\n",
    "%matplotlib inline"
   ]
  },
  {
   "cell_type": "markdown",
   "metadata": {},
   "source": [
    "##  process test.csv and results.csv to be used for evaluation "
   ]
  },
  {
   "cell_type": "code",
   "execution_count": 3,
   "metadata": {},
   "outputs": [],
   "source": [
    "test_df = pd.read_csv('recsys_data/test.csv')\n",
    "results_df = pd.read_csv('recsys_data/results.csv')"
   ]
  },
  {
   "cell_type": "code",
   "execution_count": 4,
   "metadata": {},
   "outputs": [
    {
     "data": {
      "text/html": [
       "<div>\n",
       "<style scoped>\n",
       "    .dataframe tbody tr th:only-of-type {\n",
       "        vertical-align: middle;\n",
       "    }\n",
       "\n",
       "    .dataframe tbody tr th {\n",
       "        vertical-align: top;\n",
       "    }\n",
       "\n",
       "    .dataframe thead th {\n",
       "        text-align: right;\n",
       "    }\n",
       "</style>\n",
       "<table border=\"1\" class=\"dataframe\">\n",
       "  <thead>\n",
       "    <tr style=\"text-align: right;\">\n",
       "      <th></th>\n",
       "      <th>ip</th>\n",
       "      <th>event_date</th>\n",
       "    </tr>\n",
       "  </thead>\n",
       "  <tbody>\n",
       "    <tr>\n",
       "      <th>0</th>\n",
       "      <td>2038</td>\n",
       "      <td>2019-11-15</td>\n",
       "    </tr>\n",
       "    <tr>\n",
       "      <th>1</th>\n",
       "      <td>3226</td>\n",
       "      <td>2019-11-15</td>\n",
       "    </tr>\n",
       "    <tr>\n",
       "      <th>2</th>\n",
       "      <td>7495</td>\n",
       "      <td>2019-11-15</td>\n",
       "    </tr>\n",
       "    <tr>\n",
       "      <th>3</th>\n",
       "      <td>7750</td>\n",
       "      <td>2019-11-15</td>\n",
       "    </tr>\n",
       "    <tr>\n",
       "      <th>4</th>\n",
       "      <td>8026</td>\n",
       "      <td>2019-11-15</td>\n",
       "    </tr>\n",
       "  </tbody>\n",
       "</table>\n",
       "</div>"
      ],
      "text/plain": [
       "     ip  event_date\n",
       "0  2038  2019-11-15\n",
       "1  3226  2019-11-15\n",
       "2  7495  2019-11-15\n",
       "3  7750  2019-11-15\n",
       "4  8026  2019-11-15"
      ]
     },
     "execution_count": 4,
     "metadata": {},
     "output_type": "execute_result"
    }
   ],
   "source": [
    "test_df.head()"
   ]
  },
  {
   "cell_type": "code",
   "execution_count": 5,
   "metadata": {},
   "outputs": [
    {
     "data": {
      "text/html": [
       "<div>\n",
       "<style scoped>\n",
       "    .dataframe tbody tr th:only-of-type {\n",
       "        vertical-align: middle;\n",
       "    }\n",
       "\n",
       "    .dataframe tbody tr th {\n",
       "        vertical-align: top;\n",
       "    }\n",
       "\n",
       "    .dataframe thead th {\n",
       "        text-align: right;\n",
       "    }\n",
       "</style>\n",
       "<table border=\"1\" class=\"dataframe\">\n",
       "  <thead>\n",
       "    <tr style=\"text-align: right;\">\n",
       "      <th></th>\n",
       "      <th>ip</th>\n",
       "      <th>event_date</th>\n",
       "      <th>0</th>\n",
       "      <th>1</th>\n",
       "      <th>2</th>\n",
       "      <th>3</th>\n",
       "      <th>4</th>\n",
       "      <th>5</th>\n",
       "      <th>6</th>\n",
       "      <th>7</th>\n",
       "      <th>8</th>\n",
       "      <th>9</th>\n",
       "    </tr>\n",
       "  </thead>\n",
       "  <tbody>\n",
       "    <tr>\n",
       "      <th>0</th>\n",
       "      <td>2038</td>\n",
       "      <td>2019-11-15</td>\n",
       "      <td>tcm:526-18025</td>\n",
       "      <td>tcm:526-653510</td>\n",
       "      <td>tcm:526-346380</td>\n",
       "      <td>tcm:526-237984</td>\n",
       "      <td>tcm:526-388698</td>\n",
       "      <td>tcm:526-707567</td>\n",
       "      <td>tcm:526-704480</td>\n",
       "      <td>tcm:526-224772</td>\n",
       "      <td>tcm:526-231792</td>\n",
       "      <td>tcm:526-149043</td>\n",
       "    </tr>\n",
       "    <tr>\n",
       "      <th>1</th>\n",
       "      <td>3226</td>\n",
       "      <td>2019-11-15</td>\n",
       "      <td>tcm:526-551763</td>\n",
       "      <td>tcm:526-707527</td>\n",
       "      <td>tcm:526-249921</td>\n",
       "      <td>tcm:526-164352</td>\n",
       "      <td>tcm:526-199040</td>\n",
       "      <td>tcm:526-12167</td>\n",
       "      <td>tcm:526-276414</td>\n",
       "      <td>tcm:526-208086</td>\n",
       "      <td>tcm:526-239640</td>\n",
       "      <td>tcm:526-10787</td>\n",
       "    </tr>\n",
       "    <tr>\n",
       "      <th>2</th>\n",
       "      <td>7495</td>\n",
       "      <td>2019-11-15</td>\n",
       "      <td>tcm:526-388698</td>\n",
       "      <td>tcm:526-209028</td>\n",
       "      <td>tcm:526-191289</td>\n",
       "      <td>tcm:526-704480</td>\n",
       "      <td>tcm:526-670542</td>\n",
       "      <td>tcm:526-52560</td>\n",
       "      <td>tcm:526-346380</td>\n",
       "      <td>tcm:526-259315</td>\n",
       "      <td>tcm:526-492865</td>\n",
       "      <td>tcm:526-231792</td>\n",
       "    </tr>\n",
       "    <tr>\n",
       "      <th>3</th>\n",
       "      <td>7750</td>\n",
       "      <td>2019-11-15</td>\n",
       "      <td>tcm:526-492865</td>\n",
       "      <td>tcm:526-418532</td>\n",
       "      <td>tcm:526-93195</td>\n",
       "      <td>tcm:526-10787</td>\n",
       "      <td>tcm:526-684643</td>\n",
       "      <td>tcm:526-695181</td>\n",
       "      <td>tcm:526-249037</td>\n",
       "      <td>tcm:526-261006</td>\n",
       "      <td>tcm:526-209028</td>\n",
       "      <td>tcm:526-249921</td>\n",
       "    </tr>\n",
       "    <tr>\n",
       "      <th>4</th>\n",
       "      <td>8026</td>\n",
       "      <td>2019-11-15</td>\n",
       "      <td>tcm:526-12167</td>\n",
       "      <td>tcm:526-684643</td>\n",
       "      <td>tcm:526-782343</td>\n",
       "      <td>tcm:526-164352</td>\n",
       "      <td>tcm:526-46242</td>\n",
       "      <td>tcm:526-40469</td>\n",
       "      <td>tcm:526-784445</td>\n",
       "      <td>tcm:526-191289</td>\n",
       "      <td>tcm:526-492865</td>\n",
       "      <td>tcm:526-682379</td>\n",
       "    </tr>\n",
       "  </tbody>\n",
       "</table>\n",
       "</div>"
      ],
      "text/plain": [
       "     ip  event_date               0               1               2  \\\n",
       "0  2038  2019-11-15   tcm:526-18025  tcm:526-653510  tcm:526-346380   \n",
       "1  3226  2019-11-15  tcm:526-551763  tcm:526-707527  tcm:526-249921   \n",
       "2  7495  2019-11-15  tcm:526-388698  tcm:526-209028  tcm:526-191289   \n",
       "3  7750  2019-11-15  tcm:526-492865  tcm:526-418532   tcm:526-93195   \n",
       "4  8026  2019-11-15   tcm:526-12167  tcm:526-684643  tcm:526-782343   \n",
       "\n",
       "                3               4               5               6  \\\n",
       "0  tcm:526-237984  tcm:526-388698  tcm:526-707567  tcm:526-704480   \n",
       "1  tcm:526-164352  tcm:526-199040   tcm:526-12167  tcm:526-276414   \n",
       "2  tcm:526-704480  tcm:526-670542   tcm:526-52560  tcm:526-346380   \n",
       "3   tcm:526-10787  tcm:526-684643  tcm:526-695181  tcm:526-249037   \n",
       "4  tcm:526-164352   tcm:526-46242   tcm:526-40469  tcm:526-784445   \n",
       "\n",
       "                7               8               9  \n",
       "0  tcm:526-224772  tcm:526-231792  tcm:526-149043  \n",
       "1  tcm:526-208086  tcm:526-239640   tcm:526-10787  \n",
       "2  tcm:526-259315  tcm:526-492865  tcm:526-231792  \n",
       "3  tcm:526-261006  tcm:526-209028  tcm:526-249921  \n",
       "4  tcm:526-191289  tcm:526-492865  tcm:526-682379  "
      ]
     },
     "execution_count": 5,
     "metadata": {},
     "output_type": "execute_result"
    }
   ],
   "source": [
    "results_df.head()"
   ]
  },
  {
   "cell_type": "code",
   "execution_count": 6,
   "metadata": {},
   "outputs": [
    {
     "data": {
      "text/plain": [
       "ip            485254\n",
       "event_date         1\n",
       "dtype: int64"
      ]
     },
     "execution_count": 6,
     "metadata": {},
     "output_type": "execute_result"
    }
   ],
   "source": [
    "test_df.nunique()"
   ]
  },
  {
   "cell_type": "code",
   "execution_count": 7,
   "metadata": {},
   "outputs": [
    {
     "data": {
      "text/plain": [
       "ip            485254\n",
       "event_date         1\n",
       "0                 66\n",
       "1                 66\n",
       "2                 66\n",
       "3                 66\n",
       "4                 66\n",
       "5                 66\n",
       "6                 66\n",
       "7                 66\n",
       "8                 66\n",
       "9                 66\n",
       "dtype: int64"
      ]
     },
     "execution_count": 7,
     "metadata": {},
     "output_type": "execute_result"
    }
   ],
   "source": [
    "results_df.nunique()"
   ]
  },
  {
   "cell_type": "code",
   "execution_count": 8,
   "metadata": {},
   "outputs": [],
   "source": [
    "pro_test_df = results_df.melt(id_vars=['ip','event_date'], var_name='response_rank',value_name='tcm_id')"
   ]
  },
  {
   "cell_type": "code",
   "execution_count": 9,
   "metadata": {},
   "outputs": [],
   "source": [
    "pro_test_df = pro_test_df.sort_values(by='ip').reset_index()\n",
    "pro_test_df = pro_test_df.drop(['index'], axis=1)"
   ]
  },
  {
   "cell_type": "code",
   "execution_count": 10,
   "metadata": {},
   "outputs": [],
   "source": [
    "pro_test_df['response'] = 1"
   ]
  },
  {
   "cell_type": "code",
   "execution_count": 11,
   "metadata": {},
   "outputs": [
    {
     "data": {
      "text/html": [
       "<div>\n",
       "<style scoped>\n",
       "    .dataframe tbody tr th:only-of-type {\n",
       "        vertical-align: middle;\n",
       "    }\n",
       "\n",
       "    .dataframe tbody tr th {\n",
       "        vertical-align: top;\n",
       "    }\n",
       "\n",
       "    .dataframe thead th {\n",
       "        text-align: right;\n",
       "    }\n",
       "</style>\n",
       "<table border=\"1\" class=\"dataframe\">\n",
       "  <thead>\n",
       "    <tr style=\"text-align: right;\">\n",
       "      <th></th>\n",
       "      <th>ip</th>\n",
       "      <th>event_date</th>\n",
       "      <th>response_rank</th>\n",
       "      <th>tcm_id</th>\n",
       "      <th>response</th>\n",
       "    </tr>\n",
       "  </thead>\n",
       "  <tbody>\n",
       "    <tr>\n",
       "      <th>0</th>\n",
       "      <td>914</td>\n",
       "      <td>2019-11-15</td>\n",
       "      <td>7</td>\n",
       "      <td>tcm:526-239640</td>\n",
       "      <td>1</td>\n",
       "    </tr>\n",
       "    <tr>\n",
       "      <th>1</th>\n",
       "      <td>914</td>\n",
       "      <td>2019-11-15</td>\n",
       "      <td>3</td>\n",
       "      <td>tcm:526-551763</td>\n",
       "      <td>1</td>\n",
       "    </tr>\n",
       "    <tr>\n",
       "      <th>2</th>\n",
       "      <td>914</td>\n",
       "      <td>2019-11-15</td>\n",
       "      <td>5</td>\n",
       "      <td>tcm:526-46242</td>\n",
       "      <td>1</td>\n",
       "    </tr>\n",
       "    <tr>\n",
       "      <th>3</th>\n",
       "      <td>914</td>\n",
       "      <td>2019-11-15</td>\n",
       "      <td>2</td>\n",
       "      <td>tcm:526-782343</td>\n",
       "      <td>1</td>\n",
       "    </tr>\n",
       "    <tr>\n",
       "      <th>4</th>\n",
       "      <td>914</td>\n",
       "      <td>2019-11-15</td>\n",
       "      <td>6</td>\n",
       "      <td>tcm:526-16645</td>\n",
       "      <td>1</td>\n",
       "    </tr>\n",
       "    <tr>\n",
       "      <th>5</th>\n",
       "      <td>914</td>\n",
       "      <td>2019-11-15</td>\n",
       "      <td>1</td>\n",
       "      <td>tcm:526-388698</td>\n",
       "      <td>1</td>\n",
       "    </tr>\n",
       "    <tr>\n",
       "      <th>6</th>\n",
       "      <td>914</td>\n",
       "      <td>2019-11-15</td>\n",
       "      <td>8</td>\n",
       "      <td>tcm:526-204679</td>\n",
       "      <td>1</td>\n",
       "    </tr>\n",
       "    <tr>\n",
       "      <th>7</th>\n",
       "      <td>914</td>\n",
       "      <td>2019-11-15</td>\n",
       "      <td>9</td>\n",
       "      <td>tcm:526-209028</td>\n",
       "      <td>1</td>\n",
       "    </tr>\n",
       "    <tr>\n",
       "      <th>8</th>\n",
       "      <td>914</td>\n",
       "      <td>2019-11-15</td>\n",
       "      <td>4</td>\n",
       "      <td>tcm:526-655038</td>\n",
       "      <td>1</td>\n",
       "    </tr>\n",
       "    <tr>\n",
       "      <th>9</th>\n",
       "      <td>914</td>\n",
       "      <td>2019-11-15</td>\n",
       "      <td>0</td>\n",
       "      <td>tcm:526-40469</td>\n",
       "      <td>1</td>\n",
       "    </tr>\n",
       "    <tr>\n",
       "      <th>10</th>\n",
       "      <td>1441</td>\n",
       "      <td>2019-11-15</td>\n",
       "      <td>0</td>\n",
       "      <td>tcm:526-682379</td>\n",
       "      <td>1</td>\n",
       "    </tr>\n",
       "    <tr>\n",
       "      <th>11</th>\n",
       "      <td>1441</td>\n",
       "      <td>2019-11-15</td>\n",
       "      <td>5</td>\n",
       "      <td>tcm:526-12167</td>\n",
       "      <td>1</td>\n",
       "    </tr>\n",
       "    <tr>\n",
       "      <th>12</th>\n",
       "      <td>1441</td>\n",
       "      <td>2019-11-15</td>\n",
       "      <td>8</td>\n",
       "      <td>tcm:526-22867</td>\n",
       "      <td>1</td>\n",
       "    </tr>\n",
       "    <tr>\n",
       "      <th>13</th>\n",
       "      <td>1441</td>\n",
       "      <td>2019-11-15</td>\n",
       "      <td>2</td>\n",
       "      <td>tcm:526-273898</td>\n",
       "      <td>1</td>\n",
       "    </tr>\n",
       "    <tr>\n",
       "      <th>14</th>\n",
       "      <td>1441</td>\n",
       "      <td>2019-11-15</td>\n",
       "      <td>4</td>\n",
       "      <td>tcm:526-707527</td>\n",
       "      <td>1</td>\n",
       "    </tr>\n",
       "    <tr>\n",
       "      <th>15</th>\n",
       "      <td>1441</td>\n",
       "      <td>2019-11-15</td>\n",
       "      <td>6</td>\n",
       "      <td>tcm:526-46242</td>\n",
       "      <td>1</td>\n",
       "    </tr>\n",
       "    <tr>\n",
       "      <th>16</th>\n",
       "      <td>1441</td>\n",
       "      <td>2019-11-15</td>\n",
       "      <td>1</td>\n",
       "      <td>tcm:526-654768</td>\n",
       "      <td>1</td>\n",
       "    </tr>\n",
       "    <tr>\n",
       "      <th>17</th>\n",
       "      <td>1441</td>\n",
       "      <td>2019-11-15</td>\n",
       "      <td>7</td>\n",
       "      <td>tcm:526-258965</td>\n",
       "      <td>1</td>\n",
       "    </tr>\n",
       "    <tr>\n",
       "      <th>18</th>\n",
       "      <td>1441</td>\n",
       "      <td>2019-11-15</td>\n",
       "      <td>9</td>\n",
       "      <td>tcm:526-80807</td>\n",
       "      <td>1</td>\n",
       "    </tr>\n",
       "    <tr>\n",
       "      <th>19</th>\n",
       "      <td>1441</td>\n",
       "      <td>2019-11-15</td>\n",
       "      <td>3</td>\n",
       "      <td>tcm:526-656536</td>\n",
       "      <td>1</td>\n",
       "    </tr>\n",
       "  </tbody>\n",
       "</table>\n",
       "</div>"
      ],
      "text/plain": [
       "      ip  event_date response_rank          tcm_id  response\n",
       "0    914  2019-11-15             7  tcm:526-239640         1\n",
       "1    914  2019-11-15             3  tcm:526-551763         1\n",
       "2    914  2019-11-15             5   tcm:526-46242         1\n",
       "3    914  2019-11-15             2  tcm:526-782343         1\n",
       "4    914  2019-11-15             6   tcm:526-16645         1\n",
       "5    914  2019-11-15             1  tcm:526-388698         1\n",
       "6    914  2019-11-15             8  tcm:526-204679         1\n",
       "7    914  2019-11-15             9  tcm:526-209028         1\n",
       "8    914  2019-11-15             4  tcm:526-655038         1\n",
       "9    914  2019-11-15             0   tcm:526-40469         1\n",
       "10  1441  2019-11-15             0  tcm:526-682379         1\n",
       "11  1441  2019-11-15             5   tcm:526-12167         1\n",
       "12  1441  2019-11-15             8   tcm:526-22867         1\n",
       "13  1441  2019-11-15             2  tcm:526-273898         1\n",
       "14  1441  2019-11-15             4  tcm:526-707527         1\n",
       "15  1441  2019-11-15             6   tcm:526-46242         1\n",
       "16  1441  2019-11-15             1  tcm:526-654768         1\n",
       "17  1441  2019-11-15             7  tcm:526-258965         1\n",
       "18  1441  2019-11-15             9   tcm:526-80807         1\n",
       "19  1441  2019-11-15             3  tcm:526-656536         1"
      ]
     },
     "execution_count": 11,
     "metadata": {},
     "output_type": "execute_result"
    }
   ],
   "source": [
    "pro_test_df.head(20)"
   ]
  },
  {
   "cell_type": "code",
   "execution_count": 12,
   "metadata": {},
   "outputs": [],
   "source": [
    "test_tcm_unique = pro_test_df['tcm_id'].unique()\n",
    "test_ip_unique = pro_test_df['ip'].unique()"
   ]
  },
  {
   "cell_type": "code",
   "execution_count": 13,
   "metadata": {},
   "outputs": [
    {
     "data": {
      "text/plain": [
       "66"
      ]
     },
     "execution_count": 13,
     "metadata": {},
     "output_type": "execute_result"
    }
   ],
   "source": [
    "len(test_tcm_unique)"
   ]
  },
  {
   "cell_type": "code",
   "execution_count": 14,
   "metadata": {},
   "outputs": [
    {
     "data": {
      "text/html": [
       "<div>\n",
       "<style scoped>\n",
       "    .dataframe tbody tr th:only-of-type {\n",
       "        vertical-align: middle;\n",
       "    }\n",
       "\n",
       "    .dataframe tbody tr th {\n",
       "        vertical-align: top;\n",
       "    }\n",
       "\n",
       "    .dataframe thead th {\n",
       "        text-align: right;\n",
       "    }\n",
       "</style>\n",
       "<table border=\"1\" class=\"dataframe\">\n",
       "  <thead>\n",
       "    <tr style=\"text-align: right;\">\n",
       "      <th></th>\n",
       "      <th>tcm_id</th>\n",
       "    </tr>\n",
       "  </thead>\n",
       "  <tbody>\n",
       "    <tr>\n",
       "      <th>0</th>\n",
       "      <td>tcm:526-239640</td>\n",
       "    </tr>\n",
       "    <tr>\n",
       "      <th>1</th>\n",
       "      <td>tcm:526-551763</td>\n",
       "    </tr>\n",
       "    <tr>\n",
       "      <th>2</th>\n",
       "      <td>tcm:526-46242</td>\n",
       "    </tr>\n",
       "    <tr>\n",
       "      <th>3</th>\n",
       "      <td>tcm:526-782343</td>\n",
       "    </tr>\n",
       "    <tr>\n",
       "      <th>4</th>\n",
       "      <td>tcm:526-16645</td>\n",
       "    </tr>\n",
       "    <tr>\n",
       "      <th>...</th>\n",
       "      <td>...</td>\n",
       "    </tr>\n",
       "    <tr>\n",
       "      <th>61</th>\n",
       "      <td>tcm:526-688510</td>\n",
       "    </tr>\n",
       "    <tr>\n",
       "      <th>62</th>\n",
       "      <td>tcm:526-10849</td>\n",
       "    </tr>\n",
       "    <tr>\n",
       "      <th>63</th>\n",
       "      <td>tcm:526-418532</td>\n",
       "    </tr>\n",
       "    <tr>\n",
       "      <th>64</th>\n",
       "      <td>tcm:526-199040</td>\n",
       "    </tr>\n",
       "    <tr>\n",
       "      <th>65</th>\n",
       "      <td>tcm:526-10838</td>\n",
       "    </tr>\n",
       "  </tbody>\n",
       "</table>\n",
       "<p>66 rows × 1 columns</p>\n",
       "</div>"
      ],
      "text/plain": [
       "            tcm_id\n",
       "0   tcm:526-239640\n",
       "1   tcm:526-551763\n",
       "2    tcm:526-46242\n",
       "3   tcm:526-782343\n",
       "4    tcm:526-16645\n",
       "..             ...\n",
       "61  tcm:526-688510\n",
       "62   tcm:526-10849\n",
       "63  tcm:526-418532\n",
       "64  tcm:526-199040\n",
       "65   tcm:526-10838\n",
       "\n",
       "[66 rows x 1 columns]"
      ]
     },
     "execution_count": 14,
     "metadata": {},
     "output_type": "execute_result"
    }
   ],
   "source": [
    "test_tcm_unique=pd.DataFrame(test_tcm_unique, columns=['tcm_id'])\n",
    "test_tcm_unique"
   ]
  },
  {
   "cell_type": "code",
   "execution_count": 15,
   "metadata": {},
   "outputs": [],
   "source": [
    "test_ip_unique=pd.DataFrame(test_ip_unique, columns=['ip'])\n"
   ]
  },
  {
   "cell_type": "code",
   "execution_count": 16,
   "metadata": {},
   "outputs": [
    {
     "data": {
      "text/html": [
       "<div>\n",
       "<style scoped>\n",
       "    .dataframe tbody tr th:only-of-type {\n",
       "        vertical-align: middle;\n",
       "    }\n",
       "\n",
       "    .dataframe tbody tr th {\n",
       "        vertical-align: top;\n",
       "    }\n",
       "\n",
       "    .dataframe thead th {\n",
       "        text-align: right;\n",
       "    }\n",
       "</style>\n",
       "<table border=\"1\" class=\"dataframe\">\n",
       "  <thead>\n",
       "    <tr style=\"text-align: right;\">\n",
       "      <th></th>\n",
       "      <th>tcm_id</th>\n",
       "      <th>event_date</th>\n",
       "    </tr>\n",
       "  </thead>\n",
       "  <tbody>\n",
       "    <tr>\n",
       "      <th>0</th>\n",
       "      <td>tcm:526-239640</td>\n",
       "      <td>2019-11-15</td>\n",
       "    </tr>\n",
       "    <tr>\n",
       "      <th>1</th>\n",
       "      <td>tcm:526-551763</td>\n",
       "      <td>2019-11-15</td>\n",
       "    </tr>\n",
       "    <tr>\n",
       "      <th>2</th>\n",
       "      <td>tcm:526-46242</td>\n",
       "      <td>2019-11-15</td>\n",
       "    </tr>\n",
       "    <tr>\n",
       "      <th>3</th>\n",
       "      <td>tcm:526-782343</td>\n",
       "      <td>2019-11-15</td>\n",
       "    </tr>\n",
       "    <tr>\n",
       "      <th>4</th>\n",
       "      <td>tcm:526-16645</td>\n",
       "      <td>2019-11-15</td>\n",
       "    </tr>\n",
       "    <tr>\n",
       "      <th>...</th>\n",
       "      <td>...</td>\n",
       "      <td>...</td>\n",
       "    </tr>\n",
       "    <tr>\n",
       "      <th>61</th>\n",
       "      <td>tcm:526-688510</td>\n",
       "      <td>2019-11-15</td>\n",
       "    </tr>\n",
       "    <tr>\n",
       "      <th>62</th>\n",
       "      <td>tcm:526-10849</td>\n",
       "      <td>2019-11-15</td>\n",
       "    </tr>\n",
       "    <tr>\n",
       "      <th>63</th>\n",
       "      <td>tcm:526-418532</td>\n",
       "      <td>2019-11-15</td>\n",
       "    </tr>\n",
       "    <tr>\n",
       "      <th>64</th>\n",
       "      <td>tcm:526-199040</td>\n",
       "      <td>2019-11-15</td>\n",
       "    </tr>\n",
       "    <tr>\n",
       "      <th>65</th>\n",
       "      <td>tcm:526-10838</td>\n",
       "      <td>2019-11-15</td>\n",
       "    </tr>\n",
       "  </tbody>\n",
       "</table>\n",
       "<p>66 rows × 2 columns</p>\n",
       "</div>"
      ],
      "text/plain": [
       "            tcm_id  event_date\n",
       "0   tcm:526-239640  2019-11-15\n",
       "1   tcm:526-551763  2019-11-15\n",
       "2    tcm:526-46242  2019-11-15\n",
       "3   tcm:526-782343  2019-11-15\n",
       "4    tcm:526-16645  2019-11-15\n",
       "..             ...         ...\n",
       "61  tcm:526-688510  2019-11-15\n",
       "62   tcm:526-10849  2019-11-15\n",
       "63  tcm:526-418532  2019-11-15\n",
       "64  tcm:526-199040  2019-11-15\n",
       "65   tcm:526-10838  2019-11-15\n",
       "\n",
       "[66 rows x 2 columns]"
      ]
     },
     "execution_count": 16,
     "metadata": {},
     "output_type": "execute_result"
    }
   ],
   "source": [
    "test_tcm_unique['event_date'] = '2019-11-15'\n",
    "test_tcm_unique"
   ]
  },
  {
   "cell_type": "code",
   "execution_count": 17,
   "metadata": {},
   "outputs": [
    {
     "data": {
      "text/html": [
       "<div>\n",
       "<style scoped>\n",
       "    .dataframe tbody tr th:only-of-type {\n",
       "        vertical-align: middle;\n",
       "    }\n",
       "\n",
       "    .dataframe tbody tr th {\n",
       "        vertical-align: top;\n",
       "    }\n",
       "\n",
       "    .dataframe thead th {\n",
       "        text-align: right;\n",
       "    }\n",
       "</style>\n",
       "<table border=\"1\" class=\"dataframe\">\n",
       "  <thead>\n",
       "    <tr style=\"text-align: right;\">\n",
       "      <th></th>\n",
       "      <th>ip</th>\n",
       "      <th>event_date</th>\n",
       "    </tr>\n",
       "  </thead>\n",
       "  <tbody>\n",
       "    <tr>\n",
       "      <th>0</th>\n",
       "      <td>914</td>\n",
       "      <td>2019-11-15</td>\n",
       "    </tr>\n",
       "    <tr>\n",
       "      <th>1</th>\n",
       "      <td>1441</td>\n",
       "      <td>2019-11-15</td>\n",
       "    </tr>\n",
       "    <tr>\n",
       "      <th>2</th>\n",
       "      <td>1497</td>\n",
       "      <td>2019-11-15</td>\n",
       "    </tr>\n",
       "    <tr>\n",
       "      <th>3</th>\n",
       "      <td>1577</td>\n",
       "      <td>2019-11-15</td>\n",
       "    </tr>\n",
       "    <tr>\n",
       "      <th>4</th>\n",
       "      <td>1629</td>\n",
       "      <td>2019-11-15</td>\n",
       "    </tr>\n",
       "    <tr>\n",
       "      <th>...</th>\n",
       "      <td>...</td>\n",
       "      <td>...</td>\n",
       "    </tr>\n",
       "    <tr>\n",
       "      <th>485249</th>\n",
       "      <td>999943882</td>\n",
       "      <td>2019-11-15</td>\n",
       "    </tr>\n",
       "    <tr>\n",
       "      <th>485250</th>\n",
       "      <td>999944002</td>\n",
       "      <td>2019-11-15</td>\n",
       "    </tr>\n",
       "    <tr>\n",
       "      <th>485251</th>\n",
       "      <td>999944223</td>\n",
       "      <td>2019-11-15</td>\n",
       "    </tr>\n",
       "    <tr>\n",
       "      <th>485252</th>\n",
       "      <td>999944538</td>\n",
       "      <td>2019-11-15</td>\n",
       "    </tr>\n",
       "    <tr>\n",
       "      <th>485253</th>\n",
       "      <td>999944699</td>\n",
       "      <td>2019-11-15</td>\n",
       "    </tr>\n",
       "  </tbody>\n",
       "</table>\n",
       "<p>485254 rows × 2 columns</p>\n",
       "</div>"
      ],
      "text/plain": [
       "               ip  event_date\n",
       "0             914  2019-11-15\n",
       "1            1441  2019-11-15\n",
       "2            1497  2019-11-15\n",
       "3            1577  2019-11-15\n",
       "4            1629  2019-11-15\n",
       "...           ...         ...\n",
       "485249  999943882  2019-11-15\n",
       "485250  999944002  2019-11-15\n",
       "485251  999944223  2019-11-15\n",
       "485252  999944538  2019-11-15\n",
       "485253  999944699  2019-11-15\n",
       "\n",
       "[485254 rows x 2 columns]"
      ]
     },
     "execution_count": 17,
     "metadata": {},
     "output_type": "execute_result"
    }
   ],
   "source": [
    "test_ip_unique['event_date'] = '2019-11-15'\n",
    "test_ip_unique"
   ]
  },
  {
   "cell_type": "code",
   "execution_count": 18,
   "metadata": {},
   "outputs": [
    {
     "data": {
      "text/html": [
       "<div>\n",
       "<style scoped>\n",
       "    .dataframe tbody tr th:only-of-type {\n",
       "        vertical-align: middle;\n",
       "    }\n",
       "\n",
       "    .dataframe tbody tr th {\n",
       "        vertical-align: top;\n",
       "    }\n",
       "\n",
       "    .dataframe thead th {\n",
       "        text-align: right;\n",
       "    }\n",
       "</style>\n",
       "<table border=\"1\" class=\"dataframe\">\n",
       "  <thead>\n",
       "    <tr style=\"text-align: right;\">\n",
       "      <th></th>\n",
       "      <th>ip</th>\n",
       "      <th>event_date</th>\n",
       "      <th>tcm_id</th>\n",
       "    </tr>\n",
       "  </thead>\n",
       "  <tbody>\n",
       "    <tr>\n",
       "      <th>0</th>\n",
       "      <td>914</td>\n",
       "      <td>2019-11-15</td>\n",
       "      <td>tcm:526-239640</td>\n",
       "    </tr>\n",
       "    <tr>\n",
       "      <th>1</th>\n",
       "      <td>914</td>\n",
       "      <td>2019-11-15</td>\n",
       "      <td>tcm:526-551763</td>\n",
       "    </tr>\n",
       "    <tr>\n",
       "      <th>2</th>\n",
       "      <td>914</td>\n",
       "      <td>2019-11-15</td>\n",
       "      <td>tcm:526-46242</td>\n",
       "    </tr>\n",
       "    <tr>\n",
       "      <th>3</th>\n",
       "      <td>914</td>\n",
       "      <td>2019-11-15</td>\n",
       "      <td>tcm:526-782343</td>\n",
       "    </tr>\n",
       "    <tr>\n",
       "      <th>4</th>\n",
       "      <td>914</td>\n",
       "      <td>2019-11-15</td>\n",
       "      <td>tcm:526-16645</td>\n",
       "    </tr>\n",
       "    <tr>\n",
       "      <th>...</th>\n",
       "      <td>...</td>\n",
       "      <td>...</td>\n",
       "      <td>...</td>\n",
       "    </tr>\n",
       "    <tr>\n",
       "      <th>32026759</th>\n",
       "      <td>999944699</td>\n",
       "      <td>2019-11-15</td>\n",
       "      <td>tcm:526-688510</td>\n",
       "    </tr>\n",
       "    <tr>\n",
       "      <th>32026760</th>\n",
       "      <td>999944699</td>\n",
       "      <td>2019-11-15</td>\n",
       "      <td>tcm:526-10849</td>\n",
       "    </tr>\n",
       "    <tr>\n",
       "      <th>32026761</th>\n",
       "      <td>999944699</td>\n",
       "      <td>2019-11-15</td>\n",
       "      <td>tcm:526-418532</td>\n",
       "    </tr>\n",
       "    <tr>\n",
       "      <th>32026762</th>\n",
       "      <td>999944699</td>\n",
       "      <td>2019-11-15</td>\n",
       "      <td>tcm:526-199040</td>\n",
       "    </tr>\n",
       "    <tr>\n",
       "      <th>32026763</th>\n",
       "      <td>999944699</td>\n",
       "      <td>2019-11-15</td>\n",
       "      <td>tcm:526-10838</td>\n",
       "    </tr>\n",
       "  </tbody>\n",
       "</table>\n",
       "<p>32026764 rows × 3 columns</p>\n",
       "</div>"
      ],
      "text/plain": [
       "                 ip  event_date          tcm_id\n",
       "0               914  2019-11-15  tcm:526-239640\n",
       "1               914  2019-11-15  tcm:526-551763\n",
       "2               914  2019-11-15   tcm:526-46242\n",
       "3               914  2019-11-15  tcm:526-782343\n",
       "4               914  2019-11-15   tcm:526-16645\n",
       "...             ...         ...             ...\n",
       "32026759  999944699  2019-11-15  tcm:526-688510\n",
       "32026760  999944699  2019-11-15   tcm:526-10849\n",
       "32026761  999944699  2019-11-15  tcm:526-418532\n",
       "32026762  999944699  2019-11-15  tcm:526-199040\n",
       "32026763  999944699  2019-11-15   tcm:526-10838\n",
       "\n",
       "[32026764 rows x 3 columns]"
      ]
     },
     "execution_count": 18,
     "metadata": {},
     "output_type": "execute_result"
    }
   ],
   "source": [
    "test_all_outer = pd.merge(test_ip_unique, test_tcm_unique, on='event_date', how='outer')\n",
    "test_all_outer"
   ]
  },
  {
   "cell_type": "code",
   "execution_count": 19,
   "metadata": {},
   "outputs": [],
   "source": [
    "test_all_ip_df = pd.merge(test_all_outer, pro_test_df, on=['ip','event_date','tcm_id'], how='left')"
   ]
  },
  {
   "cell_type": "code",
   "execution_count": 20,
   "metadata": {},
   "outputs": [],
   "source": [
    "test_all_ip_df = test_all_ip_df.drop('response_rank',axis=1)"
   ]
  },
  {
   "cell_type": "code",
   "execution_count": 21,
   "metadata": {},
   "outputs": [],
   "source": [
    "test_all_ip_df['response'] = test_all_ip_df['response'].fillna(0)"
   ]
  },
  {
   "cell_type": "code",
   "execution_count": 22,
   "metadata": {},
   "outputs": [],
   "source": [
    "test_all_ip_df['response'] = test_all_ip_df['response'].astype(int)"
   ]
  },
  {
   "cell_type": "code",
   "execution_count": 23,
   "metadata": {},
   "outputs": [],
   "source": [
    "test_all_ip_df.to_csv('outputs/test_all.csv')"
   ]
  },
  {
   "cell_type": "code",
   "execution_count": 24,
   "metadata": {},
   "outputs": [
    {
     "data": {
      "text/plain": [
       "32026764"
      ]
     },
     "execution_count": 24,
     "metadata": {},
     "output_type": "execute_result"
    }
   ],
   "source": [
    "len(test_all_ip_df)"
   ]
  },
  {
   "cell_type": "code",
   "execution_count": 25,
   "metadata": {},
   "outputs": [
    {
     "data": {
      "text/plain": [
       "0    0.848485\n",
       "1    0.151515\n",
       "Name: response, dtype: float64"
      ]
     },
     "execution_count": 25,
     "metadata": {},
     "output_type": "execute_result"
    }
   ],
   "source": [
    "test_all_ip_df['response'].value_counts(normalize = True)"
   ]
  },
  {
   "cell_type": "code",
   "execution_count": 26,
   "metadata": {},
   "outputs": [
    {
     "data": {
      "text/plain": [
       "4852540"
      ]
     },
     "execution_count": 26,
     "metadata": {},
     "output_type": "execute_result"
    }
   ],
   "source": [
    "len(test_all_ip_df[test_all_ip_df['response'] == 1])"
   ]
  },
  {
   "cell_type": "code",
   "execution_count": 27,
   "metadata": {},
   "outputs": [
    {
     "data": {
      "text/plain": [
       "27174224"
      ]
     },
     "execution_count": 27,
     "metadata": {},
     "output_type": "execute_result"
    }
   ],
   "source": [
    "len(test_all_ip_df[test_all_ip_df['response'] == 0])"
   ]
  },
  {
   "cell_type": "markdown",
   "metadata": {},
   "source": [
    "## explore train.csv"
   ]
  },
  {
   "cell_type": "code",
   "execution_count": 97,
   "metadata": {},
   "outputs": [],
   "source": [
    "train_df = pd.read_csv('recsys_data/train.csv')"
   ]
  },
  {
   "cell_type": "code",
   "execution_count": 85,
   "metadata": {},
   "outputs": [
    {
     "data": {
      "text/html": [
       "<div>\n",
       "<style scoped>\n",
       "    .dataframe tbody tr th:only-of-type {\n",
       "        vertical-align: middle;\n",
       "    }\n",
       "\n",
       "    .dataframe tbody tr th {\n",
       "        vertical-align: top;\n",
       "    }\n",
       "\n",
       "    .dataframe thead th {\n",
       "        text-align: right;\n",
       "    }\n",
       "</style>\n",
       "<table border=\"1\" class=\"dataframe\">\n",
       "  <thead>\n",
       "    <tr style=\"text-align: right;\">\n",
       "      <th></th>\n",
       "      <th>ip</th>\n",
       "      <th>event_date</th>\n",
       "      <th>tcm_id</th>\n",
       "      <th>response</th>\n",
       "    </tr>\n",
       "  </thead>\n",
       "  <tbody>\n",
       "    <tr>\n",
       "      <th>0</th>\n",
       "      <td>226074906</td>\n",
       "      <td>2019-05-30</td>\n",
       "      <td>tcm:526-12174</td>\n",
       "      <td>0</td>\n",
       "    </tr>\n",
       "    <tr>\n",
       "      <th>1</th>\n",
       "      <td>226074906</td>\n",
       "      <td>2019-05-30</td>\n",
       "      <td>tcm:526-93195</td>\n",
       "      <td>0</td>\n",
       "    </tr>\n",
       "    <tr>\n",
       "      <th>2</th>\n",
       "      <td>226074906</td>\n",
       "      <td>2019-05-30</td>\n",
       "      <td>tcm:526-688510</td>\n",
       "      <td>0</td>\n",
       "    </tr>\n",
       "    <tr>\n",
       "      <th>3</th>\n",
       "      <td>226074906</td>\n",
       "      <td>2019-05-30</td>\n",
       "      <td>tcm:526-653510</td>\n",
       "      <td>0</td>\n",
       "    </tr>\n",
       "    <tr>\n",
       "      <th>4</th>\n",
       "      <td>226074906</td>\n",
       "      <td>2019-05-30</td>\n",
       "      <td>tcm:526-46242</td>\n",
       "      <td>0</td>\n",
       "    </tr>\n",
       "  </tbody>\n",
       "</table>\n",
       "</div>"
      ],
      "text/plain": [
       "          ip  event_date          tcm_id  response\n",
       "0  226074906  2019-05-30   tcm:526-12174         0\n",
       "1  226074906  2019-05-30   tcm:526-93195         0\n",
       "2  226074906  2019-05-30  tcm:526-688510         0\n",
       "3  226074906  2019-05-30  tcm:526-653510         0\n",
       "4  226074906  2019-05-30   tcm:526-46242         0"
      ]
     },
     "execution_count": 85,
     "metadata": {},
     "output_type": "execute_result"
    }
   ],
   "source": [
    "train_df.head()"
   ]
  },
  {
   "cell_type": "code",
   "execution_count": 86,
   "metadata": {},
   "outputs": [
    {
     "name": "stdout",
     "output_type": "stream",
     "text": [
      "<class 'pandas.core.frame.DataFrame'>\n",
      "RangeIndex: 38805521 entries, 0 to 38805520\n",
      "Data columns (total 4 columns):\n",
      " #   Column      Dtype \n",
      "---  ------      ----- \n",
      " 0   ip          int64 \n",
      " 1   event_date  object\n",
      " 2   tcm_id      object\n",
      " 3   response    int64 \n",
      "dtypes: int64(2), object(2)\n",
      "memory usage: 1.2+ GB\n"
     ]
    }
   ],
   "source": [
    "train_df.info()"
   ]
  },
  {
   "cell_type": "code",
   "execution_count": 87,
   "metadata": {},
   "outputs": [
    {
     "data": {
      "text/plain": [
       "ip            485254\n",
       "event_date        10\n",
       "tcm_id            66\n",
       "response           2\n",
       "dtype: int64"
      ]
     },
     "execution_count": 87,
     "metadata": {},
     "output_type": "execute_result"
    }
   ],
   "source": [
    "train_df.nunique()"
   ]
  },
  {
   "cell_type": "code",
   "execution_count": 88,
   "metadata": {},
   "outputs": [
    {
     "data": {
      "text/plain": [
       "0    98.905117\n",
       "1     1.094883\n",
       "Name: response, dtype: float64"
      ]
     },
     "execution_count": 88,
     "metadata": {},
     "output_type": "execute_result"
    }
   ],
   "source": [
    "train_df['response'].value_counts(normalize=True) * 100"
   ]
  },
  {
   "cell_type": "code",
   "execution_count": 89,
   "metadata": {},
   "outputs": [
    {
     "data": {
      "text/plain": [
       "<matplotlib.axes._subplots.AxesSubplot at 0x7f85bcc54750>"
      ]
     },
     "execution_count": 89,
     "metadata": {},
     "output_type": "execute_result"
    },
    {
     "data": {
      "image/png": "[encoded data removed]",
      "text/plain": [
       "<Figure size 400x900 with 1 Axes>"
      ]
     },
     "metadata": {},
     "output_type": "display_data"
    }
   ],
   "source": [
    "train_df.groupby('event_date').size().plot(kind='bar')"
   ]
  },
  {
   "cell_type": "code",
   "execution_count": 90,
   "metadata": {},
   "outputs": [
    {
     "data": {
      "text/plain": [
       "Text(0, 0.5, 'No. of clicks')"
      ]
     },
     "execution_count": 90,
     "metadata": {},
     "output_type": "execute_result"
    },
    {
     "data": {
      "image/png": "[encoded data removed]",
      "text/plain": [
       "<Figure size 700x500 with 1 Axes>"
      ]
     },
     "metadata": {},
     "output_type": "display_data"
    }
   ],
   "source": [
    "plt.rcParams[\"figure.figsize\"] = (7,5)\n",
    "train_df[train_df['response'] == 1].groupby('event_date').size().plot(kind='bar')\n",
    "plt.ylabel('No. of clicks')"
   ]
  },
  {
   "cell_type": "code",
   "execution_count": 91,
   "metadata": {},
   "outputs": [
    {
     "data": {
      "text/plain": [
       "66"
      ]
     },
     "execution_count": 91,
     "metadata": {},
     "output_type": "execute_result"
    }
   ],
   "source": [
    "tcm_id_list = set(train_df['tcm_id'])\n",
    "len(tcm_id_list)"
   ]
  },
  {
   "cell_type": "code",
   "execution_count": 103,
   "metadata": {},
   "outputs": [],
   "source": [
    "train_click_df = train_df[train_df['response'] == 1].groupby('ip').size().reset_index(name='num_clicks').copy()\n",
    "train_click_df.sort_values(by ='num_clicks', inplace = True, ascending = False)\n",
    "train_click_top1k_df = train_click_df.head(1000)['ip'].copy()\n",
    "train_click_top1k_df = train_click_top1k_df.reset_index(drop = True)"
   ]
  },
  {
   "cell_type": "code",
   "execution_count": 105,
   "metadata": {},
   "outputs": [
    {
     "data": {
      "text/plain": [
       "ip            1000\n",
       "event_date      10\n",
       "tcm_id          66\n",
       "response         2\n",
       "dtype: int64"
      ]
     },
     "execution_count": 105,
     "metadata": {},
     "output_type": "execute_result"
    }
   ],
   "source": [
    "train_top_1k_df = train_df.merge(train_click_top1k_df.to_frame() , on = 'ip')\n",
    "train_top_1k_df.nunique()"
   ]
  },
  {
   "cell_type": "code",
   "execution_count": 106,
   "metadata": {},
   "outputs": [
    {
     "data": {
      "text/html": [
       "<div>\n",
       "<style scoped>\n",
       "    .dataframe tbody tr th:only-of-type {\n",
       "        vertical-align: middle;\n",
       "    }\n",
       "\n",
       "    .dataframe tbody tr th {\n",
       "        vertical-align: top;\n",
       "    }\n",
       "\n",
       "    .dataframe thead th {\n",
       "        text-align: right;\n",
       "    }\n",
       "</style>\n",
       "<table border=\"1\" class=\"dataframe\">\n",
       "  <thead>\n",
       "    <tr style=\"text-align: right;\">\n",
       "      <th></th>\n",
       "      <th>ip</th>\n",
       "      <th>event_date</th>\n",
       "      <th>tcm_id</th>\n",
       "      <th>response</th>\n",
       "    </tr>\n",
       "  </thead>\n",
       "  <tbody>\n",
       "    <tr>\n",
       "      <th>0</th>\n",
       "      <td>226656708</td>\n",
       "      <td>2019-08-28</td>\n",
       "      <td>tcm:526-116442</td>\n",
       "      <td>0</td>\n",
       "    </tr>\n",
       "    <tr>\n",
       "      <th>1</th>\n",
       "      <td>226656708</td>\n",
       "      <td>2019-08-28</td>\n",
       "      <td>tcm:526-12174</td>\n",
       "      <td>0</td>\n",
       "    </tr>\n",
       "    <tr>\n",
       "      <th>2</th>\n",
       "      <td>226656708</td>\n",
       "      <td>2019-08-28</td>\n",
       "      <td>tcm:526-13782</td>\n",
       "      <td>0</td>\n",
       "    </tr>\n",
       "    <tr>\n",
       "      <th>3</th>\n",
       "      <td>226656708</td>\n",
       "      <td>2019-08-28</td>\n",
       "      <td>tcm:526-208086</td>\n",
       "      <td>0</td>\n",
       "    </tr>\n",
       "    <tr>\n",
       "      <th>4</th>\n",
       "      <td>226656708</td>\n",
       "      <td>2019-08-28</td>\n",
       "      <td>tcm:526-199040</td>\n",
       "      <td>0</td>\n",
       "    </tr>\n",
       "  </tbody>\n",
       "</table>\n",
       "</div>"
      ],
      "text/plain": [
       "          ip  event_date          tcm_id  response\n",
       "0  226656708  2019-08-28  tcm:526-116442         0\n",
       "1  226656708  2019-08-28   tcm:526-12174         0\n",
       "2  226656708  2019-08-28   tcm:526-13782         0\n",
       "3  226656708  2019-08-28  tcm:526-208086         0\n",
       "4  226656708  2019-08-28  tcm:526-199040         0"
      ]
     },
     "execution_count": 106,
     "metadata": {},
     "output_type": "execute_result"
    }
   ],
   "source": [
    "train_top_1k_df.head()"
   ]
  },
  {
   "cell_type": "code",
   "execution_count": 107,
   "metadata": {},
   "outputs": [
    {
     "data": {
      "text/plain": [
       "0    87.76248\n",
       "1    12.23752\n",
       "Name: response, dtype: float64"
      ]
     },
     "execution_count": 107,
     "metadata": {},
     "output_type": "execute_result"
    }
   ],
   "source": [
    "train_top_1k_df['response'].value_counts(normalize=True) * 100"
   ]
  },
  {
   "cell_type": "code",
   "execution_count": 109,
   "metadata": {},
   "outputs": [],
   "source": [
    "test_all_df = pd.read_csv('outputs/test_all.csv')"
   ]
  },
  {
   "cell_type": "code",
   "execution_count": 112,
   "metadata": {},
   "outputs": [
    {
     "data": {
      "text/plain": [
       "ip            1000\n",
       "event_date       1\n",
       "tcm_id          66\n",
       "response         2\n",
       "dtype: int64"
      ]
     },
     "execution_count": 112,
     "metadata": {},
     "output_type": "execute_result"
    }
   ],
   "source": [
    "test_top_1k_df = test_all_df.merge(train_click_top1k_df.to_frame() , on = 'ip')\n",
    "test_top_1k_df = test_top_1k_df.drop('Unnamed: 0',axis =1)\n",
    "test_top_1k_df.nunique()"
   ]
  },
  {
   "cell_type": "code",
   "execution_count": 113,
   "metadata": {},
   "outputs": [
    {
     "data": {
      "text/plain": [
       "0    84.848485\n",
       "1    15.151515\n",
       "Name: response, dtype: float64"
      ]
     },
     "execution_count": 113,
     "metadata": {},
     "output_type": "execute_result"
    }
   ],
   "source": [
    "test_top_1k_df['response'].value_counts(normalize=True) * 100"
   ]
  },
  {
   "cell_type": "code",
   "execution_count": 115,
   "metadata": {},
   "outputs": [
    {
     "name": "stdout",
     "output_type": "stream",
     "text": [
      "80768 66000\n"
     ]
    }
   ],
   "source": [
    "print(len(train_top_1k_df),len(test_top_1k_df))"
   ]
  },
  {
   "cell_type": "code",
   "execution_count": 114,
   "metadata": {},
   "outputs": [],
   "source": [
    "train_top_1k_df.to_csv('outputs/train_dv5.csv')\n",
    "test_top_1k_df.to_csv('outputs/test_dv5.csv')"
   ]
  },
  {
   "cell_type": "code",
   "execution_count": 46,
   "metadata": {},
   "outputs": [],
   "source": [
    "unique_articles = train_df.groupby('ip')['tcm_id'].nunique().reset_index(name='unique_articles')"
   ]
  },
  {
   "cell_type": "code",
   "execution_count": 47,
   "metadata": {},
   "outputs": [
    {
     "name": "stdout",
     "output_type": "stream",
     "text": [
      "55.75351465418111\n",
      "Min articles: 41\n",
      "Max articles: 66\n"
     ]
    }
   ],
   "source": [
    "print(unique_articles['unique_articles'].sum() / len(unique_articles['unique_articles']))\n",
    "print(\"Min articles:\",unique_articles['unique_articles'].min())\n",
    "print(\"Max articles:\",unique_articles['unique_articles'].max())"
   ]
  },
  {
   "cell_type": "code",
   "execution_count": 48,
   "metadata": {},
   "outputs": [
    {
     "data": {
      "text/html": [
       "<div>\n",
       "<style scoped>\n",
       "    .dataframe tbody tr th:only-of-type {\n",
       "        vertical-align: middle;\n",
       "    }\n",
       "\n",
       "    .dataframe tbody tr th {\n",
       "        vertical-align: top;\n",
       "    }\n",
       "\n",
       "    .dataframe thead th {\n",
       "        text-align: right;\n",
       "    }\n",
       "</style>\n",
       "<table border=\"1\" class=\"dataframe\">\n",
       "  <thead>\n",
       "    <tr style=\"text-align: right;\">\n",
       "      <th></th>\n",
       "      <th>Number of clicks</th>\n",
       "      <th>customer count</th>\n",
       "    </tr>\n",
       "  </thead>\n",
       "  <tbody>\n",
       "    <tr>\n",
       "      <th>0</th>\n",
       "      <td>1</td>\n",
       "      <td>173292</td>\n",
       "    </tr>\n",
       "    <tr>\n",
       "      <th>1</th>\n",
       "      <td>2</td>\n",
       "      <td>51616</td>\n",
       "    </tr>\n",
       "    <tr>\n",
       "      <th>2</th>\n",
       "      <td>3</td>\n",
       "      <td>20375</td>\n",
       "    </tr>\n",
       "    <tr>\n",
       "      <th>3</th>\n",
       "      <td>4</td>\n",
       "      <td>8635</td>\n",
       "    </tr>\n",
       "    <tr>\n",
       "      <th>4</th>\n",
       "      <td>5</td>\n",
       "      <td>4045</td>\n",
       "    </tr>\n",
       "    <tr>\n",
       "      <th>5</th>\n",
       "      <td>6</td>\n",
       "      <td>2060</td>\n",
       "    </tr>\n",
       "    <tr>\n",
       "      <th>6</th>\n",
       "      <td>7</td>\n",
       "      <td>1015</td>\n",
       "    </tr>\n",
       "    <tr>\n",
       "      <th>7</th>\n",
       "      <td>8</td>\n",
       "      <td>616</td>\n",
       "    </tr>\n",
       "    <tr>\n",
       "      <th>8</th>\n",
       "      <td>9</td>\n",
       "      <td>310</td>\n",
       "    </tr>\n",
       "    <tr>\n",
       "      <th>9</th>\n",
       "      <td>10</td>\n",
       "      <td>196</td>\n",
       "    </tr>\n",
       "    <tr>\n",
       "      <th>10</th>\n",
       "      <td>11</td>\n",
       "      <td>110</td>\n",
       "    </tr>\n",
       "    <tr>\n",
       "      <th>11</th>\n",
       "      <td>12</td>\n",
       "      <td>62</td>\n",
       "    </tr>\n",
       "    <tr>\n",
       "      <th>12</th>\n",
       "      <td>13</td>\n",
       "      <td>43</td>\n",
       "    </tr>\n",
       "    <tr>\n",
       "      <th>13</th>\n",
       "      <td>14</td>\n",
       "      <td>23</td>\n",
       "    </tr>\n",
       "    <tr>\n",
       "      <th>14</th>\n",
       "      <td>15</td>\n",
       "      <td>13</td>\n",
       "    </tr>\n",
       "    <tr>\n",
       "      <th>15</th>\n",
       "      <td>16</td>\n",
       "      <td>4</td>\n",
       "    </tr>\n",
       "    <tr>\n",
       "      <th>16</th>\n",
       "      <td>17</td>\n",
       "      <td>4</td>\n",
       "    </tr>\n",
       "    <tr>\n",
       "      <th>17</th>\n",
       "      <td>18</td>\n",
       "      <td>4</td>\n",
       "    </tr>\n",
       "    <tr>\n",
       "      <th>18</th>\n",
       "      <td>20</td>\n",
       "      <td>2</td>\n",
       "    </tr>\n",
       "    <tr>\n",
       "      <th>19</th>\n",
       "      <td>21</td>\n",
       "      <td>1</td>\n",
       "    </tr>\n",
       "    <tr>\n",
       "      <th>20</th>\n",
       "      <td>23</td>\n",
       "      <td>1</td>\n",
       "    </tr>\n",
       "  </tbody>\n",
       "</table>\n",
       "</div>"
      ],
      "text/plain": [
       "    Number of clicks  customer count\n",
       "0                  1          173292\n",
       "1                  2           51616\n",
       "2                  3           20375\n",
       "3                  4            8635\n",
       "4                  5            4045\n",
       "5                  6            2060\n",
       "6                  7            1015\n",
       "7                  8             616\n",
       "8                  9             310\n",
       "9                 10             196\n",
       "10                11             110\n",
       "11                12              62\n",
       "12                13              43\n",
       "13                14              23\n",
       "14                15              13\n",
       "15                16               4\n",
       "16                17               4\n",
       "17                18               4\n",
       "18                20               2\n",
       "19                21               1\n",
       "20                23               1"
      ]
     },
     "execution_count": 48,
     "metadata": {},
     "output_type": "execute_result"
    }
   ],
   "source": [
    "train_df[train_df['response'] == 1].groupby('ip').size().reset_index(name='Number of clicks').groupby('Number of clicks').size().reset_index(name='customer count')"
   ]
  },
  {
   "cell_type": "code",
   "execution_count": 49,
   "metadata": {},
   "outputs": [
    {
     "name": "stdout",
     "output_type": "stream",
     "text": [
      "# users with at least 5 interactions: 8509\n"
     ]
    }
   ],
   "source": [
    "users_clicks_count_df = train_df[train_df['response'] == 1].groupby(['ip']).size().reset_index(name='click_count')\n",
    "\n",
    "\n",
    "print('# users with at least 5 interactions: %d' % len(users_clicks_count_df[users_clicks_count_df['click_count'] >= 5]))"
   ]
  },
  {
   "cell_type": "code",
   "execution_count": 50,
   "metadata": {},
   "outputs": [],
   "source": [
    "\n",
    "tcm_clicks_count_df = train_df[train_df['response'] == 1].groupby('tcm_id').size().reset_index(name='tcm_click_count').sort_values( ['tcm_click_count'],ascending=False)"
   ]
  },
  {
   "cell_type": "code",
   "execution_count": 51,
   "metadata": {},
   "outputs": [],
   "source": [
    "tcm_over_time_clicked_df = train_df[train_df['response'] == 1].groupby(['tcm_id','event_date']).size().reset_index(name='tcm_count')\n",
    "tcm_over_time_clicked_df.to_csv('tcm_over_time_clicked_df.csv')"
   ]
  },
  {
   "cell_type": "code",
   "execution_count": 52,
   "metadata": {},
   "outputs": [],
   "source": [
    "tcm_over_time_df = train_df.groupby(['tcm_id','event_date']).size().reset_index(name='tcm_count')"
   ]
  },
  {
   "cell_type": "code",
   "execution_count": 53,
   "metadata": {},
   "outputs": [],
   "source": [
    "tcm_over_time_df.to_csv('tcm_over_time.csv')"
   ]
  },
  {
   "cell_type": "code",
   "execution_count": 54,
   "metadata": {},
   "outputs": [
    {
     "data": {
      "text/html": [
       "<div>\n",
       "<style scoped>\n",
       "    .dataframe tbody tr th:only-of-type {\n",
       "        vertical-align: middle;\n",
       "    }\n",
       "\n",
       "    .dataframe tbody tr th {\n",
       "        vertical-align: top;\n",
       "    }\n",
       "\n",
       "    .dataframe thead th {\n",
       "        text-align: right;\n",
       "    }\n",
       "</style>\n",
       "<table border=\"1\" class=\"dataframe\">\n",
       "  <thead>\n",
       "    <tr style=\"text-align: right;\">\n",
       "      <th></th>\n",
       "      <th>tcm_id</th>\n",
       "      <th>tcm_click_count</th>\n",
       "      <th>tcm_popularity</th>\n",
       "    </tr>\n",
       "  </thead>\n",
       "  <tbody>\n",
       "    <tr>\n",
       "      <th>65</th>\n",
       "      <td>tcm:526-93195</td>\n",
       "      <td>42597</td>\n",
       "      <td>0.100258</td>\n",
       "    </tr>\n",
       "    <tr>\n",
       "      <th>17</th>\n",
       "      <td>tcm:526-208086</td>\n",
       "      <td>27593</td>\n",
       "      <td>0.064944</td>\n",
       "    </tr>\n",
       "    <tr>\n",
       "      <th>5</th>\n",
       "      <td>tcm:526-12174</td>\n",
       "      <td>23693</td>\n",
       "      <td>0.055765</td>\n",
       "    </tr>\n",
       "    <tr>\n",
       "      <th>43</th>\n",
       "      <td>tcm:526-551763</td>\n",
       "      <td>22362</td>\n",
       "      <td>0.052632</td>\n",
       "    </tr>\n",
       "    <tr>\n",
       "      <th>22</th>\n",
       "      <td>tcm:526-22867</td>\n",
       "      <td>18931</td>\n",
       "      <td>0.044557</td>\n",
       "    </tr>\n",
       "    <tr>\n",
       "      <th>...</th>\n",
       "      <td>...</td>\n",
       "      <td>...</td>\n",
       "      <td>...</td>\n",
       "    </tr>\n",
       "    <tr>\n",
       "      <th>46</th>\n",
       "      <td>tcm:526-655038</td>\n",
       "      <td>678</td>\n",
       "      <td>0.001596</td>\n",
       "    </tr>\n",
       "    <tr>\n",
       "      <th>29</th>\n",
       "      <td>tcm:526-249921</td>\n",
       "      <td>560</td>\n",
       "      <td>0.001318</td>\n",
       "    </tr>\n",
       "    <tr>\n",
       "      <th>42</th>\n",
       "      <td>tcm:526-52560</td>\n",
       "      <td>535</td>\n",
       "      <td>0.001259</td>\n",
       "    </tr>\n",
       "    <tr>\n",
       "      <th>19</th>\n",
       "      <td>tcm:526-209216</td>\n",
       "      <td>438</td>\n",
       "      <td>0.001031</td>\n",
       "    </tr>\n",
       "    <tr>\n",
       "      <th>16</th>\n",
       "      <td>tcm:526-204679</td>\n",
       "      <td>303</td>\n",
       "      <td>0.000713</td>\n",
       "    </tr>\n",
       "  </tbody>\n",
       "</table>\n",
       "<p>66 rows × 3 columns</p>\n",
       "</div>"
      ],
      "text/plain": [
       "            tcm_id  tcm_click_count  tcm_popularity\n",
       "65   tcm:526-93195            42597        0.100258\n",
       "17  tcm:526-208086            27593        0.064944\n",
       "5    tcm:526-12174            23693        0.055765\n",
       "43  tcm:526-551763            22362        0.052632\n",
       "22   tcm:526-22867            18931        0.044557\n",
       "..             ...              ...             ...\n",
       "46  tcm:526-655038              678        0.001596\n",
       "29  tcm:526-249921              560        0.001318\n",
       "42   tcm:526-52560              535        0.001259\n",
       "19  tcm:526-209216              438        0.001031\n",
       "16  tcm:526-204679              303        0.000713\n",
       "\n",
       "[66 rows x 3 columns]"
      ]
     },
     "execution_count": 54,
     "metadata": {},
     "output_type": "execute_result"
    }
   ],
   "source": [
    "tcm_clicks_count_df['tcm_popularity'] = tcm_clicks_count_df['tcm_click_count'] / tcm_clicks_count_df['tcm_click_count'].sum()\n",
    "tcm_clicks_count_df"
   ]
  },
  {
   "cell_type": "code",
   "execution_count": 56,
   "metadata": {},
   "outputs": [
    {
     "data": {
      "text/plain": [
       "<matplotlib.axes._subplots.AxesSubplot at 0x7f85bd9bbb50>"
      ]
     },
     "execution_count": 56,
     "metadata": {},
     "output_type": "execute_result"
    },
    {
     "data": {
      "image/png": "[encoded data removed]",
      "text/plain": [
       "<Figure size 400x900 with 1 Axes>"
      ]
     },
     "metadata": {},
     "output_type": "display_data"
    }
   ],
   "source": [
    "\n",
    "plt.rcParams[\"figure.figsize\"] = (4,9)\n",
    "tcm_clicks_count_df.plot.barh(x='tcm_id',y='tcm_click_count')"
   ]
  },
  {
   "cell_type": "code",
   "execution_count": 22,
   "metadata": {},
   "outputs": [
    {
     "data": {
      "text/html": [
       "<div>\n",
       "<style scoped>\n",
       "    .dataframe tbody tr th:only-of-type {\n",
       "        vertical-align: middle;\n",
       "    }\n",
       "\n",
       "    .dataframe tbody tr th {\n",
       "        vertical-align: top;\n",
       "    }\n",
       "\n",
       "    .dataframe thead th {\n",
       "        text-align: right;\n",
       "    }\n",
       "</style>\n",
       "<table border=\"1\" class=\"dataframe\">\n",
       "  <thead>\n",
       "    <tr style=\"text-align: right;\">\n",
       "      <th></th>\n",
       "      <th>ip</th>\n",
       "      <th>event_date</th>\n",
       "    </tr>\n",
       "  </thead>\n",
       "  <tbody>\n",
       "    <tr>\n",
       "      <th>0</th>\n",
       "      <td>2038</td>\n",
       "      <td>2019-11-15</td>\n",
       "    </tr>\n",
       "    <tr>\n",
       "      <th>1</th>\n",
       "      <td>3226</td>\n",
       "      <td>2019-11-15</td>\n",
       "    </tr>\n",
       "    <tr>\n",
       "      <th>2</th>\n",
       "      <td>7495</td>\n",
       "      <td>2019-11-15</td>\n",
       "    </tr>\n",
       "    <tr>\n",
       "      <th>3</th>\n",
       "      <td>7750</td>\n",
       "      <td>2019-11-15</td>\n",
       "    </tr>\n",
       "    <tr>\n",
       "      <th>4</th>\n",
       "      <td>8026</td>\n",
       "      <td>2019-11-15</td>\n",
       "    </tr>\n",
       "  </tbody>\n",
       "</table>\n",
       "</div>"
      ],
      "text/plain": [
       "     ip  event_date\n",
       "0  2038  2019-11-15\n",
       "1  3226  2019-11-15\n",
       "2  7495  2019-11-15\n",
       "3  7750  2019-11-15\n",
       "4  8026  2019-11-15"
      ]
     },
     "execution_count": 22,
     "metadata": {},
     "output_type": "execute_result"
    }
   ],
   "source": [
    "test_df = pd.read_csv('recsys_data/test.csv')\n",
    "test_df.head()"
   ]
  },
  {
   "cell_type": "code",
   "execution_count": 23,
   "metadata": {},
   "outputs": [
    {
     "data": {
      "text/plain": [
       "event_date\n",
       "2019-11-15    485254\n",
       "dtype: int64"
      ]
     },
     "execution_count": 23,
     "metadata": {},
     "output_type": "execute_result"
    }
   ],
   "source": [
    "test_df.groupby('event_date').size()"
   ]
  },
  {
   "cell_type": "code",
   "execution_count": 24,
   "metadata": {},
   "outputs": [
    {
     "data": {
      "text/html": [
       "<div>\n",
       "<style scoped>\n",
       "    .dataframe tbody tr th:only-of-type {\n",
       "        vertical-align: middle;\n",
       "    }\n",
       "\n",
       "    .dataframe tbody tr th {\n",
       "        vertical-align: top;\n",
       "    }\n",
       "\n",
       "    .dataframe thead th {\n",
       "        text-align: right;\n",
       "    }\n",
       "</style>\n",
       "<table border=\"1\" class=\"dataframe\">\n",
       "  <thead>\n",
       "    <tr style=\"text-align: right;\">\n",
       "      <th></th>\n",
       "      <th>ip</th>\n",
       "      <th>event_date</th>\n",
       "      <th>0</th>\n",
       "      <th>1</th>\n",
       "      <th>2</th>\n",
       "      <th>3</th>\n",
       "      <th>4</th>\n",
       "      <th>5</th>\n",
       "      <th>6</th>\n",
       "      <th>7</th>\n",
       "      <th>8</th>\n",
       "      <th>9</th>\n",
       "    </tr>\n",
       "  </thead>\n",
       "  <tbody>\n",
       "    <tr>\n",
       "      <th>0</th>\n",
       "      <td>2038</td>\n",
       "      <td>2019-11-15</td>\n",
       "      <td>tcm:526-18025</td>\n",
       "      <td>tcm:526-653510</td>\n",
       "      <td>tcm:526-346380</td>\n",
       "      <td>tcm:526-237984</td>\n",
       "      <td>tcm:526-388698</td>\n",
       "      <td>tcm:526-707567</td>\n",
       "      <td>tcm:526-704480</td>\n",
       "      <td>tcm:526-224772</td>\n",
       "      <td>tcm:526-231792</td>\n",
       "      <td>tcm:526-149043</td>\n",
       "    </tr>\n",
       "    <tr>\n",
       "      <th>1</th>\n",
       "      <td>3226</td>\n",
       "      <td>2019-11-15</td>\n",
       "      <td>tcm:526-551763</td>\n",
       "      <td>tcm:526-707527</td>\n",
       "      <td>tcm:526-249921</td>\n",
       "      <td>tcm:526-164352</td>\n",
       "      <td>tcm:526-199040</td>\n",
       "      <td>tcm:526-12167</td>\n",
       "      <td>tcm:526-276414</td>\n",
       "      <td>tcm:526-208086</td>\n",
       "      <td>tcm:526-239640</td>\n",
       "      <td>tcm:526-10787</td>\n",
       "    </tr>\n",
       "    <tr>\n",
       "      <th>2</th>\n",
       "      <td>7495</td>\n",
       "      <td>2019-11-15</td>\n",
       "      <td>tcm:526-388698</td>\n",
       "      <td>tcm:526-209028</td>\n",
       "      <td>tcm:526-191289</td>\n",
       "      <td>tcm:526-704480</td>\n",
       "      <td>tcm:526-670542</td>\n",
       "      <td>tcm:526-52560</td>\n",
       "      <td>tcm:526-346380</td>\n",
       "      <td>tcm:526-259315</td>\n",
       "      <td>tcm:526-492865</td>\n",
       "      <td>tcm:526-231792</td>\n",
       "    </tr>\n",
       "    <tr>\n",
       "      <th>3</th>\n",
       "      <td>7750</td>\n",
       "      <td>2019-11-15</td>\n",
       "      <td>tcm:526-492865</td>\n",
       "      <td>tcm:526-418532</td>\n",
       "      <td>tcm:526-93195</td>\n",
       "      <td>tcm:526-10787</td>\n",
       "      <td>tcm:526-684643</td>\n",
       "      <td>tcm:526-695181</td>\n",
       "      <td>tcm:526-249037</td>\n",
       "      <td>tcm:526-261006</td>\n",
       "      <td>tcm:526-209028</td>\n",
       "      <td>tcm:526-249921</td>\n",
       "    </tr>\n",
       "    <tr>\n",
       "      <th>4</th>\n",
       "      <td>8026</td>\n",
       "      <td>2019-11-15</td>\n",
       "      <td>tcm:526-12167</td>\n",
       "      <td>tcm:526-684643</td>\n",
       "      <td>tcm:526-782343</td>\n",
       "      <td>tcm:526-164352</td>\n",
       "      <td>tcm:526-46242</td>\n",
       "      <td>tcm:526-40469</td>\n",
       "      <td>tcm:526-784445</td>\n",
       "      <td>tcm:526-191289</td>\n",
       "      <td>tcm:526-492865</td>\n",
       "      <td>tcm:526-682379</td>\n",
       "    </tr>\n",
       "  </tbody>\n",
       "</table>\n",
       "</div>"
      ],
      "text/plain": [
       "     ip  event_date               0               1               2  \\\n",
       "0  2038  2019-11-15   tcm:526-18025  tcm:526-653510  tcm:526-346380   \n",
       "1  3226  2019-11-15  tcm:526-551763  tcm:526-707527  tcm:526-249921   \n",
       "2  7495  2019-11-15  tcm:526-388698  tcm:526-209028  tcm:526-191289   \n",
       "3  7750  2019-11-15  tcm:526-492865  tcm:526-418532   tcm:526-93195   \n",
       "4  8026  2019-11-15   tcm:526-12167  tcm:526-684643  tcm:526-782343   \n",
       "\n",
       "                3               4               5               6  \\\n",
       "0  tcm:526-237984  tcm:526-388698  tcm:526-707567  tcm:526-704480   \n",
       "1  tcm:526-164352  tcm:526-199040   tcm:526-12167  tcm:526-276414   \n",
       "2  tcm:526-704480  tcm:526-670542   tcm:526-52560  tcm:526-346380   \n",
       "3   tcm:526-10787  tcm:526-684643  tcm:526-695181  tcm:526-249037   \n",
       "4  tcm:526-164352   tcm:526-46242   tcm:526-40469  tcm:526-784445   \n",
       "\n",
       "                7               8               9  \n",
       "0  tcm:526-224772  tcm:526-231792  tcm:526-149043  \n",
       "1  tcm:526-208086  tcm:526-239640   tcm:526-10787  \n",
       "2  tcm:526-259315  tcm:526-492865  tcm:526-231792  \n",
       "3  tcm:526-261006  tcm:526-209028  tcm:526-249921  \n",
       "4  tcm:526-191289  tcm:526-492865  tcm:526-682379  "
      ]
     },
     "execution_count": 24,
     "metadata": {},
     "output_type": "execute_result"
    }
   ],
   "source": [
    "results_df = pd.read_csv('recsys_data/results.csv')\n",
    "results_df.head()"
   ]
  },
  {
   "cell_type": "code",
   "execution_count": 25,
   "metadata": {},
   "outputs": [
    {
     "name": "stdout",
     "output_type": "stream",
     "text": [
      "<class 'pandas.core.frame.DataFrame'>\n",
      "RangeIndex: 485254 entries, 0 to 485253\n",
      "Data columns (total 12 columns):\n",
      " #   Column      Non-Null Count   Dtype \n",
      "---  ------      --------------   ----- \n",
      " 0   ip          485254 non-null  int64 \n",
      " 1   event_date  485254 non-null  object\n",
      " 2   0           485254 non-null  object\n",
      " 3   1           485254 non-null  object\n",
      " 4   2           485254 non-null  object\n",
      " 5   3           485254 non-null  object\n",
      " 6   4           485254 non-null  object\n",
      " 7   5           485254 non-null  object\n",
      " 8   6           485254 non-null  object\n",
      " 9   7           485254 non-null  object\n",
      " 10  8           485254 non-null  object\n",
      " 11  9           485254 non-null  object\n",
      "dtypes: int64(1), object(11)\n",
      "memory usage: 44.4+ MB\n"
     ]
    }
   ],
   "source": [
    "results_df.info()"
   ]
  },
  {
   "cell_type": "code",
   "execution_count": 4,
   "metadata": {},
   "outputs": [
    {
     "data": {
      "text/html": [
       "<div>\n",
       "<style scoped>\n",
       "    .dataframe tbody tr th:only-of-type {\n",
       "        vertical-align: middle;\n",
       "    }\n",
       "\n",
       "    .dataframe tbody tr th {\n",
       "        vertical-align: top;\n",
       "    }\n",
       "\n",
       "    .dataframe thead th {\n",
       "        text-align: right;\n",
       "    }\n",
       "</style>\n",
       "<table border=\"1\" class=\"dataframe\">\n",
       "  <thead>\n",
       "    <tr style=\"text-align: right;\">\n",
       "      <th></th>\n",
       "      <th>tcm_id</th>\n",
       "      <th>title</th>\n",
       "      <th>vstopic</th>\n",
       "      <th>vsproduct</th>\n",
       "      <th>topic</th>\n",
       "      <th>product</th>\n",
       "      <th>headline</th>\n",
       "      <th>headlinemedium</th>\n",
       "      <th>headlineshort</th>\n",
       "      <th>teaser</th>\n",
       "      <th>teasershort</th>\n",
       "      <th>teaserlong</th>\n",
       "      <th>text</th>\n",
       "    </tr>\n",
       "  </thead>\n",
       "  <tbody>\n",
       "    <tr>\n",
       "      <th>0</th>\n",
       "      <td>tcm:526-10787</td>\n",
       "      <td>How and why to build a bond ladder</td>\n",
       "      <td>['Investing in Bonds']</td>\n",
       "      <td>['Bonds']</td>\n",
       "      <td>['Investing strategies', 'Portfolio strategies']</td>\n",
       "      <td>['Bond Ladder Tool', 'Bonds', 'Fixed income', ...</td>\n",
       "      <td>How and why to build a bond ladder</td>\n",
       "      <td>How to build a bond ladder</td>\n",
       "      <td>Need steady income?</td>\n",
       "      <td>Ladders may offer predictable income and rate ...</td>\n",
       "      <td>Even in uncertain rate environments, bond ladd...</td>\n",
       "      <td>Staggering bond maturities may help to create ...</td>\n",
       "      <td>Key takeaways  *  Staggering bond maturities ...</td>\n",
       "    </tr>\n",
       "    <tr>\n",
       "      <th>1</th>\n",
       "      <td>tcm:526-10838</td>\n",
       "      <td>Inheriting IRAs from someone other than your s...</td>\n",
       "      <td>['Estate Planning']</td>\n",
       "      <td>['Inherited IRA']</td>\n",
       "      <td>['Asset withdrawals', 'Beneficiaries', 'Distri...</td>\n",
       "      <td>['IRA', 'Inherited IRA', 'RMD Calculator', 'Re...</td>\n",
       "      <td>Inheriting IRAs from someone other than your s...</td>\n",
       "      <td>Nonspousal inherited IRA rules</td>\n",
       "      <td>Nonspousal inherited IRA rules</td>\n",
       "      <td>Understand the new distribution rules for inhe...</td>\n",
       "      <td>Understand the new distribution rules for inhe...</td>\n",
       "      <td>Understand the new distribution rules for inhe...</td>\n",
       "      <td>Key takeaways  *  The SECURE Act changed the ...</td>\n",
       "    </tr>\n",
       "    <tr>\n",
       "      <th>2</th>\n",
       "      <td>tcm:526-10849</td>\n",
       "      <td>Do you really need a bank?</td>\n",
       "      <td>['Financial Planning']</td>\n",
       "      <td>['Brokerage', 'CDs', 'Cash Management', 'Credi...</td>\n",
       "      <td>['Banking', 'Debt management', 'Saving and spe...</td>\n",
       "      <td>NaN</td>\n",
       "      <td>Do you really need a bank?</td>\n",
       "      <td>Do you really need a bank?</td>\n",
       "      <td>Do you really need a bank?</td>\n",
       "      <td>The answer is not as clear-cut as it once was....</td>\n",
       "      <td>Banks aren't the only game in town when it com...</td>\n",
       "      <td>Mobile banking has made the brick-and-mortar b...</td>\n",
       "      <td>Key takeaways | -----------------------------...</td>\n",
       "    </tr>\n",
       "    <tr>\n",
       "      <th>3</th>\n",
       "      <td>tcm:526-116442</td>\n",
       "      <td>Beware of cashing out a 401(k)</td>\n",
       "      <td>['Saving for Retirement']</td>\n",
       "      <td>['401(k)', 'IRA', 'Retirement Accounts', 'Roll...</td>\n",
       "      <td>['Investing strategies', 'Retirement', 'Tax ef...</td>\n",
       "      <td>['401(k)', 'IRA', 'Retirement accounts', 'Roll...</td>\n",
       "      <td>Beware of cashing out a 401(k)</td>\n",
       "      <td>Beware of cashing out a 401(k)</td>\n",
       "      <td>Beware of cashing out</td>\n",
       "      <td>Evaluate all of your options before cashing ou...</td>\n",
       "      <td>Evaluate all of your options before cashing ou...</td>\n",
       "      <td>It might be tempting to withdraw some money wh...</td>\n",
       "      <td>Key takeaways  *  There can be an immediate c...</td>\n",
       "    </tr>\n",
       "    <tr>\n",
       "      <th>4</th>\n",
       "      <td>tcm:526-12167</td>\n",
       "      <td>Smart strategies for required distributions</td>\n",
       "      <td>['Living in Retirement', 'Required Minimum Dis...</td>\n",
       "      <td>['IRA']</td>\n",
       "      <td>['Asset withdrawals', 'Charitable giving', 'Di...</td>\n",
       "      <td>['529 plans', 'Cash Management Account', 'IRA'...</td>\n",
       "      <td>Smart strategies for required distributions</td>\n",
       "      <td>Smart IRA withdrawal strategies</td>\n",
       "      <td>Smart IRA withdrawal strategies</td>\n",
       "      <td>Answer 4 key questions to help you manage RMD ...</td>\n",
       "      <td>Answer 4 questions to help you use required mi...</td>\n",
       "      <td>See 4 key questions to answer to help you mana...</td>\n",
       "      <td>Key takeaways  *  You may not need your RMDs ...</td>\n",
       "    </tr>\n",
       "  </tbody>\n",
       "</table>\n",
       "</div>"
      ],
      "text/plain": [
       "           tcm_id                                              title  \\\n",
       "0   tcm:526-10787                 How and why to build a bond ladder   \n",
       "1   tcm:526-10838  Inheriting IRAs from someone other than your s...   \n",
       "2   tcm:526-10849                         Do you really need a bank?   \n",
       "3  tcm:526-116442                     Beware of cashing out a 401(k)   \n",
       "4   tcm:526-12167        Smart strategies for required distributions   \n",
       "\n",
       "                                             vstopic  \\\n",
       "0                             ['Investing in Bonds']   \n",
       "1                                ['Estate Planning']   \n",
       "2                             ['Financial Planning']   \n",
       "3                          ['Saving for Retirement']   \n",
       "4  ['Living in Retirement', 'Required Minimum Dis...   \n",
       "\n",
       "                                           vsproduct  \\\n",
       "0                                          ['Bonds']   \n",
       "1                                  ['Inherited IRA']   \n",
       "2  ['Brokerage', 'CDs', 'Cash Management', 'Credi...   \n",
       "3  ['401(k)', 'IRA', 'Retirement Accounts', 'Roll...   \n",
       "4                                            ['IRA']   \n",
       "\n",
       "                                               topic  \\\n",
       "0   ['Investing strategies', 'Portfolio strategies']   \n",
       "1  ['Asset withdrawals', 'Beneficiaries', 'Distri...   \n",
       "2  ['Banking', 'Debt management', 'Saving and spe...   \n",
       "3  ['Investing strategies', 'Retirement', 'Tax ef...   \n",
       "4  ['Asset withdrawals', 'Charitable giving', 'Di...   \n",
       "\n",
       "                                             product  \\\n",
       "0  ['Bond Ladder Tool', 'Bonds', 'Fixed income', ...   \n",
       "1  ['IRA', 'Inherited IRA', 'RMD Calculator', 'Re...   \n",
       "2                                                NaN   \n",
       "3  ['401(k)', 'IRA', 'Retirement accounts', 'Roll...   \n",
       "4  ['529 plans', 'Cash Management Account', 'IRA'...   \n",
       "\n",
       "                                            headline  \\\n",
       "0                 How and why to build a bond ladder   \n",
       "1  Inheriting IRAs from someone other than your s...   \n",
       "2                         Do you really need a bank?   \n",
       "3                     Beware of cashing out a 401(k)   \n",
       "4        Smart strategies for required distributions   \n",
       "\n",
       "                    headlinemedium                    headlineshort  \\\n",
       "0       How to build a bond ladder              Need steady income?   \n",
       "1   Nonspousal inherited IRA rules   Nonspousal inherited IRA rules   \n",
       "2       Do you really need a bank?       Do you really need a bank?   \n",
       "3   Beware of cashing out a 401(k)            Beware of cashing out   \n",
       "4  Smart IRA withdrawal strategies  Smart IRA withdrawal strategies   \n",
       "\n",
       "                                              teaser  \\\n",
       "0  Ladders may offer predictable income and rate ...   \n",
       "1  Understand the new distribution rules for inhe...   \n",
       "2  The answer is not as clear-cut as it once was....   \n",
       "3  Evaluate all of your options before cashing ou...   \n",
       "4  Answer 4 key questions to help you manage RMD ...   \n",
       "\n",
       "                                         teasershort  \\\n",
       "0  Even in uncertain rate environments, bond ladd...   \n",
       "1  Understand the new distribution rules for inhe...   \n",
       "2  Banks aren't the only game in town when it com...   \n",
       "3  Evaluate all of your options before cashing ou...   \n",
       "4  Answer 4 questions to help you use required mi...   \n",
       "\n",
       "                                          teaserlong  \\\n",
       "0  Staggering bond maturities may help to create ...   \n",
       "1  Understand the new distribution rules for inhe...   \n",
       "2  Mobile banking has made the brick-and-mortar b...   \n",
       "3  It might be tempting to withdraw some money wh...   \n",
       "4  See 4 key questions to answer to help you mana...   \n",
       "\n",
       "                                                text  \n",
       "0   Key takeaways  *  Staggering bond maturities ...  \n",
       "1   Key takeaways  *  The SECURE Act changed the ...  \n",
       "2   Key takeaways | -----------------------------...  \n",
       "3   Key takeaways  *  There can be an immediate c...  \n",
       "4   Key takeaways  *  You may not need your RMDs ...  "
      ]
     },
     "execution_count": 4,
     "metadata": {},
     "output_type": "execute_result"
    }
   ],
   "source": [
    "articles_df = pd.read_csv('recsys_data/articles.csv')\n",
    "articles_df.head()"
   ]
  },
  {
   "cell_type": "code",
   "execution_count": 5,
   "metadata": {},
   "outputs": [],
   "source": [
    "articles_df['all_text'] = articles_df['headline']+' '+articles_df['teaser']+' '+articles_df['text']"
   ]
  },
  {
   "cell_type": "code",
   "execution_count": 6,
   "metadata": {},
   "outputs": [
    {
     "data": {
      "text/html": [
       "<div>\n",
       "<style scoped>\n",
       "    .dataframe tbody tr th:only-of-type {\n",
       "        vertical-align: middle;\n",
       "    }\n",
       "\n",
       "    .dataframe tbody tr th {\n",
       "        vertical-align: top;\n",
       "    }\n",
       "\n",
       "    .dataframe thead th {\n",
       "        text-align: right;\n",
       "    }\n",
       "</style>\n",
       "<table border=\"1\" class=\"dataframe\">\n",
       "  <thead>\n",
       "    <tr style=\"text-align: right;\">\n",
       "      <th></th>\n",
       "      <th>tcm_id</th>\n",
       "      <th>vstopic</th>\n",
       "      <th>vsproduct</th>\n",
       "      <th>topic</th>\n",
       "      <th>product</th>\n",
       "      <th>headline</th>\n",
       "      <th>all_text</th>\n",
       "    </tr>\n",
       "  </thead>\n",
       "  <tbody>\n",
       "    <tr>\n",
       "      <th>0</th>\n",
       "      <td>tcm:526-10787</td>\n",
       "      <td>['Investing in Bonds']</td>\n",
       "      <td>['Bonds']</td>\n",
       "      <td>['Investing strategies', 'Portfolio strategies']</td>\n",
       "      <td>['Bond Ladder Tool', 'Bonds', 'Fixed income', ...</td>\n",
       "      <td>How and why to build a bond ladder</td>\n",
       "      <td>How and why to build a bond ladder Ladders may...</td>\n",
       "    </tr>\n",
       "    <tr>\n",
       "      <th>1</th>\n",
       "      <td>tcm:526-10838</td>\n",
       "      <td>['Estate Planning']</td>\n",
       "      <td>['Inherited IRA']</td>\n",
       "      <td>['Asset withdrawals', 'Beneficiaries', 'Distri...</td>\n",
       "      <td>['IRA', 'Inherited IRA', 'RMD Calculator', 'Re...</td>\n",
       "      <td>Inheriting IRAs from someone other than your s...</td>\n",
       "      <td>Inheriting IRAs from someone other than your s...</td>\n",
       "    </tr>\n",
       "    <tr>\n",
       "      <th>2</th>\n",
       "      <td>tcm:526-10849</td>\n",
       "      <td>['Financial Planning']</td>\n",
       "      <td>['Brokerage', 'CDs', 'Cash Management', 'Credi...</td>\n",
       "      <td>['Banking', 'Debt management', 'Saving and spe...</td>\n",
       "      <td>NaN</td>\n",
       "      <td>Do you really need a bank?</td>\n",
       "      <td>Do you really need a bank? The answer is not a...</td>\n",
       "    </tr>\n",
       "    <tr>\n",
       "      <th>3</th>\n",
       "      <td>tcm:526-116442</td>\n",
       "      <td>['Saving for Retirement']</td>\n",
       "      <td>['401(k)', 'IRA', 'Retirement Accounts', 'Roll...</td>\n",
       "      <td>['Investing strategies', 'Retirement', 'Tax ef...</td>\n",
       "      <td>['401(k)', 'IRA', 'Retirement accounts', 'Roll...</td>\n",
       "      <td>Beware of cashing out a 401(k)</td>\n",
       "      <td>Beware of cashing out a 401(k) Evaluate all of...</td>\n",
       "    </tr>\n",
       "    <tr>\n",
       "      <th>4</th>\n",
       "      <td>tcm:526-12167</td>\n",
       "      <td>['Living in Retirement', 'Required Minimum Dis...</td>\n",
       "      <td>['IRA']</td>\n",
       "      <td>['Asset withdrawals', 'Charitable giving', 'Di...</td>\n",
       "      <td>['529 plans', 'Cash Management Account', 'IRA'...</td>\n",
       "      <td>Smart strategies for required distributions</td>\n",
       "      <td>Smart strategies for required distributions An...</td>\n",
       "    </tr>\n",
       "  </tbody>\n",
       "</table>\n",
       "</div>"
      ],
      "text/plain": [
       "           tcm_id                                            vstopic  \\\n",
       "0   tcm:526-10787                             ['Investing in Bonds']   \n",
       "1   tcm:526-10838                                ['Estate Planning']   \n",
       "2   tcm:526-10849                             ['Financial Planning']   \n",
       "3  tcm:526-116442                          ['Saving for Retirement']   \n",
       "4   tcm:526-12167  ['Living in Retirement', 'Required Minimum Dis...   \n",
       "\n",
       "                                           vsproduct  \\\n",
       "0                                          ['Bonds']   \n",
       "1                                  ['Inherited IRA']   \n",
       "2  ['Brokerage', 'CDs', 'Cash Management', 'Credi...   \n",
       "3  ['401(k)', 'IRA', 'Retirement Accounts', 'Roll...   \n",
       "4                                            ['IRA']   \n",
       "\n",
       "                                               topic  \\\n",
       "0   ['Investing strategies', 'Portfolio strategies']   \n",
       "1  ['Asset withdrawals', 'Beneficiaries', 'Distri...   \n",
       "2  ['Banking', 'Debt management', 'Saving and spe...   \n",
       "3  ['Investing strategies', 'Retirement', 'Tax ef...   \n",
       "4  ['Asset withdrawals', 'Charitable giving', 'Di...   \n",
       "\n",
       "                                             product  \\\n",
       "0  ['Bond Ladder Tool', 'Bonds', 'Fixed income', ...   \n",
       "1  ['IRA', 'Inherited IRA', 'RMD Calculator', 'Re...   \n",
       "2                                                NaN   \n",
       "3  ['401(k)', 'IRA', 'Retirement accounts', 'Roll...   \n",
       "4  ['529 plans', 'Cash Management Account', 'IRA'...   \n",
       "\n",
       "                                            headline  \\\n",
       "0                 How and why to build a bond ladder   \n",
       "1  Inheriting IRAs from someone other than your s...   \n",
       "2                         Do you really need a bank?   \n",
       "3                     Beware of cashing out a 401(k)   \n",
       "4        Smart strategies for required distributions   \n",
       "\n",
       "                                            all_text  \n",
       "0  How and why to build a bond ladder Ladders may...  \n",
       "1  Inheriting IRAs from someone other than your s...  \n",
       "2  Do you really need a bank? The answer is not a...  \n",
       "3  Beware of cashing out a 401(k) Evaluate all of...  \n",
       "4  Smart strategies for required distributions An...  "
      ]
     },
     "execution_count": 6,
     "metadata": {},
     "output_type": "execute_result"
    }
   ],
   "source": [
    "articles_df = articles_df.loc[:,['tcm_id','vstopic','vsproduct','topic','product','headline','all_text']]\n",
    "articles_df.head()"
   ]
  },
  {
   "cell_type": "code",
   "execution_count": 28,
   "metadata": {},
   "outputs": [
    {
     "data": {
      "text/html": [
       "<div>\n",
       "<style scoped>\n",
       "    .dataframe tbody tr th:only-of-type {\n",
       "        vertical-align: middle;\n",
       "    }\n",
       "\n",
       "    .dataframe tbody tr th {\n",
       "        vertical-align: top;\n",
       "    }\n",
       "\n",
       "    .dataframe thead th {\n",
       "        text-align: right;\n",
       "    }\n",
       "</style>\n",
       "<table border=\"1\" class=\"dataframe\">\n",
       "  <thead>\n",
       "    <tr style=\"text-align: right;\">\n",
       "      <th></th>\n",
       "      <th>tcm_id</th>\n",
       "      <th>vstopic</th>\n",
       "      <th>vsproduct</th>\n",
       "      <th>topic</th>\n",
       "      <th>product</th>\n",
       "      <th>headline</th>\n",
       "      <th>all_text</th>\n",
       "      <th>tcm_click_count</th>\n",
       "      <th>tcm_popularity</th>\n",
       "    </tr>\n",
       "  </thead>\n",
       "  <tbody>\n",
       "    <tr>\n",
       "      <th>0</th>\n",
       "      <td>tcm:526-10787</td>\n",
       "      <td>['Investing in Bonds']</td>\n",
       "      <td>['Bonds']</td>\n",
       "      <td>['Investing strategies', 'Portfolio strategies']</td>\n",
       "      <td>['Bond Ladder Tool', 'Bonds', 'Fixed income', ...</td>\n",
       "      <td>How and why to build a bond ladder</td>\n",
       "      <td>How and why to build a bond ladder Ladders may...</td>\n",
       "      <td>2451.0</td>\n",
       "      <td>0.005769</td>\n",
       "    </tr>\n",
       "    <tr>\n",
       "      <th>1</th>\n",
       "      <td>tcm:526-10838</td>\n",
       "      <td>['Estate Planning']</td>\n",
       "      <td>['Inherited IRA']</td>\n",
       "      <td>['Asset withdrawals', 'Beneficiaries', 'Distri...</td>\n",
       "      <td>['IRA', 'Inherited IRA', 'RMD Calculator', 'Re...</td>\n",
       "      <td>Inheriting IRAs from someone other than your s...</td>\n",
       "      <td>Inheriting IRAs from someone other than your s...</td>\n",
       "      <td>4473.0</td>\n",
       "      <td>0.010528</td>\n",
       "    </tr>\n",
       "    <tr>\n",
       "      <th>2</th>\n",
       "      <td>tcm:526-10849</td>\n",
       "      <td>['Financial Planning']</td>\n",
       "      <td>['Brokerage', 'CDs', 'Cash Management', 'Credi...</td>\n",
       "      <td>['Banking', 'Debt management', 'Saving and spe...</td>\n",
       "      <td>NaN</td>\n",
       "      <td>Do you really need a bank?</td>\n",
       "      <td>Do you really need a bank? The answer is not a...</td>\n",
       "      <td>1764.0</td>\n",
       "      <td>0.004152</td>\n",
       "    </tr>\n",
       "    <tr>\n",
       "      <th>3</th>\n",
       "      <td>tcm:526-116442</td>\n",
       "      <td>['Saving for Retirement']</td>\n",
       "      <td>['401(k)', 'IRA', 'Retirement Accounts', 'Roll...</td>\n",
       "      <td>['Investing strategies', 'Retirement', 'Tax ef...</td>\n",
       "      <td>['401(k)', 'IRA', 'Retirement accounts', 'Roll...</td>\n",
       "      <td>Beware of cashing out a 401(k)</td>\n",
       "      <td>Beware of cashing out a 401(k) Evaluate all of...</td>\n",
       "      <td>11967.0</td>\n",
       "      <td>0.028166</td>\n",
       "    </tr>\n",
       "    <tr>\n",
       "      <th>4</th>\n",
       "      <td>tcm:526-12167</td>\n",
       "      <td>['Living in Retirement', 'Required Minimum Dis...</td>\n",
       "      <td>['IRA']</td>\n",
       "      <td>['Asset withdrawals', 'Charitable giving', 'Di...</td>\n",
       "      <td>['529 plans', 'Cash Management Account', 'IRA'...</td>\n",
       "      <td>Smart strategies for required distributions</td>\n",
       "      <td>Smart strategies for required distributions An...</td>\n",
       "      <td>8422.0</td>\n",
       "      <td>0.019822</td>\n",
       "    </tr>\n",
       "  </tbody>\n",
       "</table>\n",
       "</div>"
      ],
      "text/plain": [
       "           tcm_id                                            vstopic  \\\n",
       "0   tcm:526-10787                             ['Investing in Bonds']   \n",
       "1   tcm:526-10838                                ['Estate Planning']   \n",
       "2   tcm:526-10849                             ['Financial Planning']   \n",
       "3  tcm:526-116442                          ['Saving for Retirement']   \n",
       "4   tcm:526-12167  ['Living in Retirement', 'Required Minimum Dis...   \n",
       "\n",
       "                                           vsproduct  \\\n",
       "0                                          ['Bonds']   \n",
       "1                                  ['Inherited IRA']   \n",
       "2  ['Brokerage', 'CDs', 'Cash Management', 'Credi...   \n",
       "3  ['401(k)', 'IRA', 'Retirement Accounts', 'Roll...   \n",
       "4                                            ['IRA']   \n",
       "\n",
       "                                               topic  \\\n",
       "0   ['Investing strategies', 'Portfolio strategies']   \n",
       "1  ['Asset withdrawals', 'Beneficiaries', 'Distri...   \n",
       "2  ['Banking', 'Debt management', 'Saving and spe...   \n",
       "3  ['Investing strategies', 'Retirement', 'Tax ef...   \n",
       "4  ['Asset withdrawals', 'Charitable giving', 'Di...   \n",
       "\n",
       "                                             product  \\\n",
       "0  ['Bond Ladder Tool', 'Bonds', 'Fixed income', ...   \n",
       "1  ['IRA', 'Inherited IRA', 'RMD Calculator', 'Re...   \n",
       "2                                                NaN   \n",
       "3  ['401(k)', 'IRA', 'Retirement accounts', 'Roll...   \n",
       "4  ['529 plans', 'Cash Management Account', 'IRA'...   \n",
       "\n",
       "                                            headline  \\\n",
       "0                 How and why to build a bond ladder   \n",
       "1  Inheriting IRAs from someone other than your s...   \n",
       "2                         Do you really need a bank?   \n",
       "3                     Beware of cashing out a 401(k)   \n",
       "4        Smart strategies for required distributions   \n",
       "\n",
       "                                            all_text  tcm_click_count  \\\n",
       "0  How and why to build a bond ladder Ladders may...           2451.0   \n",
       "1  Inheriting IRAs from someone other than your s...           4473.0   \n",
       "2  Do you really need a bank? The answer is not a...           1764.0   \n",
       "3  Beware of cashing out a 401(k) Evaluate all of...          11967.0   \n",
       "4  Smart strategies for required distributions An...           8422.0   \n",
       "\n",
       "   tcm_popularity  \n",
       "0        0.005769  \n",
       "1        0.010528  \n",
       "2        0.004152  \n",
       "3        0.028166  \n",
       "4        0.019822  "
      ]
     },
     "execution_count": 28,
     "metadata": {},
     "output_type": "execute_result"
    }
   ],
   "source": [
    "articles_merged_df = pd.merge(articles_df, tcm_clicks_count_df, how=\"outer\", on=[\"tcm_id\"])\n",
    "articles_merged_df.head()"
   ]
  },
  {
   "cell_type": "code",
   "execution_count": 29,
   "metadata": {},
   "outputs": [],
   "source": [
    "len(articles_merged_df)\n",
    "tcm_ids_articles = set(articles_merged_df['tcm_id'])"
   ]
  },
  {
   "cell_type": "code",
   "execution_count": 30,
   "metadata": {},
   "outputs": [
    {
     "data": {
      "text/plain": [
       "{'tcm:526-12173',\n",
       " 'tcm:526-161967',\n",
       " 'tcm:526-387709',\n",
       " 'tcm:526-635549',\n",
       " 'tcm:526-766928'}"
      ]
     },
     "execution_count": 30,
     "metadata": {},
     "output_type": "execute_result"
    }
   ],
   "source": [
    "tcm_ids_articles - tcm_id_list"
   ]
  },
  {
   "cell_type": "code",
   "execution_count": 31,
   "metadata": {},
   "outputs": [],
   "source": [
    "cold_tcm_ids = ['tcm:526-12173','tcm:526-161967','tcm:526-387709','tcm:526-635549','tcm:526-766928']"
   ]
  },
  {
   "cell_type": "code",
   "execution_count": 32,
   "metadata": {},
   "outputs": [],
   "source": [
    "articles_merged_df = articles_merged_df[~articles_merged_df['tcm_id'].isin(cold_tcm_ids)]"
   ]
  },
  {
   "cell_type": "code",
   "execution_count": 33,
   "metadata": {},
   "outputs": [],
   "source": [
    "articles_merged_df.sort_values(by=['tcm_popularity'],inplace=True,ascending=False)\n",
    "articles_merged_df.head(10)\n",
    "top_10_popular_tcm = articles_merged_df['tcm_id'].head(10).values"
   ]
  },
  {
   "cell_type": "code",
   "execution_count": 34,
   "metadata": {},
   "outputs": [
    {
     "data": {
      "text/html": [
       "<div>\n",
       "<style scoped>\n",
       "    .dataframe tbody tr th:only-of-type {\n",
       "        vertical-align: middle;\n",
       "    }\n",
       "\n",
       "    .dataframe tbody tr th {\n",
       "        vertical-align: top;\n",
       "    }\n",
       "\n",
       "    .dataframe thead th {\n",
       "        text-align: right;\n",
       "    }\n",
       "</style>\n",
       "<table border=\"1\" class=\"dataframe\">\n",
       "  <thead>\n",
       "    <tr style=\"text-align: right;\">\n",
       "      <th></th>\n",
       "      <th>tcm_id</th>\n",
       "      <th>vstopic</th>\n",
       "      <th>vsproduct</th>\n",
       "      <th>topic</th>\n",
       "      <th>product</th>\n",
       "      <th>headline</th>\n",
       "      <th>all_text</th>\n",
       "      <th>tcm_click_count</th>\n",
       "      <th>tcm_popularity</th>\n",
       "      <th>rank</th>\n",
       "    </tr>\n",
       "  </thead>\n",
       "  <tbody>\n",
       "    <tr>\n",
       "      <th>70</th>\n",
       "      <td>tcm:526-93195</td>\n",
       "      <td>['Living in Retirement']</td>\n",
       "      <td>['Long-Term Care Insurance', 'Planning and Gui...</td>\n",
       "      <td>['Economic insights', 'Investing strategies', ...</td>\n",
       "      <td>['Annuities', 'Health Savings Account', 'Long-...</td>\n",
       "      <td>5 ways to help protect retirement income</td>\n",
       "      <td>5 ways to help protect retirement income These...</td>\n",
       "      <td>42597.0</td>\n",
       "      <td>0.100258</td>\n",
       "      <td>1.0</td>\n",
       "    </tr>\n",
       "    <tr>\n",
       "      <th>19</th>\n",
       "      <td>tcm:526-208086</td>\n",
       "      <td>['Saving for Retirement']</td>\n",
       "      <td>['401(k)', '403(b)', '457', 'IRA']</td>\n",
       "      <td>['Retirement']</td>\n",
       "      <td>['Annuities', 'Retirement accounts', 'Retireme...</td>\n",
       "      <td>How much do I need to retire?</td>\n",
       "      <td>How much do I need to retire? Fidelity's rule ...</td>\n",
       "      <td>27593.0</td>\n",
       "      <td>0.064944</td>\n",
       "      <td>2.0</td>\n",
       "    </tr>\n",
       "    <tr>\n",
       "      <th>6</th>\n",
       "      <td>tcm:526-12174</td>\n",
       "      <td>['Living in Retirement']</td>\n",
       "      <td>['401(k)', '403(b)', 'Retirement Accounts']</td>\n",
       "      <td>['Living in retirement']</td>\n",
       "      <td>['401(k)', '403(b)', 'Retirement accounts']</td>\n",
       "      <td>Should you take Social Security at 62?</td>\n",
       "      <td>Should you take Social Security at 62? If you ...</td>\n",
       "      <td>23693.0</td>\n",
       "      <td>0.055765</td>\n",
       "      <td>3.0</td>\n",
       "    </tr>\n",
       "    <tr>\n",
       "      <th>46</th>\n",
       "      <td>tcm:526-551763</td>\n",
       "      <td>['Taxes']</td>\n",
       "      <td>NaN</td>\n",
       "      <td>['Income tax', 'Required minimum distributions...</td>\n",
       "      <td>['IRA', 'RMD Calculator', 'Social Security Ben...</td>\n",
       "      <td>Tax reform and retirees</td>\n",
       "      <td>Tax reform and retirees New tax deduction and ...</td>\n",
       "      <td>22362.0</td>\n",
       "      <td>0.052632</td>\n",
       "      <td>4.0</td>\n",
       "    </tr>\n",
       "    <tr>\n",
       "      <th>24</th>\n",
       "      <td>tcm:526-22867</td>\n",
       "      <td>['Living in Retirement', 'Social Security']</td>\n",
       "      <td>['401(k)', '403(b)', 'Retirement Accounts']</td>\n",
       "      <td>['Retirement', 'Social Security']</td>\n",
       "      <td>['Annuities', 'Retirement accounts', 'Retireme...</td>\n",
       "      <td>Social Security tips for couples</td>\n",
       "      <td>Social Security tips for couples See 3 ways th...</td>\n",
       "      <td>18931.0</td>\n",
       "      <td>0.044557</td>\n",
       "      <td>5.0</td>\n",
       "    </tr>\n",
       "    <tr>\n",
       "      <th>34</th>\n",
       "      <td>tcm:526-261006</td>\n",
       "      <td>['Investing Strategies']</td>\n",
       "      <td>NaN</td>\n",
       "      <td>NaN</td>\n",
       "      <td>NaN</td>\n",
       "      <td>6 habits of successful investors</td>\n",
       "      <td>6 habits of successful investors Planning, con...</td>\n",
       "      <td>18902.0</td>\n",
       "      <td>0.044488</td>\n",
       "      <td>6.0</td>\n",
       "    </tr>\n",
       "    <tr>\n",
       "      <th>9</th>\n",
       "      <td>tcm:526-149043</td>\n",
       "      <td>['Estate Planning', 'Wealth Planning']</td>\n",
       "      <td>['Estate Account', 'Insurance', 'Trusts']</td>\n",
       "      <td>['Family', 'Planning your estate', 'Wealth pla...</td>\n",
       "      <td>['Estate planning', 'FidSafe', 'Fidelity Estat...</td>\n",
       "      <td>An all-in-one wealth transfer checklist</td>\n",
       "      <td>An all-in-one wealth transfer checklist Talk w...</td>\n",
       "      <td>17901.0</td>\n",
       "      <td>0.042132</td>\n",
       "      <td>7.0</td>\n",
       "    </tr>\n",
       "    <tr>\n",
       "      <th>7</th>\n",
       "      <td>tcm:526-12180</td>\n",
       "      <td>['Getting Ready to Retire']</td>\n",
       "      <td>['Annuities']</td>\n",
       "      <td>['Retirement', 'Investing strategies']</td>\n",
       "      <td>['Annuities', 'Retirement accounts', 'Retireme...</td>\n",
       "      <td>Create income that can last a lifetime</td>\n",
       "      <td>Create income that can last a lifetime Generat...</td>\n",
       "      <td>13749.0</td>\n",
       "      <td>0.032360</td>\n",
       "      <td>8.0</td>\n",
       "    </tr>\n",
       "    <tr>\n",
       "      <th>36</th>\n",
       "      <td>tcm:526-276414</td>\n",
       "      <td>['Online Security']</td>\n",
       "      <td>['Brokerage']</td>\n",
       "      <td>['Charitable giving', 'Identity theft', 'Onlin...</td>\n",
       "      <td>['Charitable Planning Calculator', 'Charitable...</td>\n",
       "      <td>Prevent ID theft: Avoid financial scams</td>\n",
       "      <td>Prevent ID theft: Avoid financial scams Follow...</td>\n",
       "      <td>12816.0</td>\n",
       "      <td>0.030164</td>\n",
       "      <td>9.0</td>\n",
       "    </tr>\n",
       "    <tr>\n",
       "      <th>3</th>\n",
       "      <td>tcm:526-116442</td>\n",
       "      <td>['Saving for Retirement']</td>\n",
       "      <td>['401(k)', 'IRA', 'Retirement Accounts', 'Roll...</td>\n",
       "      <td>['Investing strategies', 'Retirement', 'Tax ef...</td>\n",
       "      <td>['401(k)', 'IRA', 'Retirement accounts', 'Roll...</td>\n",
       "      <td>Beware of cashing out a 401(k)</td>\n",
       "      <td>Beware of cashing out a 401(k) Evaluate all of...</td>\n",
       "      <td>11967.0</td>\n",
       "      <td>0.028166</td>\n",
       "      <td>10.0</td>\n",
       "    </tr>\n",
       "  </tbody>\n",
       "</table>\n",
       "</div>"
      ],
      "text/plain": [
       "            tcm_id                                      vstopic  \\\n",
       "70   tcm:526-93195                     ['Living in Retirement']   \n",
       "19  tcm:526-208086                    ['Saving for Retirement']   \n",
       "6    tcm:526-12174                     ['Living in Retirement']   \n",
       "46  tcm:526-551763                                    ['Taxes']   \n",
       "24   tcm:526-22867  ['Living in Retirement', 'Social Security']   \n",
       "34  tcm:526-261006                     ['Investing Strategies']   \n",
       "9   tcm:526-149043       ['Estate Planning', 'Wealth Planning']   \n",
       "7    tcm:526-12180                  ['Getting Ready to Retire']   \n",
       "36  tcm:526-276414                          ['Online Security']   \n",
       "3   tcm:526-116442                    ['Saving for Retirement']   \n",
       "\n",
       "                                            vsproduct  \\\n",
       "70  ['Long-Term Care Insurance', 'Planning and Gui...   \n",
       "19                 ['401(k)', '403(b)', '457', 'IRA']   \n",
       "6         ['401(k)', '403(b)', 'Retirement Accounts']   \n",
       "46                                                NaN   \n",
       "24        ['401(k)', '403(b)', 'Retirement Accounts']   \n",
       "34                                                NaN   \n",
       "9           ['Estate Account', 'Insurance', 'Trusts']   \n",
       "7                                       ['Annuities']   \n",
       "36                                      ['Brokerage']   \n",
       "3   ['401(k)', 'IRA', 'Retirement Accounts', 'Roll...   \n",
       "\n",
       "                                                topic  \\\n",
       "70  ['Economic insights', 'Investing strategies', ...   \n",
       "19                                     ['Retirement']   \n",
       "6                            ['Living in retirement']   \n",
       "46  ['Income tax', 'Required minimum distributions...   \n",
       "24                  ['Retirement', 'Social Security']   \n",
       "34                                                NaN   \n",
       "9   ['Family', 'Planning your estate', 'Wealth pla...   \n",
       "7              ['Retirement', 'Investing strategies']   \n",
       "36  ['Charitable giving', 'Identity theft', 'Onlin...   \n",
       "3   ['Investing strategies', 'Retirement', 'Tax ef...   \n",
       "\n",
       "                                              product  \\\n",
       "70  ['Annuities', 'Health Savings Account', 'Long-...   \n",
       "19  ['Annuities', 'Retirement accounts', 'Retireme...   \n",
       "6         ['401(k)', '403(b)', 'Retirement accounts']   \n",
       "46  ['IRA', 'RMD Calculator', 'Social Security Ben...   \n",
       "24  ['Annuities', 'Retirement accounts', 'Retireme...   \n",
       "34                                                NaN   \n",
       "9   ['Estate planning', 'FidSafe', 'Fidelity Estat...   \n",
       "7   ['Annuities', 'Retirement accounts', 'Retireme...   \n",
       "36  ['Charitable Planning Calculator', 'Charitable...   \n",
       "3   ['401(k)', 'IRA', 'Retirement accounts', 'Roll...   \n",
       "\n",
       "                                    headline  \\\n",
       "70  5 ways to help protect retirement income   \n",
       "19             How much do I need to retire?   \n",
       "6     Should you take Social Security at 62?   \n",
       "46                   Tax reform and retirees   \n",
       "24          Social Security tips for couples   \n",
       "34          6 habits of successful investors   \n",
       "9    An all-in-one wealth transfer checklist   \n",
       "7     Create income that can last a lifetime   \n",
       "36   Prevent ID theft: Avoid financial scams   \n",
       "3             Beware of cashing out a 401(k)   \n",
       "\n",
       "                                             all_text  tcm_click_count  \\\n",
       "70  5 ways to help protect retirement income These...          42597.0   \n",
       "19  How much do I need to retire? Fidelity's rule ...          27593.0   \n",
       "6   Should you take Social Security at 62? If you ...          23693.0   \n",
       "46  Tax reform and retirees New tax deduction and ...          22362.0   \n",
       "24  Social Security tips for couples See 3 ways th...          18931.0   \n",
       "34  6 habits of successful investors Planning, con...          18902.0   \n",
       "9   An all-in-one wealth transfer checklist Talk w...          17901.0   \n",
       "7   Create income that can last a lifetime Generat...          13749.0   \n",
       "36  Prevent ID theft: Avoid financial scams Follow...          12816.0   \n",
       "3   Beware of cashing out a 401(k) Evaluate all of...          11967.0   \n",
       "\n",
       "    tcm_popularity  rank  \n",
       "70        0.100258   1.0  \n",
       "19        0.064944   2.0  \n",
       "6         0.055765   3.0  \n",
       "46        0.052632   4.0  \n",
       "24        0.044557   5.0  \n",
       "34        0.044488   6.0  \n",
       "9         0.042132   7.0  \n",
       "7         0.032360   8.0  \n",
       "36        0.030164   9.0  \n",
       "3         0.028166  10.0  "
      ]
     },
     "execution_count": 34,
     "metadata": {},
     "output_type": "execute_result"
    }
   ],
   "source": [
    "articles_merged_df['rank'] = articles_merged_df['tcm_popularity'].rank(ascending=False)\n",
    "articles_merged_df.head(10)"
   ]
  },
  {
   "cell_type": "code",
   "execution_count": 35,
   "metadata": {},
   "outputs": [
    {
     "data": {
      "text/html": [
       "<div>\n",
       "<style scoped>\n",
       "    .dataframe tbody tr th:only-of-type {\n",
       "        vertical-align: middle;\n",
       "    }\n",
       "\n",
       "    .dataframe tbody tr th {\n",
       "        vertical-align: top;\n",
       "    }\n",
       "\n",
       "    .dataframe thead th {\n",
       "        text-align: right;\n",
       "    }\n",
       "</style>\n",
       "<table border=\"1\" class=\"dataframe\">\n",
       "  <thead>\n",
       "    <tr style=\"text-align: right;\">\n",
       "      <th></th>\n",
       "      <th>tcm_id</th>\n",
       "      <th>vstopic</th>\n",
       "      <th>vsproduct</th>\n",
       "      <th>topic</th>\n",
       "      <th>product</th>\n",
       "      <th>headline</th>\n",
       "      <th>all_text</th>\n",
       "      <th>tcm_click_count</th>\n",
       "      <th>tcm_popularity</th>\n",
       "      <th>rank</th>\n",
       "    </tr>\n",
       "  </thead>\n",
       "  <tbody>\n",
       "    <tr>\n",
       "      <th>0</th>\n",
       "      <td>tcm:526-93195</td>\n",
       "      <td>['Living in Retirement']</td>\n",
       "      <td>['Long-Term Care Insurance', 'Planning and Gui...</td>\n",
       "      <td>['Economic insights', 'Investing strategies', ...</td>\n",
       "      <td>['Annuities', 'Health Savings Account', 'Long-...</td>\n",
       "      <td>5 ways to help protect retirement income</td>\n",
       "      <td>5 ways to help protect retirement income These...</td>\n",
       "      <td>42597.0</td>\n",
       "      <td>0.100258</td>\n",
       "      <td>1.0</td>\n",
       "    </tr>\n",
       "    <tr>\n",
       "      <th>1</th>\n",
       "      <td>tcm:526-208086</td>\n",
       "      <td>['Saving for Retirement']</td>\n",
       "      <td>['401(k)', '403(b)', '457', 'IRA']</td>\n",
       "      <td>['Retirement']</td>\n",
       "      <td>['Annuities', 'Retirement accounts', 'Retireme...</td>\n",
       "      <td>How much do I need to retire?</td>\n",
       "      <td>How much do I need to retire? Fidelity's rule ...</td>\n",
       "      <td>27593.0</td>\n",
       "      <td>0.064944</td>\n",
       "      <td>2.0</td>\n",
       "    </tr>\n",
       "    <tr>\n",
       "      <th>2</th>\n",
       "      <td>tcm:526-12174</td>\n",
       "      <td>['Living in Retirement']</td>\n",
       "      <td>['401(k)', '403(b)', 'Retirement Accounts']</td>\n",
       "      <td>['Living in retirement']</td>\n",
       "      <td>['401(k)', '403(b)', 'Retirement accounts']</td>\n",
       "      <td>Should you take Social Security at 62?</td>\n",
       "      <td>Should you take Social Security at 62? If you ...</td>\n",
       "      <td>23693.0</td>\n",
       "      <td>0.055765</td>\n",
       "      <td>3.0</td>\n",
       "    </tr>\n",
       "    <tr>\n",
       "      <th>3</th>\n",
       "      <td>tcm:526-551763</td>\n",
       "      <td>['Taxes']</td>\n",
       "      <td>NaN</td>\n",
       "      <td>['Income tax', 'Required minimum distributions...</td>\n",
       "      <td>['IRA', 'RMD Calculator', 'Social Security Ben...</td>\n",
       "      <td>Tax reform and retirees</td>\n",
       "      <td>Tax reform and retirees New tax deduction and ...</td>\n",
       "      <td>22362.0</td>\n",
       "      <td>0.052632</td>\n",
       "      <td>4.0</td>\n",
       "    </tr>\n",
       "    <tr>\n",
       "      <th>4</th>\n",
       "      <td>tcm:526-22867</td>\n",
       "      <td>['Living in Retirement', 'Social Security']</td>\n",
       "      <td>['401(k)', '403(b)', 'Retirement Accounts']</td>\n",
       "      <td>['Retirement', 'Social Security']</td>\n",
       "      <td>['Annuities', 'Retirement accounts', 'Retireme...</td>\n",
       "      <td>Social Security tips for couples</td>\n",
       "      <td>Social Security tips for couples See 3 ways th...</td>\n",
       "      <td>18931.0</td>\n",
       "      <td>0.044557</td>\n",
       "      <td>5.0</td>\n",
       "    </tr>\n",
       "  </tbody>\n",
       "</table>\n",
       "</div>"
      ],
      "text/plain": [
       "           tcm_id                                      vstopic  \\\n",
       "0   tcm:526-93195                     ['Living in Retirement']   \n",
       "1  tcm:526-208086                    ['Saving for Retirement']   \n",
       "2   tcm:526-12174                     ['Living in Retirement']   \n",
       "3  tcm:526-551763                                    ['Taxes']   \n",
       "4   tcm:526-22867  ['Living in Retirement', 'Social Security']   \n",
       "\n",
       "                                           vsproduct  \\\n",
       "0  ['Long-Term Care Insurance', 'Planning and Gui...   \n",
       "1                 ['401(k)', '403(b)', '457', 'IRA']   \n",
       "2        ['401(k)', '403(b)', 'Retirement Accounts']   \n",
       "3                                                NaN   \n",
       "4        ['401(k)', '403(b)', 'Retirement Accounts']   \n",
       "\n",
       "                                               topic  \\\n",
       "0  ['Economic insights', 'Investing strategies', ...   \n",
       "1                                     ['Retirement']   \n",
       "2                           ['Living in retirement']   \n",
       "3  ['Income tax', 'Required minimum distributions...   \n",
       "4                  ['Retirement', 'Social Security']   \n",
       "\n",
       "                                             product  \\\n",
       "0  ['Annuities', 'Health Savings Account', 'Long-...   \n",
       "1  ['Annuities', 'Retirement accounts', 'Retireme...   \n",
       "2        ['401(k)', '403(b)', 'Retirement accounts']   \n",
       "3  ['IRA', 'RMD Calculator', 'Social Security Ben...   \n",
       "4  ['Annuities', 'Retirement accounts', 'Retireme...   \n",
       "\n",
       "                                   headline  \\\n",
       "0  5 ways to help protect retirement income   \n",
       "1             How much do I need to retire?   \n",
       "2    Should you take Social Security at 62?   \n",
       "3                   Tax reform and retirees   \n",
       "4          Social Security tips for couples   \n",
       "\n",
       "                                            all_text  tcm_click_count  \\\n",
       "0  5 ways to help protect retirement income These...          42597.0   \n",
       "1  How much do I need to retire? Fidelity's rule ...          27593.0   \n",
       "2  Should you take Social Security at 62? If you ...          23693.0   \n",
       "3  Tax reform and retirees New tax deduction and ...          22362.0   \n",
       "4  Social Security tips for couples See 3 ways th...          18931.0   \n",
       "\n",
       "   tcm_popularity  rank  \n",
       "0        0.100258   1.0  \n",
       "1        0.064944   2.0  \n",
       "2        0.055765   3.0  \n",
       "3        0.052632   4.0  \n",
       "4        0.044557   5.0  "
      ]
     },
     "execution_count": 35,
     "metadata": {},
     "output_type": "execute_result"
    }
   ],
   "source": [
    "articles_merged_df = articles_merged_df.reset_index(drop=True)\n",
    "articles_merged_df.head()"
   ]
  },
  {
   "cell_type": "markdown",
   "metadata": {},
   "source": [
    " Embeddings (TextWiser , Sentence Transformer)"
   ]
  },
  {
   "cell_type": "code",
   "execution_count": 78,
   "metadata": {},
   "outputs": [],
   "source": [
    "# from textwiser import TextWiser, Embedding, Transformation, WordOptions, PoolOptions\n",
    "\n",
    "# doc_embeddings_schema = {\n",
    "#     'transform': [\n",
    "#         {\n",
    "#             'concat': [\n",
    "#                 {\n",
    "#                     \"transform\": [\n",
    "#                         [\"flair\", {\"pretrained\": \"news-forward-fast\"}],\n",
    "#                         [\"pool\", {\"pool_option\": \"max\"}]\n",
    "#                     ]\n",
    "#                 },\n",
    "#                 {\n",
    "#                     \"transform\": [\n",
    "#                         \"tfidf\",\n",
    "#                         [\"pool\", {\"pool_option\": \"max\"}]\n",
    "#                     ]\n",
    "#                 }\n",
    "#             ]\n",
    "#         },\n",
    "#         ('nmf', { 'n_components': 30 })\n",
    "#     ]\n",
    "# }\n",
    "\n",
    "# doc_embeddings = TextWiser(Embedding.Compound(schema=doc_embeddings_schema))\n",
    "# doc_embeddings\n",
    "\n",
    "# # articles_emb_textiwser1 = doc_embeddings.fit_transform(articles_merged_df['all_text'].values.astype('U'))\n",
    "\n",
    "# # emb = TextWiser(Embedding.Word(word_option=WordOptions.bert), Transformation.Pool(pool_option=PoolOptions.max))\n",
    "# # articles_emb_textiwser = emb.fit_transform(articles_merged_df['all_text'].values.astype('U'))\n",
    "\n",
    "# # articles_emb_textiwser.shape"
   ]
  },
  {
   "cell_type": "markdown",
   "metadata": {},
   "source": [
    "Sentence Transformer"
   ]
  },
  {
   "cell_type": "code",
   "execution_count": null,
   "metadata": {},
   "outputs": [],
   "source": [
    "from sentence_transformers import SentenceTransformer, util\n",
    "from sklearn.decomposition import PCA\n",
    "\n",
    "\n",
    "model = SentenceTransformer('all-MiniLM-L6-v2')\n",
    "model.max_seq_length = 512\n",
    "\n",
    "# #Compute embeddings\n",
    "# embeddings = model.encode(articles_merged_df['all_text'].values.astype('U'), convert_to_tensor=False)\n",
    "# type(embeddings)\n",
    "\n",
    "# pca = PCA(n_components=30, random_state=0)\n",
    "# pca.fit(embeddings)\n",
    "\n",
    "# all_text_emb_pca = pca.transform(embeddings)\n"
   ]
  },
  {
   "cell_type": "code",
   "execution_count": 38,
   "metadata": {},
   "outputs": [],
   "source": [
    "import umap\n",
    "all_text_emb_umap = umap.UMAP(n_neighbors=20, n_components=30, metric='cosine').fit_transform(embeddings)"
   ]
  },
  {
   "cell_type": "code",
   "execution_count": 39,
   "metadata": {},
   "outputs": [],
   "source": [
    "#Compute embeddings\n",
    "# embeddings = model.encode(articles_merged_df['all_text'].values.astype('U'), convert_to_tensor=True)\n",
    "\n",
    "#Compute cosine-similarities for each sentence with each other sentence\n",
    "cosine_scores = util.cos_sim(all_text_emb_umap, all_text_emb_umap)\n",
    "\n",
    "#Find the pairs with the highest cosine similarity scores\n",
    "pairs = []\n",
    "for i in range(len(cosine_scores)-1):\n",
    "    for j in range(i+1, len(cosine_scores)):\n",
    "        pairs.append({'index': [i, j], 'score': cosine_scores[i][j]})\n",
    "\n",
    "#Sort scores in decreasing order\n",
    "pairs = sorted(pairs, key=lambda x: x['score'], reverse=True)\n",
    "\n",
    "df_article_pair_umap = pd.DataFrame(columns=['tcm_id_a','headline_a','rank_a','tcm_id_b','headline_b','rank_b','score'])\n",
    "\n",
    "for pair in pairs[0:10]:\n",
    "    i, j = pair['index']\n",
    "    row_dic = {'tcm_id_a': articles_merged_df['tcm_id'].values.astype('U')[i],\n",
    "                            'headline_a': articles_merged_df['headline'].values.astype('U')[i],\n",
    "                            'rank_a': articles_merged_df['rank'].values.astype('U')[i],\n",
    "                            'tcm_id_b': articles_merged_df['tcm_id'].values.astype('U')[j],\n",
    "                            'headline_b' : articles_merged_df['headline'].values.astype('U')[j],\n",
    "                            'rank_b': articles_merged_df['rank'].values.astype('U')[j],\n",
    "                            'score': pair['score'].item()}\n",
    "    df_article_pair_umap = df_article_pair_umap.append(row_dic,ignore_index=True)\n",
    "    \n",
    "\n"
   ]
  },
  {
   "cell_type": "code",
   "execution_count": 40,
   "metadata": {},
   "outputs": [],
   "source": [
    "# df_article_pair"
   ]
  },
  {
   "cell_type": "code",
   "execution_count": 41,
   "metadata": {},
   "outputs": [],
   "source": [
    "# df_article_pair_umap"
   ]
  },
  {
   "cell_type": "code",
   "execution_count": 42,
   "metadata": {},
   "outputs": [],
   "source": [
    "# df_article_pair_pca"
   ]
  },
  {
   "cell_type": "code",
   "execution_count": 43,
   "metadata": {},
   "outputs": [
    {
     "name": "stdout",
     "output_type": "stream",
     "text": [
      "\n",
      "\n",
      "======================\n",
      "\n",
      "\n",
      "Query: tcm:526-93195 5 ways to help protect retirement income\n",
      "\n",
      "Top 5 most similar articles :\n",
      "tcm:526-93195 5 ways to help protect retirement income (Score: 1.0000) Popularity Rank :  1.0\n",
      "tcm:526-249037 How to plan for rising health care costs (Score: 0.8270) Popularity Rank :  43.0\n",
      "tcm:526-164352 50/15/5: a saving and spending rule of thumb (Score: 0.7236) Popularity Rank :  44.0\n",
      "tcm:526-684643 How much will you spend in retirement? (Score: 0.7193) Popularity Rank :  25.0\n",
      "tcm:526-208086 How much do I need to retire? (Score: 0.7166) Popularity Rank :  2.0\n",
      "\n",
      "\n",
      "======================\n",
      "\n",
      "\n",
      "Query: tcm:526-208086 How much do I need to retire?\n",
      "\n",
      "Top 5 most similar articles :\n",
      "tcm:526-208086 How much do I need to retire? (Score: 1.0000) Popularity Rank :  2.0\n",
      "tcm:526-209216 4 rules of thumb for retirement savings (Score: 0.8794) Popularity Rank :  65.0\n",
      "tcm:526-209028 What will my savings cover in retirement? (Score: 0.7917) Popularity Rank :  22.0\n",
      "tcm:526-684643 How much will you spend in retirement? (Score: 0.7570) Popularity Rank :  25.0\n",
      "tcm:526-164352 50/15/5: a saving and spending rule of thumb (Score: 0.7567) Popularity Rank :  44.0\n",
      "\n",
      "\n",
      "======================\n",
      "\n",
      "\n",
      "Query: tcm:526-12174 Should you take Social Security at 62?\n",
      "\n",
      "Top 5 most similar articles :\n",
      "tcm:526-12174 Should you take Social Security at 62? (Score: 1.0000) Popularity Rank :  3.0\n",
      "tcm:526-259315 5 Social Security myths debunked (Score: 0.8287) Popularity Rank :  17.0\n",
      "tcm:526-22867 Social Security tips for couples (Score: 0.8054) Popularity Rank :  5.0\n",
      "tcm:526-231792 Social Security tips for working retirees (Score: 0.7294) Popularity Rank :  49.0\n",
      "tcm:526-209028 What will my savings cover in retirement? (Score: 0.6584) Popularity Rank :  22.0\n"
     ]
    }
   ],
   "source": [
    "\n",
    "import torch\n",
    "\n",
    "# Corpus with example sentences\n",
    "corpus = articles_merged_df['all_text'].values.astype('U')\n",
    "\n",
    "corpus_embeddings = model.encode(corpus, convert_to_tensor=True)\n",
    "\n",
    "# Query:\n",
    "queries = articles_merged_df[:3]\n",
    "\n",
    "\n",
    "# Find the closest 5 sentences of the corpus for each query sentence based on cosine similarity\n",
    "top_k = min(5, len(corpus))\n",
    "for key,query in enumerate(queries['all_text'].values.astype('U')):\n",
    "    query_embedding = model.encode(query, convert_to_tensor=True)\n",
    "\n",
    "    # We use cosine-similarity and torch.topk to find the highest 5 scores\n",
    "    cos_scores = util.cos_sim(query_embedding, corpus_embeddings)[0]\n",
    "    top_results = torch.topk(cos_scores, k=top_k)\n",
    "\n",
    "    print(\"\\n\\n======================\\n\\n\")\n",
    "    print(\"Query:\", queries['tcm_id'].iloc[[key]].values[0], queries['headline'].iloc[[key]].values[0])\n",
    "    print(\"\\nTop 5 most similar articles :\")\n",
    "\n",
    "    for score, idx in zip(top_results[0], top_results[1]):\n",
    "        print(articles_merged_df['tcm_id'].values.astype('U')[idx], \n",
    "              articles_merged_df['headline'].values.astype('U')[idx], \n",
    "              \"(Score: {:.4f})\".format(score),\n",
    "              \"Popularity Rank : \",articles_merged_df['rank'].values.astype('U')[idx])"
   ]
  },
  {
   "cell_type": "code",
   "execution_count": null,
   "metadata": {},
   "outputs": [],
   "source": [
    "import hdbscan\n",
    "import umap\n",
    "\n",
    "\n",
    "umap_embeddings = umap.UMAP(n_neighbors=7, n_components=5, metric='cosine').fit_transform(corpus_embeddings)\n",
    "\n",
    "# pca = PCA(n_components=30, random_state=0)\n",
    "# pca.fit(embeddings)\n",
    "# all_text_emb_pca = pca.transform(embeddings)\n",
    "\n",
    "cluster = hdbscan.HDBSCAN(min_cluster_size=3,metric='euclidean',cluster_selection_method='eom').fit(umap_embeddings)\n",
    "# Prepare data\n",
    "umap_data = umap.UMAP(n_neighbors=3, n_components=2, min_dist=0.0, metric='cosine').fit_transform(corpus_embeddings)\n",
    "result = pd.DataFrame(umap_data, columns=['x', 'y'])\n",
    "result['labels'] = cluster.labels_\n",
    "# Visualize clusters\n",
    "# fig, ax = plt.subplots(figsize=(20, 10))\n",
    "outliers = result.loc[result.labels == -1, :]\n",
    "clustered = result.loc[result.labels != -1, :]\n",
    "plt.scatter(outliers.x, outliers.y, color='#BDBDBD')\n",
    "plt.scatter(clustered.x, clustered.y, c=clustered.labels,  cmap='hsv_r')"
   ]
  },
  {
   "cell_type": "code",
   "execution_count": 44,
   "metadata": {},
   "outputs": [],
   "source": [
    "\n",
    "\n",
    "umap_embeddings = umap.UMAP(n_neighbors=7, \n",
    "                            n_components=5, \n",
    "                            metric='cosine').fit_transform(corpus_embeddings)"
   ]
  },
  {
   "cell_type": "code",
   "execution_count": 45,
   "metadata": {},
   "outputs": [],
   "source": [
    "import hdbscan\n",
    "cluster = hdbscan.HDBSCAN(min_cluster_size=3,\n",
    "                          metric='euclidean',                      \n",
    "                          cluster_selection_method='eom').fit(umap_embeddings)"
   ]
  },
  {
   "cell_type": "code",
   "execution_count": 46,
   "metadata": {},
   "outputs": [],
   "source": [
    "# Prepare data\n",
    "umap_data = umap.UMAP(n_neighbors=3, n_components=2, min_dist=0.0, metric='cosine').fit_transform(corpus_embeddings)\n",
    "result = pd.DataFrame(umap_data, columns=['x', 'y'])\n",
    "result['labels'] = cluster.labels_"
   ]
  },
  {
   "cell_type": "code",
   "execution_count": 47,
   "metadata": {},
   "outputs": [
    {
     "data": {
      "text/plain": [
       "<matplotlib.collections.PathCollection at 0x7fb8edd707f0>"
      ]
     },
     "execution_count": 47,
     "metadata": {},
     "output_type": "execute_result"
    },
    {
     "data": {
      "image/png": "[encoded data removed]",
      "text/plain": [
       "<Figure size 360x720 with 1 Axes>"
      ]
     },
     "metadata": {
      "needs_background": "light"
     },
     "output_type": "display_data"
    }
   ],
   "source": [
    "\n",
    "\n",
    "# Visualize clusters\n",
    "# fig, ax = plt.subplots(figsize=(20, 10))\n",
    "outliers = result.loc[result.labels == -1, :]\n",
    "clustered = result.loc[result.labels != -1, :]\n",
    "plt.scatter(outliers.x, outliers.y, color='#BDBDBD')\n",
    "plt.scatter(clustered.x, clustered.y, c=clustered.labels,  cmap='hsv_r')"
   ]
  },
  {
   "cell_type": "markdown",
   "metadata": {},
   "source": [
    "Modeling"
   ]
  },
  {
   "cell_type": "code",
   "execution_count": 58,
   "metadata": {},
   "outputs": [],
   "source": [
    "train_clicked_df = train_df.groupby('response', group_keys=False).apply(lambda x: x.sample(n=100000))"
   ]
  },
  {
   "cell_type": "code",
   "execution_count": 59,
   "metadata": {},
   "outputs": [],
   "source": [
    "train_sample_df = train_clicked_df.copy()"
   ]
  },
  {
   "cell_type": "code",
   "execution_count": 60,
   "metadata": {},
   "outputs": [
    {
     "data": {
      "text/plain": [
       "ip            160373\n",
       "event_date        10\n",
       "tcm_id            66\n",
       "response           2\n",
       "dtype: int64"
      ]
     },
     "execution_count": 60,
     "metadata": {},
     "output_type": "execute_result"
    }
   ],
   "source": [
    "train_sample_df.nunique()"
   ]
  },
  {
   "cell_type": "code",
   "execution_count": 62,
   "metadata": {},
   "outputs": [
    {
     "data": {
      "text/plain": [
       "1    0.5\n",
       "0    0.5\n",
       "Name: response, dtype: float64"
      ]
     },
     "execution_count": 62,
     "metadata": {},
     "output_type": "execute_result"
    }
   ],
   "source": [
    "train_sample_df.response.value_counts(normalize=True)"
   ]
  },
  {
   "cell_type": "code",
   "execution_count": 61,
   "metadata": {},
   "outputs": [
    {
     "data": {
      "text/plain": [
       "ip            0\n",
       "event_date    0\n",
       "tcm_id        0\n",
       "response      0\n",
       "dtype: int64"
      ]
     },
     "execution_count": 61,
     "metadata": {},
     "output_type": "execute_result"
    }
   ],
   "source": [
    "train_sample_df.isna().sum()"
   ]
  },
  {
   "cell_type": "code",
   "execution_count": 63,
   "metadata": {},
   "outputs": [
    {
     "data": {
      "text/plain": [
       "9599"
      ]
     },
     "execution_count": 63,
     "metadata": {},
     "output_type": "execute_result"
    }
   ],
   "source": [
    "len(articles_merged_df['all_text'][4])"
   ]
  },
  {
   "cell_type": "code",
   "execution_count": 60,
   "metadata": {},
   "outputs": [
    {
     "data": {
      "text/html": [
       "<div>\n",
       "<style scoped>\n",
       "    .dataframe tbody tr th:only-of-type {\n",
       "        vertical-align: middle;\n",
       "    }\n",
       "\n",
       "    .dataframe tbody tr th {\n",
       "        vertical-align: top;\n",
       "    }\n",
       "\n",
       "    .dataframe thead th {\n",
       "        text-align: right;\n",
       "    }\n",
       "</style>\n",
       "<table border=\"1\" class=\"dataframe\">\n",
       "  <thead>\n",
       "    <tr style=\"text-align: right;\">\n",
       "      <th></th>\n",
       "      <th>ip</th>\n",
       "      <th>event_date</th>\n",
       "      <th>age</th>\n",
       "      <th>gender</th>\n",
       "      <th>covered_indic</th>\n",
       "      <th>tot_pi_amt</th>\n",
       "      <th>has_workplace</th>\n",
       "      <th>has_fili</th>\n",
       "      <th>has_pas</th>\n",
       "      <th>equity_trd_cnt</th>\n",
       "      <th>ret_only_indic</th>\n",
       "      <th>web_sessions_cnt</th>\n",
       "      <th>branch_appts_cnt</th>\n",
       "      <th>rep_calls_cnt</th>\n",
       "      <th>pgc_tam</th>\n",
       "    </tr>\n",
       "  </thead>\n",
       "  <tbody>\n",
       "    <tr>\n",
       "      <th>0</th>\n",
       "      <td>2395</td>\n",
       "      <td>2019-01-01 00:00:00</td>\n",
       "      <td>65.0</td>\n",
       "      <td>M</td>\n",
       "      <td>1</td>\n",
       "      <td>1645230.02</td>\n",
       "      <td>0</td>\n",
       "      <td>0</td>\n",
       "      <td>0</td>\n",
       "      <td>10</td>\n",
       "      <td>0</td>\n",
       "      <td>689</td>\n",
       "      <td>1</td>\n",
       "      <td>2</td>\n",
       "      <td>Growth with Income</td>\n",
       "    </tr>\n",
       "    <tr>\n",
       "      <th>1</th>\n",
       "      <td>3196</td>\n",
       "      <td>2019-01-01 00:00:00</td>\n",
       "      <td>56.0</td>\n",
       "      <td>M</td>\n",
       "      <td>1</td>\n",
       "      <td>50343.26</td>\n",
       "      <td>1</td>\n",
       "      <td>0</td>\n",
       "      <td>0</td>\n",
       "      <td>0</td>\n",
       "      <td>0</td>\n",
       "      <td>146</td>\n",
       "      <td>2</td>\n",
       "      <td>1</td>\n",
       "      <td>Growth</td>\n",
       "    </tr>\n",
       "    <tr>\n",
       "      <th>2</th>\n",
       "      <td>5992</td>\n",
       "      <td>2019-01-01 00:00:00</td>\n",
       "      <td>75.0</td>\n",
       "      <td>M</td>\n",
       "      <td>1</td>\n",
       "      <td>831047.28</td>\n",
       "      <td>0</td>\n",
       "      <td>0</td>\n",
       "      <td>0</td>\n",
       "      <td>0</td>\n",
       "      <td>0</td>\n",
       "      <td>61</td>\n",
       "      <td>0</td>\n",
       "      <td>3</td>\n",
       "      <td>Growth</td>\n",
       "    </tr>\n",
       "    <tr>\n",
       "      <th>3</th>\n",
       "      <td>6807</td>\n",
       "      <td>2019-01-01 00:00:00</td>\n",
       "      <td>66.0</td>\n",
       "      <td>M</td>\n",
       "      <td>1</td>\n",
       "      <td>2026257.86</td>\n",
       "      <td>0</td>\n",
       "      <td>0</td>\n",
       "      <td>0</td>\n",
       "      <td>19</td>\n",
       "      <td>0</td>\n",
       "      <td>393</td>\n",
       "      <td>0</td>\n",
       "      <td>1</td>\n",
       "      <td>Balanced</td>\n",
       "    </tr>\n",
       "    <tr>\n",
       "      <th>4</th>\n",
       "      <td>11538</td>\n",
       "      <td>2019-01-01 00:00:00</td>\n",
       "      <td>62.0</td>\n",
       "      <td>F</td>\n",
       "      <td>1</td>\n",
       "      <td>1096917.32</td>\n",
       "      <td>0</td>\n",
       "      <td>0</td>\n",
       "      <td>1</td>\n",
       "      <td>27</td>\n",
       "      <td>0</td>\n",
       "      <td>1529</td>\n",
       "      <td>0</td>\n",
       "      <td>0</td>\n",
       "      <td>Balanced</td>\n",
       "    </tr>\n",
       "    <tr>\n",
       "      <th>5</th>\n",
       "      <td>12350</td>\n",
       "      <td>2019-01-01 00:00:00</td>\n",
       "      <td>56.0</td>\n",
       "      <td>M</td>\n",
       "      <td>0</td>\n",
       "      <td>413751.98</td>\n",
       "      <td>0</td>\n",
       "      <td>0</td>\n",
       "      <td>0</td>\n",
       "      <td>0</td>\n",
       "      <td>0</td>\n",
       "      <td>4</td>\n",
       "      <td>0</td>\n",
       "      <td>0</td>\n",
       "      <td>Aggressive Growth</td>\n",
       "    </tr>\n",
       "    <tr>\n",
       "      <th>6</th>\n",
       "      <td>13032</td>\n",
       "      <td>2019-01-01 00:00:00</td>\n",
       "      <td>35.0</td>\n",
       "      <td>F</td>\n",
       "      <td>0</td>\n",
       "      <td>98639.60</td>\n",
       "      <td>0</td>\n",
       "      <td>0</td>\n",
       "      <td>0</td>\n",
       "      <td>0</td>\n",
       "      <td>0</td>\n",
       "      <td>11</td>\n",
       "      <td>0</td>\n",
       "      <td>0</td>\n",
       "      <td>Aggressive Growth</td>\n",
       "    </tr>\n",
       "    <tr>\n",
       "      <th>7</th>\n",
       "      <td>14944</td>\n",
       "      <td>2019-01-01 00:00:00</td>\n",
       "      <td>65.0</td>\n",
       "      <td>M</td>\n",
       "      <td>1</td>\n",
       "      <td>2567031.83</td>\n",
       "      <td>0</td>\n",
       "      <td>0</td>\n",
       "      <td>0</td>\n",
       "      <td>2</td>\n",
       "      <td>0</td>\n",
       "      <td>289</td>\n",
       "      <td>0</td>\n",
       "      <td>0</td>\n",
       "      <td>Growth</td>\n",
       "    </tr>\n",
       "    <tr>\n",
       "      <th>8</th>\n",
       "      <td>21149</td>\n",
       "      <td>2019-01-01 00:00:00</td>\n",
       "      <td>64.0</td>\n",
       "      <td>M</td>\n",
       "      <td>0</td>\n",
       "      <td>305520.02</td>\n",
       "      <td>1</td>\n",
       "      <td>0</td>\n",
       "      <td>0</td>\n",
       "      <td>0</td>\n",
       "      <td>0</td>\n",
       "      <td>282</td>\n",
       "      <td>0</td>\n",
       "      <td>0</td>\n",
       "      <td>Growth with Income</td>\n",
       "    </tr>\n",
       "    <tr>\n",
       "      <th>9</th>\n",
       "      <td>24510</td>\n",
       "      <td>2019-01-01 00:00:00</td>\n",
       "      <td>60.0</td>\n",
       "      <td>M</td>\n",
       "      <td>1</td>\n",
       "      <td>2214043.53</td>\n",
       "      <td>0</td>\n",
       "      <td>0</td>\n",
       "      <td>0</td>\n",
       "      <td>0</td>\n",
       "      <td>0</td>\n",
       "      <td>383</td>\n",
       "      <td>4</td>\n",
       "      <td>1</td>\n",
       "      <td>Conservative</td>\n",
       "    </tr>\n",
       "  </tbody>\n",
       "</table>\n",
       "</div>"
      ],
      "text/plain": [
       "      ip           event_date   age gender  covered_indic  tot_pi_amt  \\\n",
       "0   2395  2019-01-01 00:00:00  65.0     M               1  1645230.02   \n",
       "1   3196  2019-01-01 00:00:00  56.0     M               1    50343.26   \n",
       "2   5992  2019-01-01 00:00:00  75.0     M               1   831047.28   \n",
       "3   6807  2019-01-01 00:00:00  66.0     M               1  2026257.86   \n",
       "4  11538  2019-01-01 00:00:00  62.0     F               1  1096917.32   \n",
       "5  12350  2019-01-01 00:00:00  56.0     M               0   413751.98   \n",
       "6  13032  2019-01-01 00:00:00  35.0     F               0    98639.60   \n",
       "7  14944  2019-01-01 00:00:00  65.0     M               1  2567031.83   \n",
       "8  21149  2019-01-01 00:00:00  64.0     M               0   305520.02   \n",
       "9  24510  2019-01-01 00:00:00  60.0     M               1  2214043.53   \n",
       "\n",
       "   has_workplace  has_fili  has_pas  equity_trd_cnt  ret_only_indic  \\\n",
       "0              0         0        0              10               0   \n",
       "1              1         0        0               0               0   \n",
       "2              0         0        0               0               0   \n",
       "3              0         0        0              19               0   \n",
       "4              0         0        1              27               0   \n",
       "5              0         0        0               0               0   \n",
       "6              0         0        0               0               0   \n",
       "7              0         0        0               2               0   \n",
       "8              1         0        0               0               0   \n",
       "9              0         0        0               0               0   \n",
       "\n",
       "   web_sessions_cnt  branch_appts_cnt  rep_calls_cnt             pgc_tam  \n",
       "0               689                 1              2  Growth with Income  \n",
       "1               146                 2              1              Growth  \n",
       "2                61                 0              3              Growth  \n",
       "3               393                 0              1            Balanced  \n",
       "4              1529                 0              0            Balanced  \n",
       "5                 4                 0              0   Aggressive Growth  \n",
       "6                11                 0              0   Aggressive Growth  \n",
       "7               289                 0              0              Growth  \n",
       "8               282                 0              0  Growth with Income  \n",
       "9               383                 4              1        Conservative  "
      ]
     },
     "execution_count": 60,
     "metadata": {},
     "output_type": "execute_result"
    }
   ],
   "source": [
    "users_df = pd.read_csv(\"recsys_data/users.csv\")\n",
    "users_df.head(10)"
   ]
  },
  {
   "cell_type": "code",
   "execution_count": 61,
   "metadata": {},
   "outputs": [
    {
     "data": {
      "text/plain": [
       "ip                     0\n",
       "event_date             0\n",
       "age                 1728\n",
       "gender              1402\n",
       "covered_indic          0\n",
       "tot_pi_amt             0\n",
       "has_workplace          0\n",
       "has_fili               0\n",
       "has_pas                0\n",
       "equity_trd_cnt         0\n",
       "ret_only_indic         0\n",
       "web_sessions_cnt       0\n",
       "branch_appts_cnt       0\n",
       "rep_calls_cnt          0\n",
       "pgc_tam                0\n",
       "dtype: int64"
      ]
     },
     "execution_count": 61,
     "metadata": {},
     "output_type": "execute_result"
    }
   ],
   "source": [
    "users_df.isnull().sum()"
   ]
  },
  {
   "cell_type": "code",
   "execution_count": 62,
   "metadata": {},
   "outputs": [],
   "source": [
    "from sklearn.impute import SimpleImputer\n",
    "mean_imputer_age = SimpleImputer(strategy='median')\n",
    "mean_imputer_gender = SimpleImputer(strategy='most_frequent')\n",
    "users_df['age'] = mean_imputer_age.fit_transform(users_df['age'].values.reshape(-1,1))\n",
    "users_df['gender'] = mean_imputer_gender.fit_transform(users_df['gender'].values.reshape(-1,1))\n"
   ]
  },
  {
   "cell_type": "code",
   "execution_count": 63,
   "metadata": {},
   "outputs": [
    {
     "data": {
      "text/plain": [
       "ip                  0\n",
       "event_date          0\n",
       "age                 0\n",
       "gender              0\n",
       "covered_indic       0\n",
       "tot_pi_amt          0\n",
       "has_workplace       0\n",
       "has_fili            0\n",
       "has_pas             0\n",
       "equity_trd_cnt      0\n",
       "ret_only_indic      0\n",
       "web_sessions_cnt    0\n",
       "branch_appts_cnt    0\n",
       "rep_calls_cnt       0\n",
       "pgc_tam             0\n",
       "dtype: int64"
      ]
     },
     "execution_count": 63,
     "metadata": {},
     "output_type": "execute_result"
    }
   ],
   "source": [
    "users_df.isnull().sum()"
   ]
  },
  {
   "cell_type": "code",
   "execution_count": 69,
   "metadata": {},
   "outputs": [
    {
     "data": {
      "text/plain": [
       "['M ', 'F ', '? ', '* ']"
      ]
     },
     "execution_count": 69,
     "metadata": {},
     "output_type": "execute_result"
    }
   ],
   "source": [
    "list(users_df['gender'].unique())"
   ]
  },
  {
   "cell_type": "code",
   "execution_count": 72,
   "metadata": {},
   "outputs": [
    {
     "data": {
      "text/plain": [
       "[3,\n",
       " 2,\n",
       " 1,\n",
       " 0,\n",
       " 'Growth with Income',\n",
       " 'Growth',\n",
       " 'Balanced',\n",
       " 'Aggressive Growth',\n",
       " 'Conservative',\n",
       " 'Moderate with Income',\n",
       " 'Moderate',\n",
       " 'Most Aggressive',\n",
       " 'Short Term',\n",
       " 'All Equity',\n",
       " 'None']"
      ]
     },
     "execution_count": 72,
     "metadata": {},
     "output_type": "execute_result"
    }
   ],
   "source": [
    "enval = list(users_df['gender'].unique()) + list(users_df['pgc_tam'].unique())\n",
    "enval"
   ]
  },
  {
   "cell_type": "code",
   "execution_count": 73,
   "metadata": {},
   "outputs": [],
   "source": [
    "# Import label encoder\n",
    "from sklearn import preprocessing\n",
    "  \n",
    "# label_encoder object knows how to understand word labels.\n",
    "label_encoder = preprocessing.LabelEncoder()\n",
    "\n",
    "\n",
    "label_encoder.fit(enval)\n",
    "# Encode labels in column 'species'.\n",
    "users_df['gender']= label_encoder.transform(users_df['gender'])\n",
    "users_df['pgc_tam']= label_encoder.transform(users_df['pgc_tam'])\n",
    "  \n"
   ]
  },
  {
   "cell_type": "code",
   "execution_count": 77,
   "metadata": {},
   "outputs": [],
   "source": [
    "# users_df.drop('event_date', axis=1, inplace=True)\n",
    "users_df.to_csv('outputs/users_.csv')"
   ]
  },
  {
   "cell_type": "code",
   "execution_count": 68,
   "metadata": {},
   "outputs": [
    {
     "data": {
      "text/plain": [
       "ip                  485254\n",
       "event_date               1\n",
       "age                     92\n",
       "gender                   4\n",
       "covered_indic            2\n",
       "tot_pi_amt          460924\n",
       "has_workplace            2\n",
       "has_fili                 2\n",
       "has_pas                  2\n",
       "equity_trd_cnt        1205\n",
       "ret_only_indic           2\n",
       "web_sessions_cnt      2228\n",
       "branch_appts_cnt        24\n",
       "rep_calls_cnt          168\n",
       "pgc_tam                 11\n",
       "dtype: int64"
      ]
     },
     "execution_count": 68,
     "metadata": {},
     "output_type": "execute_result"
    }
   ],
   "source": [
    "users_df.nunique()"
   ]
  },
  {
   "cell_type": "code",
   "execution_count": 69,
   "metadata": {},
   "outputs": [],
   "source": [
    "train_sample_users_df = train_sample_df.merge(users_df.loc[:,~users_df.columns.isin(['event_date'])],on='ip')"
   ]
  },
  {
   "cell_type": "code",
   "execution_count": 112,
   "metadata": {},
   "outputs": [],
   "source": [
    "train_sample_users_article_df = train_sample_users_df.merge(articles_merged_df.loc[:,articles_merged_df.columns.isin(['tcm_id','vstopic','rank','all_text_len'])],on='tcm_id')"
   ]
  },
  {
   "cell_type": "code",
   "execution_count": 113,
   "metadata": {},
   "outputs": [
    {
     "data": {
      "text/plain": [
       "tcm_id             66\n",
       "vstopic            27\n",
       "vsproduct          41\n",
       "topic              60\n",
       "product            55\n",
       "headline           65\n",
       "all_text           64\n",
       "tcm_click_count    66\n",
       "tcm_popularity     66\n",
       "rank               66\n",
       "all_text_len       64\n",
       "dtype: int64"
      ]
     },
     "execution_count": 113,
     "metadata": {},
     "output_type": "execute_result"
    }
   ],
   "source": [
    "articles_merged_df.nunique()"
   ]
  },
  {
   "cell_type": "code",
   "execution_count": 114,
   "metadata": {},
   "outputs": [],
   "source": [
    "articles_merged_df['all_text_len']  = articles_merged_df['all_text'].str.len()"
   ]
  },
  {
   "cell_type": "code",
   "execution_count": 115,
   "metadata": {},
   "outputs": [
    {
     "data": {
      "text/plain": [
       "count       64.000000\n",
       "mean      9372.250000\n",
       "std       3003.429225\n",
       "min       4847.000000\n",
       "25%       7132.500000\n",
       "50%       8656.500000\n",
       "75%      10986.250000\n",
       "max      20587.000000\n",
       "Name: all_text_len, dtype: float64"
      ]
     },
     "execution_count": 115,
     "metadata": {},
     "output_type": "execute_result"
    }
   ],
   "source": [
    "articles_merged_df['all_text_len'].describe()"
   ]
  }
 ],
 "metadata": {
  "instance_type": "ml.g4dn.xlarge",
  "kernelspec": {
   "display_name": "Python 3 (Data Science)",
   "language": "python",
   "name": "python3__SAGEMAKER_INTERNAL__arn:aws:sagemaker:us-east-1:081325390199:image/datascience-1.0"
  },
  "language_info": {
   "codemirror_mode": {
    "name": "ipython",
    "version": 3
   },
   "file_extension": ".py",
   "mimetype": "text/x-python",
   "name": "python",
   "nbconvert_exporter": "python",
   "pygments_lexer": "ipython3",
   "version": "3.7.10"
  },
  "lcc_arn": "arn:aws:sagemaker:us-east-1:647324198242:studio-lifecycle-config/dlsg-sagemaker-kernel-on-start-e8130f",
  "vscode": {
   "interpreter": {
    "hash": "873edb8f59e5e021153831759352b3edd89a1af83a7755b311d06695271d64f2"
   }
  }
 },
 "nbformat": 4,
 "nbformat_minor": 4
}
