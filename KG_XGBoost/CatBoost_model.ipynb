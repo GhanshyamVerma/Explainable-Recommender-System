{
 "cells": [
  {
   "cell_type": "code",
   "execution_count": 2,
   "id": "21deab03-ad5d-4358-ac55-a48e9ebcadfc",
   "metadata": {},
   "outputs": [
    {
     "name": "stdout",
     "output_type": "stream",
     "text": [
      "Collecting catboost\n",
      "  Using cached catboost-1.1.1-cp37-none-manylinux1_x86_64.whl (76.6 MB)\n",
      "Requirement already satisfied: numpy>=1.16.0 in /opt/conda/lib/python3.7/site-packages (from catboost) (1.21.6)\n",
      "Requirement already satisfied: matplotlib in /opt/conda/lib/python3.7/site-packages (from catboost) (3.5.3)\n",
      "Requirement already satisfied: plotly in /opt/conda/lib/python3.7/site-packages (from catboost) (4.14.3)\n",
      "Requirement already satisfied: scipy in /opt/conda/lib/python3.7/site-packages (from catboost) (1.7.3)\n",
      "Requirement already satisfied: six in /opt/conda/lib/python3.7/site-packages (from catboost) (1.14.0)\n",
      "Requirement already satisfied: pandas>=0.24.0 in /opt/conda/lib/python3.7/site-packages (from catboost) (1.3.5)\n",
      "Collecting graphviz\n",
      "  Using cached graphviz-0.20.1-py3-none-any.whl (47 kB)\n",
      "Requirement already satisfied: pytz>=2017.3 in /opt/conda/lib/python3.7/site-packages (from pandas>=0.24.0->catboost) (2019.3)\n",
      "Requirement already satisfied: python-dateutil>=2.7.3 in /opt/conda/lib/python3.7/site-packages (from pandas>=0.24.0->catboost) (2.8.2)\n",
      "Requirement already satisfied: packaging>=20.0 in /opt/conda/lib/python3.7/site-packages (from matplotlib->catboost) (23.0)\n",
      "Requirement already satisfied: cycler>=0.10 in /opt/conda/lib/python3.7/site-packages (from matplotlib->catboost) (0.10.0)\n",
      "Requirement already satisfied: fonttools>=4.22.0 in /opt/conda/lib/python3.7/site-packages (from matplotlib->catboost) (4.38.0)\n",
      "Requirement already satisfied: pillow>=6.2.0 in /opt/conda/lib/python3.7/site-packages (from matplotlib->catboost) (9.4.0)\n",
      "Requirement already satisfied: kiwisolver>=1.0.1 in /opt/conda/lib/python3.7/site-packages (from matplotlib->catboost) (1.1.0)\n",
      "Requirement already satisfied: pyparsing>=2.2.1 in /opt/conda/lib/python3.7/site-packages (from matplotlib->catboost) (2.4.6)\n",
      "Requirement already satisfied: retrying>=1.3.3 in /opt/conda/lib/python3.7/site-packages (from plotly->catboost) (1.3.4)\n",
      "Requirement already satisfied: setuptools in /opt/conda/lib/python3.7/site-packages (from kiwisolver>=1.0.1->matplotlib->catboost) (59.3.0)\n",
      "Installing collected packages: graphviz, catboost\n",
      "Successfully installed catboost-1.1.1 graphviz-0.20.1\n",
      "\u001b[33mWARNING: Running pip as the 'root' user can result in broken permissions and conflicting behaviour with the system package manager. It is recommended to use a virtual environment instead: https://pip.pypa.io/warnings/venv\u001b[0m\u001b[33m\n",
      "\u001b[0m"
     ]
    }
   ],
   "source": [
    "#!pip install -r requirements.txt\n",
    "!pip install catboost"
   ]
  },
  {
   "cell_type": "code",
   "execution_count": 3,
   "id": "b5ee70d0-1736-4142-a6f2-b47c265bd3ae",
   "metadata": {},
   "outputs": [],
   "source": [
    "import pandas as pd\n",
    "import numpy as np\n",
    "import xgboost as xgb\n",
    "import optuna \n",
    "from optuna import Trial, visualization\n",
    "from optuna.samplers import TPESampler\n",
    "from matplotlib import pyplot\n",
    "import recmetrics\n",
    "import sys\n",
    "import pprint\n",
    "import tqdm\n",
    "import catboost\n",
    "\n",
    "from prediction import LtrPrediction\n",
    "from processing import DataPreprocessing\n",
    "import ltr_utils as ut"
   ]
  },
  {
   "cell_type": "markdown",
   "id": "30865fa3-569a-43ea-ac25-d73e9c50e93b",
   "metadata": {},
   "source": [
    "## Data Sampling"
   ]
  },
  {
   "cell_type": "code",
   "execution_count": 4,
   "id": "aeca2cd8-08e8-48fa-9798-619be95e2025",
   "metadata": {},
   "outputs": [],
   "source": [
    "dv_train = pd.read_csv('recsys_data/train.csv')\n",
    "x = dv_train[dv_train['response'] == 1].groupby('ip').size().reset_index(name='num_clicks').sort_values(by=['num_clicks'], ascending=False)['ip'].head(100)\n",
    "df_ip = pd.DataFrame({'ip':x})\n",
    "dv_train = pd.merge(dv_train,df_ip,on='ip')"
   ]
  },
  {
   "cell_type": "code",
   "execution_count": 5,
   "id": "ee3c73d8-0463-4c1e-bd6a-a706112eace1",
   "metadata": {},
   "outputs": [
    {
     "data": {
      "text/plain": [
       "ip            100\n",
       "event_date     10\n",
       "tcm_id         66\n",
       "response        2\n",
       "dtype: int64"
      ]
     },
     "execution_count": 5,
     "metadata": {},
     "output_type": "execute_result"
    }
   ],
   "source": [
    "dv_train.nunique()"
   ]
  },
  {
   "cell_type": "code",
   "execution_count": 6,
   "id": "0d20a12a-a0d0-4c17-b3af-f05c99b5301c",
   "metadata": {},
   "outputs": [
    {
     "data": {
      "text/plain": [
       "8090"
      ]
     },
     "execution_count": 6,
     "metadata": {},
     "output_type": "execute_result"
    }
   ],
   "source": [
    "len(dv_train)"
   ]
  },
  {
   "cell_type": "code",
   "execution_count": 7,
   "id": "ced060bf-4e9b-45cd-88f1-02e4e98d6da2",
   "metadata": {},
   "outputs": [],
   "source": [
    "dv_test = pd.read_csv('recsys_data/test_all.csv')\n",
    "dv_test = pd.merge(dv_test,df_ip,on='ip')"
   ]
  },
  {
   "cell_type": "code",
   "execution_count": 8,
   "id": "e831db0b-0c8b-4adf-b3e5-a219c52fef17",
   "metadata": {},
   "outputs": [
    {
     "data": {
      "text/plain": [
       "ip            100\n",
       "event_date      1\n",
       "tcm_id         66\n",
       "response        2\n",
       "dtype: int64"
      ]
     },
     "execution_count": 8,
     "metadata": {},
     "output_type": "execute_result"
    }
   ],
   "source": [
    "dv_test = dv_test.drop(['Unnamed: 0'], axis=1)\n",
    "dv_test.nunique()"
   ]
  },
  {
   "cell_type": "code",
   "execution_count": 9,
   "id": "aa7ee942-28e3-4321-8569-43f8e25e5d30",
   "metadata": {},
   "outputs": [
    {
     "data": {
      "text/plain": [
       "6600"
      ]
     },
     "execution_count": 9,
     "metadata": {},
     "output_type": "execute_result"
    }
   ],
   "source": [
    "len(dv_test)"
   ]
  },
  {
   "cell_type": "code",
   "execution_count": 10,
   "id": "f17735ba-26b9-419b-a402-b02bed69a7f3",
   "metadata": {},
   "outputs": [],
   "source": [
    "dv_test = dv_test.head(1000)\n",
    "dv_train = dv_train.head(1000)"
   ]
  },
  {
   "cell_type": "code",
   "execution_count": 11,
   "id": "104a76d5-acd7-4fc0-b21d-d41218385615",
   "metadata": {},
   "outputs": [],
   "source": [
    "dv_train.to_csv('outputs/sample_train.csv')\n",
    "dv_test.to_csv('outputs/sample_test.csv')"
   ]
  },
  {
   "cell_type": "markdown",
   "id": "d47c6d61-09bc-43fe-9da2-818612a5b177",
   "metadata": {},
   "source": [
    "## Data Preprocessing"
   ]
  },
  {
   "cell_type": "code",
   "execution_count": 12,
   "id": "20e0ec0b-e585-4c43-a85e-28b0ee752527",
   "metadata": {},
   "outputs": [],
   "source": [
    "data_dict = {\n",
    "    'train' : 'outputs/sample_train.csv',\n",
    "    'test' : 'outputs/sample_test.csv',\n",
    "    'articles' : 'recsys_data/articles.csv',\n",
    "    'users' : 'recsys_data/users.csv'\n",
    "}"
   ]
  },
  {
   "cell_type": "code",
   "execution_count": 13,
   "id": "c03c65c7-8e96-45a8-8448-a0f9a7aa35ef",
   "metadata": {},
   "outputs": [
    {
     "name": "stdout",
     "output_type": "stream",
     "text": [
      "(458, 19) (869, 19)\n"
     ]
    }
   ],
   "source": [
    "DataPrep = DataPreprocessing(data_dict)"
   ]
  },
  {
   "cell_type": "raw",
   "id": "8899a75b-03fb-4114-891f-64fd61490df5",
   "metadata": {},
   "source": [
    "'''\n",
    "KG PATHS\n",
    "        'KG_ConceptNet_100'  : 'outputs/KGs/KG_ConceptNet_100.txt',\n",
    "        'KG_dep_parsing_100' : 'outputs/KGs/KG_dep_parsing_100.txt',\n",
    "        'KG_dep_parsing_500' : 'outputs/KGs/KG_dep_parsing_500.txt'\n",
    "'''"
   ]
  },
  {
   "cell_type": "code",
   "execution_count": 14,
   "id": "32d7de59-7b3e-42c4-b83e-576c2bf900f4",
   "metadata": {},
   "outputs": [],
   "source": [
    "DataPrep.init_KG('outputs/KGs/KG_dep_parsing_100terms.txt')"
   ]
  },
  {
   "cell_type": "code",
   "execution_count": 15,
   "id": "26ad61e2-4394-4b6e-bdbf-319a3b5fb1f9",
   "metadata": {},
   "outputs": [],
   "source": [
    "DataPrep.init_SentenceTransformer('all-MiniLM-L6-v2')"
   ]
  },
  {
   "cell_type": "code",
   "execution_count": 16,
   "id": "604e91d3-85c6-4c0a-b363-3bab4d687489",
   "metadata": {},
   "outputs": [
    {
     "name": "stderr",
     "output_type": "stream",
     "text": [
      "100%|██████████| 869/869 [00:31<00:00, 27.98it/s]\n",
      "100%|██████████| 869/869 [00:06<00:00, 140.50it/s]\n",
      "/opt/conda/lib/python3.7/site-packages/sklearn/utils/deprecation.py:87: FutureWarning: Function get_feature_names is deprecated; get_feature_names is deprecated in 1.0 and will be removed in 1.2. Please use get_feature_names_out instead.\n",
      "  warnings.warn(msg, category=FutureWarning)\n",
      "100%|██████████| 458/458 [00:14<00:00, 32.27it/s]\n",
      "100%|██████████| 458/458 [00:03<00:00, 131.22it/s]\n"
     ]
    }
   ],
   "source": [
    "train_data_df, test_data_df = DataPrep.fit_data_pipeline()"
   ]
  },
  {
   "cell_type": "raw",
   "id": "88001595-1f76-400c-b993-d5b95966327e",
   "metadata": {},
   "source": [
    "'''\n",
    "FEATURE SELECTION\n",
    "            ['art'],\n",
    "            ['art','usr'],\n",
    "            ['art','st'],\n",
    "            ['art','st','usr'],\n",
    "            ['art','kg'],\n",
    "            ['art','usr','kg']\n",
    "            ['art','usr','st','kg']\n",
    "'''"
   ]
  },
  {
   "cell_type": "code",
   "execution_count": 17,
   "id": "de7771d2-1cb1-44e9-aa0d-917493d0e5a4",
   "metadata": {},
   "outputs": [
    {
     "name": "stdout",
     "output_type": "stream",
     "text": [
      "(869, 151) (869, 1) (458, 151) (458, 1)\n"
     ]
    }
   ],
   "source": [
    "processed_data_dict = DataPrep.get_train_test_split(['art','usr','kg','st'])"
   ]
  },
  {
   "cell_type": "code",
   "execution_count": 18,
   "id": "d9179e17-29a6-42e2-9e88-d3969aff7d30",
   "metadata": {},
   "outputs": [],
   "source": [
    "X_train, y_train, groups_train, qid_train, X_test, y_test, qid_test, groups_test = processed_data_dict['train_test']\n",
    "test_data = processed_data_dict['test_data']"
   ]
  },
  {
   "cell_type": "markdown",
   "id": "baf7bd8c-426c-4f21-a777-33bcc8155680",
   "metadata": {},
   "source": [
    "## Model Training"
   ]
  },
  {
   "cell_type": "code",
   "execution_count": 21,
   "id": "0143a9a0-fd07-412a-bf34-3e85f9800a3e",
   "metadata": {},
   "outputs": [
    {
     "data": {
      "application/vnd.jupyter.widget-view+json": {
       "model_id": "e9c3bb4578464852bc83f9f19b678592",
       "version_major": 2,
       "version_minor": 0
      },
      "text/plain": [
       "MetricVisualizer(layout=Layout(align_self='stretch', height='500px'))"
      ]
     },
     "metadata": {},
     "output_type": "display_data"
    },
    {
     "name": "stderr",
     "output_type": "stream",
     "text": [
      "Warning: less than 75% gpu memory available for training. Free: 9785.75 Total: 15109.75\n",
      "Default metric period is 5 because MAP is/are not implemented for GPU\n",
      "Metric MAP:top=10 is not implemented on GPU. Will use CPU for metric computation, this could significantly affect learning time\n"
     ]
    },
    {
     "name": "stdout",
     "output_type": "stream",
     "text": [
      "default Test  :   0.9235080549632788\n"
     ]
    }
   ],
   "source": [
    "train = catboost.Pool(\n",
    "        data=X_train,\n",
    "        label=y_train,\n",
    "        group_id=qid_train\n",
    "    )\n",
    "\n",
    "test = catboost.Pool(\n",
    "    data=X_test,\n",
    "    label=y_test,\n",
    "    group_id=qid_test\n",
    ")\n",
    "\n",
    "parameters  = {\n",
    "    \"task_type\":\"GPU\",\n",
    "    \"has_time\":True,\n",
    "    \"save_snapshot\":False,\n",
    "    \"use_best_model\":True, # requires eval set to be set\n",
    "    \"loss_function\":'PairLogitPairwise',\n",
    "    'custom_metric': ['MAP:top=10'],\n",
    "\n",
    "} \n",
    "\n",
    "model = catboost.CatBoostRanker(**parameters)\n",
    "model.fit(train, eval_set=test, plot=True,verbose=False)\n",
    "\n",
    "test_score = np.mean(model.get_evals_result()[\"learn\"]['MAP:top=10'])\n",
    "\n",
    "print('default Test  :  ',test_score)"
   ]
  },
  {
   "cell_type": "markdown",
   "id": "2a8491be-ef51-4ab7-b7e1-fa2a2e011bb4",
   "metadata": {},
   "source": [
    "## Hyperparameter Tuning"
   ]
  },
  {
   "cell_type": "code",
   "execution_count": 22,
   "id": "246b4554-f898-481e-b922-ec6db0e1a746",
   "metadata": {},
   "outputs": [
    {
     "name": "stderr",
     "output_type": "stream",
     "text": [
      "RSM on GPU will work only for non-binary features. Plus current implementation will sample by groups, so this could slightly affect quality in positive or negative way\n",
      "Warning: less than 75% gpu memory available for training. Free: 9785.75 Total: 15109.75\n",
      "RSM on GPU will work only for non-binary features. Plus current implementation will sample by groups, so this could slightly affect quality in positive or negative way\n",
      "RSM on GPU will work only for non-binary features. Plus current implementation will sample by groups, so this could slightly affect quality in positive or negative way\n",
      "Default metric period is 5 because MAP is/are not implemented for GPU\n",
      "Metric MAP:top=10 is not implemented on GPU. Will use CPU for metric computation, this could significantly affect learning time\n",
      "RSM on GPU will work only for non-binary features. Plus current implementation will sample by groups, so this could slightly affect quality in positive or negative way\n",
      "Warning: less than 75% gpu memory available for training. Free: 9785.75 Total: 15109.75\n",
      "RSM on GPU will work only for non-binary features. Plus current implementation will sample by groups, so this could slightly affect quality in positive or negative way\n",
      "RSM on GPU will work only for non-binary features. Plus current implementation will sample by groups, so this could slightly affect quality in positive or negative way\n",
      "Default metric period is 5 because MAP is/are not implemented for GPU\n",
      "Metric MAP:top=10 is not implemented on GPU. Will use CPU for metric computation, this could significantly affect learning time\n",
      "RSM on GPU will work only for non-binary features. Plus current implementation will sample by groups, so this could slightly affect quality in positive or negative way\n",
      "Warning: less than 75% gpu memory available for training. Free: 9785.75 Total: 15109.75\n",
      "RSM on GPU will work only for non-binary features. Plus current implementation will sample by groups, so this could slightly affect quality in positive or negative way\n",
      "RSM on GPU will work only for non-binary features. Plus current implementation will sample by groups, so this could slightly affect quality in positive or negative way\n",
      "Default metric period is 5 because MAP is/are not implemented for GPU\n",
      "Metric MAP:top=10 is not implemented on GPU. Will use CPU for metric computation, this could significantly affect learning time\n",
      "RSM on GPU will work only for non-binary features. Plus current implementation will sample by groups, so this could slightly affect quality in positive or negative way\n",
      "Warning: less than 75% gpu memory available for training. Free: 9785.75 Total: 15109.75\n",
      "RSM on GPU will work only for non-binary features. Plus current implementation will sample by groups, so this could slightly affect quality in positive or negative way\n",
      "RSM on GPU will work only for non-binary features. Plus current implementation will sample by groups, so this could slightly affect quality in positive or negative way\n",
      "Default metric period is 5 because MAP is/are not implemented for GPU\n",
      "Metric MAP:top=10 is not implemented on GPU. Will use CPU for metric computation, this could significantly affect learning time\n",
      "RSM on GPU will work only for non-binary features. Plus current implementation will sample by groups, so this could slightly affect quality in positive or negative way\n",
      "Warning: less than 75% gpu memory available for training. Free: 9785.75 Total: 15109.75\n",
      "RSM on GPU will work only for non-binary features. Plus current implementation will sample by groups, so this could slightly affect quality in positive or negative way\n",
      "RSM on GPU will work only for non-binary features. Plus current implementation will sample by groups, so this could slightly affect quality in positive or negative way\n",
      "Default metric period is 5 because MAP is/are not implemented for GPU\n",
      "Metric MAP:top=10 is not implemented on GPU. Will use CPU for metric computation, this could significantly affect learning time\n",
      "RSM on GPU will work only for non-binary features. Plus current implementation will sample by groups, so this could slightly affect quality in positive or negative way\n",
      "Warning: less than 75% gpu memory available for training. Free: 9785.75 Total: 15109.75\n",
      "RSM on GPU will work only for non-binary features. Plus current implementation will sample by groups, so this could slightly affect quality in positive or negative way\n",
      "RSM on GPU will work only for non-binary features. Plus current implementation will sample by groups, so this could slightly affect quality in positive or negative way\n",
      "Default metric period is 5 because MAP is/are not implemented for GPU\n",
      "Metric MAP:top=10 is not implemented on GPU. Will use CPU for metric computation, this could significantly affect learning time\n",
      "RSM on GPU will work only for non-binary features. Plus current implementation will sample by groups, so this could slightly affect quality in positive or negative way\n",
      "Warning: less than 75% gpu memory available for training. Free: 9785.75 Total: 15109.75\n",
      "RSM on GPU will work only for non-binary features. Plus current implementation will sample by groups, so this could slightly affect quality in positive or negative way\n",
      "RSM on GPU will work only for non-binary features. Plus current implementation will sample by groups, so this could slightly affect quality in positive or negative way\n",
      "Default metric period is 5 because MAP is/are not implemented for GPU\n",
      "Metric MAP:top=10 is not implemented on GPU. Will use CPU for metric computation, this could significantly affect learning time\n",
      "RSM on GPU will work only for non-binary features. Plus current implementation will sample by groups, so this could slightly affect quality in positive or negative way\n",
      "Warning: less than 75% gpu memory available for training. Free: 9785.75 Total: 15109.75\n",
      "RSM on GPU will work only for non-binary features. Plus current implementation will sample by groups, so this could slightly affect quality in positive or negative way\n",
      "RSM on GPU will work only for non-binary features. Plus current implementation will sample by groups, so this could slightly affect quality in positive or negative way\n",
      "Default metric period is 5 because MAP is/are not implemented for GPU\n",
      "Metric MAP:top=10 is not implemented on GPU. Will use CPU for metric computation, this could significantly affect learning time\n",
      "RSM on GPU will work only for non-binary features. Plus current implementation will sample by groups, so this could slightly affect quality in positive or negative way\n",
      "Warning: less than 75% gpu memory available for training. Free: 9785.75 Total: 15109.75\n",
      "RSM on GPU will work only for non-binary features. Plus current implementation will sample by groups, so this could slightly affect quality in positive or negative way\n",
      "RSM on GPU will work only for non-binary features. Plus current implementation will sample by groups, so this could slightly affect quality in positive or negative way\n",
      "Default metric period is 5 because MAP is/are not implemented for GPU\n",
      "Metric MAP:top=10 is not implemented on GPU. Will use CPU for metric computation, this could significantly affect learning time\n",
      "RSM on GPU will work only for non-binary features. Plus current implementation will sample by groups, so this could slightly affect quality in positive or negative way\n",
      "Warning: less than 75% gpu memory available for training. Free: 9785.75 Total: 15109.75\n",
      "RSM on GPU will work only for non-binary features. Plus current implementation will sample by groups, so this could slightly affect quality in positive or negative way\n",
      "RSM on GPU will work only for non-binary features. Plus current implementation will sample by groups, so this could slightly affect quality in positive or negative way\n",
      "Default metric period is 5 because MAP is/are not implemented for GPU\n",
      "Metric MAP:top=10 is not implemented on GPU. Will use CPU for metric computation, this could significantly affect learning time\n",
      "RSM on GPU will work only for non-binary features. Plus current implementation will sample by groups, so this could slightly affect quality in positive or negative way\n",
      "Warning: less than 75% gpu memory available for training. Free: 9785.75 Total: 15109.75\n",
      "RSM on GPU will work only for non-binary features. Plus current implementation will sample by groups, so this could slightly affect quality in positive or negative way\n",
      "RSM on GPU will work only for non-binary features. Plus current implementation will sample by groups, so this could slightly affect quality in positive or negative way\n",
      "Default metric period is 5 because MAP is/are not implemented for GPU\n",
      "Metric MAP:top=10 is not implemented on GPU. Will use CPU for metric computation, this could significantly affect learning time\n",
      "RSM on GPU will work only for non-binary features. Plus current implementation will sample by groups, so this could slightly affect quality in positive or negative way\n",
      "Warning: less than 75% gpu memory available for training. Free: 9785.75 Total: 15109.75\n",
      "RSM on GPU will work only for non-binary features. Plus current implementation will sample by groups, so this could slightly affect quality in positive or negative way\n",
      "RSM on GPU will work only for non-binary features. Plus current implementation will sample by groups, so this could slightly affect quality in positive or negative way\n",
      "Default metric period is 5 because MAP is/are not implemented for GPU\n",
      "Metric MAP:top=10 is not implemented on GPU. Will use CPU for metric computation, this could significantly affect learning time\n",
      "RSM on GPU will work only for non-binary features. Plus current implementation will sample by groups, so this could slightly affect quality in positive or negative way\n",
      "Warning: less than 75% gpu memory available for training. Free: 9785.75 Total: 15109.75\n",
      "RSM on GPU will work only for non-binary features. Plus current implementation will sample by groups, so this could slightly affect quality in positive or negative way\n",
      "RSM on GPU will work only for non-binary features. Plus current implementation will sample by groups, so this could slightly affect quality in positive or negative way\n",
      "Default metric period is 5 because MAP is/are not implemented for GPU\n",
      "Metric MAP:top=10 is not implemented on GPU. Will use CPU for metric computation, this could significantly affect learning time\n",
      "RSM on GPU will work only for non-binary features. Plus current implementation will sample by groups, so this could slightly affect quality in positive or negative way\n",
      "Warning: less than 75% gpu memory available for training. Free: 9785.75 Total: 15109.75\n",
      "RSM on GPU will work only for non-binary features. Plus current implementation will sample by groups, so this could slightly affect quality in positive or negative way\n",
      "RSM on GPU will work only for non-binary features. Plus current implementation will sample by groups, so this could slightly affect quality in positive or negative way\n",
      "Default metric period is 5 because MAP is/are not implemented for GPU\n",
      "Metric MAP:top=10 is not implemented on GPU. Will use CPU for metric computation, this could significantly affect learning time\n",
      "RSM on GPU will work only for non-binary features. Plus current implementation will sample by groups, so this could slightly affect quality in positive or negative way\n",
      "Warning: less than 75% gpu memory available for training. Free: 9785.75 Total: 15109.75\n",
      "RSM on GPU will work only for non-binary features. Plus current implementation will sample by groups, so this could slightly affect quality in positive or negative way\n",
      "RSM on GPU will work only for non-binary features. Plus current implementation will sample by groups, so this could slightly affect quality in positive or negative way\n",
      "Default metric period is 5 because MAP is/are not implemented for GPU\n",
      "Metric MAP:top=10 is not implemented on GPU. Will use CPU for metric computation, this could significantly affect learning time\n",
      "RSM on GPU will work only for non-binary features. Plus current implementation will sample by groups, so this could slightly affect quality in positive or negative way\n",
      "Warning: less than 75% gpu memory available for training. Free: 9785.75 Total: 15109.75\n",
      "RSM on GPU will work only for non-binary features. Plus current implementation will sample by groups, so this could slightly affect quality in positive or negative way\n",
      "RSM on GPU will work only for non-binary features. Plus current implementation will sample by groups, so this could slightly affect quality in positive or negative way\n",
      "Default metric period is 5 because MAP is/are not implemented for GPU\n",
      "Metric MAP:top=10 is not implemented on GPU. Will use CPU for metric computation, this could significantly affect learning time\n",
      "RSM on GPU will work only for non-binary features. Plus current implementation will sample by groups, so this could slightly affect quality in positive or negative way\n",
      "Warning: less than 75% gpu memory available for training. Free: 9785.75 Total: 15109.75\n",
      "RSM on GPU will work only for non-binary features. Plus current implementation will sample by groups, so this could slightly affect quality in positive or negative way\n",
      "RSM on GPU will work only for non-binary features. Plus current implementation will sample by groups, so this could slightly affect quality in positive or negative way\n",
      "Default metric period is 5 because MAP is/are not implemented for GPU\n",
      "Metric MAP:top=10 is not implemented on GPU. Will use CPU for metric computation, this could significantly affect learning time\n",
      "RSM on GPU will work only for non-binary features. Plus current implementation will sample by groups, so this could slightly affect quality in positive or negative way\n",
      "Warning: less than 75% gpu memory available for training. Free: 9785.75 Total: 15109.75\n",
      "RSM on GPU will work only for non-binary features. Plus current implementation will sample by groups, so this could slightly affect quality in positive or negative way\n",
      "RSM on GPU will work only for non-binary features. Plus current implementation will sample by groups, so this could slightly affect quality in positive or negative way\n",
      "Default metric period is 5 because MAP is/are not implemented for GPU\n",
      "Metric MAP:top=10 is not implemented on GPU. Will use CPU for metric computation, this could significantly affect learning time\n",
      "RSM on GPU will work only for non-binary features. Plus current implementation will sample by groups, so this could slightly affect quality in positive or negative way\n",
      "Warning: less than 75% gpu memory available for training. Free: 9785.75 Total: 15109.75\n",
      "RSM on GPU will work only for non-binary features. Plus current implementation will sample by groups, so this could slightly affect quality in positive or negative way\n",
      "RSM on GPU will work only for non-binary features. Plus current implementation will sample by groups, so this could slightly affect quality in positive or negative way\n",
      "Default metric period is 5 because MAP is/are not implemented for GPU\n",
      "Metric MAP:top=10 is not implemented on GPU. Will use CPU for metric computation, this could significantly affect learning time\n",
      "RSM on GPU will work only for non-binary features. Plus current implementation will sample by groups, so this could slightly affect quality in positive or negative way\n",
      "Warning: less than 75% gpu memory available for training. Free: 9785.75 Total: 15109.75\n",
      "RSM on GPU will work only for non-binary features. Plus current implementation will sample by groups, so this could slightly affect quality in positive or negative way\n",
      "RSM on GPU will work only for non-binary features. Plus current implementation will sample by groups, so this could slightly affect quality in positive or negative way\n",
      "Default metric period is 5 because MAP is/are not implemented for GPU\n",
      "Metric MAP:top=10 is not implemented on GPU. Will use CPU for metric computation, this could significantly affect learning time\n",
      "RSM on GPU will work only for non-binary features. Plus current implementation will sample by groups, so this could slightly affect quality in positive or negative way\n",
      "Warning: less than 75% gpu memory available for training. Free: 9785.75 Total: 15109.75\n",
      "RSM on GPU will work only for non-binary features. Plus current implementation will sample by groups, so this could slightly affect quality in positive or negative way\n",
      "RSM on GPU will work only for non-binary features. Plus current implementation will sample by groups, so this could slightly affect quality in positive or negative way\n",
      "Default metric period is 5 because MAP is/are not implemented for GPU\n",
      "Metric MAP:top=10 is not implemented on GPU. Will use CPU for metric computation, this could significantly affect learning time\n",
      "RSM on GPU will work only for non-binary features. Plus current implementation will sample by groups, so this could slightly affect quality in positive or negative way\n",
      "Warning: less than 75% gpu memory available for training. Free: 9785.75 Total: 15109.75\n",
      "RSM on GPU will work only for non-binary features. Plus current implementation will sample by groups, so this could slightly affect quality in positive or negative way\n",
      "RSM on GPU will work only for non-binary features. Plus current implementation will sample by groups, so this could slightly affect quality in positive or negative way\n",
      "Default metric period is 5 because MAP is/are not implemented for GPU\n",
      "Metric MAP:top=10 is not implemented on GPU. Will use CPU for metric computation, this could significantly affect learning time\n",
      "RSM on GPU will work only for non-binary features. Plus current implementation will sample by groups, so this could slightly affect quality in positive or negative way\n",
      "Warning: less than 75% gpu memory available for training. Free: 9785.75 Total: 15109.75\n",
      "RSM on GPU will work only for non-binary features. Plus current implementation will sample by groups, so this could slightly affect quality in positive or negative way\n",
      "RSM on GPU will work only for non-binary features. Plus current implementation will sample by groups, so this could slightly affect quality in positive or negative way\n",
      "Default metric period is 5 because MAP is/are not implemented for GPU\n",
      "Metric MAP:top=10 is not implemented on GPU. Will use CPU for metric computation, this could significantly affect learning time\n",
      "RSM on GPU will work only for non-binary features. Plus current implementation will sample by groups, so this could slightly affect quality in positive or negative way\n",
      "Warning: less than 75% gpu memory available for training. Free: 9785.75 Total: 15109.75\n",
      "RSM on GPU will work only for non-binary features. Plus current implementation will sample by groups, so this could slightly affect quality in positive or negative way\n",
      "RSM on GPU will work only for non-binary features. Plus current implementation will sample by groups, so this could slightly affect quality in positive or negative way\n",
      "Default metric period is 5 because MAP is/are not implemented for GPU\n",
      "Metric MAP:top=10 is not implemented on GPU. Will use CPU for metric computation, this could significantly affect learning time\n",
      "RSM on GPU will work only for non-binary features. Plus current implementation will sample by groups, so this could slightly affect quality in positive or negative way\n",
      "Warning: less than 75% gpu memory available for training. Free: 9785.75 Total: 15109.75\n",
      "RSM on GPU will work only for non-binary features. Plus current implementation will sample by groups, so this could slightly affect quality in positive or negative way\n",
      "RSM on GPU will work only for non-binary features. Plus current implementation will sample by groups, so this could slightly affect quality in positive or negative way\n",
      "Default metric period is 5 because MAP is/are not implemented for GPU\n",
      "Metric MAP:top=10 is not implemented on GPU. Will use CPU for metric computation, this could significantly affect learning time\n",
      "RSM on GPU will work only for non-binary features. Plus current implementation will sample by groups, so this could slightly affect quality in positive or negative way\n",
      "Warning: less than 75% gpu memory available for training. Free: 9785.75 Total: 15109.75\n",
      "RSM on GPU will work only for non-binary features. Plus current implementation will sample by groups, so this could slightly affect quality in positive or negative way\n",
      "RSM on GPU will work only for non-binary features. Plus current implementation will sample by groups, so this could slightly affect quality in positive or negative way\n",
      "Default metric period is 5 because MAP is/are not implemented for GPU\n",
      "Metric MAP:top=10 is not implemented on GPU. Will use CPU for metric computation, this could significantly affect learning time\n",
      "RSM on GPU will work only for non-binary features. Plus current implementation will sample by groups, so this could slightly affect quality in positive or negative way\n",
      "Warning: less than 75% gpu memory available for training. Free: 9785.75 Total: 15109.75\n",
      "RSM on GPU will work only for non-binary features. Plus current implementation will sample by groups, so this could slightly affect quality in positive or negative way\n",
      "RSM on GPU will work only for non-binary features. Plus current implementation will sample by groups, so this could slightly affect quality in positive or negative way\n",
      "Default metric period is 5 because MAP is/are not implemented for GPU\n",
      "Metric MAP:top=10 is not implemented on GPU. Will use CPU for metric computation, this could significantly affect learning time\n",
      "RSM on GPU will work only for non-binary features. Plus current implementation will sample by groups, so this could slightly affect quality in positive or negative way\n",
      "Warning: less than 75% gpu memory available for training. Free: 9785.75 Total: 15109.75\n",
      "RSM on GPU will work only for non-binary features. Plus current implementation will sample by groups, so this could slightly affect quality in positive or negative way\n",
      "RSM on GPU will work only for non-binary features. Plus current implementation will sample by groups, so this could slightly affect quality in positive or negative way\n",
      "Default metric period is 5 because MAP is/are not implemented for GPU\n",
      "Metric MAP:top=10 is not implemented on GPU. Will use CPU for metric computation, this could significantly affect learning time\n",
      "RSM on GPU will work only for non-binary features. Plus current implementation will sample by groups, so this could slightly affect quality in positive or negative way\n",
      "Warning: less than 75% gpu memory available for training. Free: 9785.75 Total: 15109.75\n",
      "RSM on GPU will work only for non-binary features. Plus current implementation will sample by groups, so this could slightly affect quality in positive or negative way\n",
      "RSM on GPU will work only for non-binary features. Plus current implementation will sample by groups, so this could slightly affect quality in positive or negative way\n",
      "Default metric period is 5 because MAP is/are not implemented for GPU\n",
      "Metric MAP:top=10 is not implemented on GPU. Will use CPU for metric computation, this could significantly affect learning time\n",
      "RSM on GPU will work only for non-binary features. Plus current implementation will sample by groups, so this could slightly affect quality in positive or negative way\n",
      "Warning: less than 75% gpu memory available for training. Free: 9785.75 Total: 15109.75\n",
      "RSM on GPU will work only for non-binary features. Plus current implementation will sample by groups, so this could slightly affect quality in positive or negative way\n",
      "RSM on GPU will work only for non-binary features. Plus current implementation will sample by groups, so this could slightly affect quality in positive or negative way\n",
      "Default metric period is 5 because MAP is/are not implemented for GPU\n",
      "Metric MAP:top=10 is not implemented on GPU. Will use CPU for metric computation, this could significantly affect learning time\n",
      "RSM on GPU will work only for non-binary features. Plus current implementation will sample by groups, so this could slightly affect quality in positive or negative way\n",
      "Warning: less than 75% gpu memory available for training. Free: 9785.75 Total: 15109.75\n",
      "RSM on GPU will work only for non-binary features. Plus current implementation will sample by groups, so this could slightly affect quality in positive or negative way\n",
      "RSM on GPU will work only for non-binary features. Plus current implementation will sample by groups, so this could slightly affect quality in positive or negative way\n",
      "Default metric period is 5 because MAP is/are not implemented for GPU\n",
      "Metric MAP:top=10 is not implemented on GPU. Will use CPU for metric computation, this could significantly affect learning time\n",
      "RSM on GPU will work only for non-binary features. Plus current implementation will sample by groups, so this could slightly affect quality in positive or negative way\n",
      "Warning: less than 75% gpu memory available for training. Free: 9785.75 Total: 15109.75\n",
      "RSM on GPU will work only for non-binary features. Plus current implementation will sample by groups, so this could slightly affect quality in positive or negative way\n",
      "RSM on GPU will work only for non-binary features. Plus current implementation will sample by groups, so this could slightly affect quality in positive or negative way\n",
      "Default metric period is 5 because MAP is/are not implemented for GPU\n",
      "Metric MAP:top=10 is not implemented on GPU. Will use CPU for metric computation, this could significantly affect learning time\n",
      "RSM on GPU will work only for non-binary features. Plus current implementation will sample by groups, so this could slightly affect quality in positive or negative way\n",
      "Warning: less than 75% gpu memory available for training. Free: 9785.75 Total: 15109.75\n",
      "RSM on GPU will work only for non-binary features. Plus current implementation will sample by groups, so this could slightly affect quality in positive or negative way\n",
      "RSM on GPU will work only for non-binary features. Plus current implementation will sample by groups, so this could slightly affect quality in positive or negative way\n",
      "Default metric period is 5 because MAP is/are not implemented for GPU\n",
      "Metric MAP:top=10 is not implemented on GPU. Will use CPU for metric computation, this could significantly affect learning time\n",
      "RSM on GPU will work only for non-binary features. Plus current implementation will sample by groups, so this could slightly affect quality in positive or negative way\n",
      "Warning: less than 75% gpu memory available for training. Free: 9785.75 Total: 15109.75\n",
      "RSM on GPU will work only for non-binary features. Plus current implementation will sample by groups, so this could slightly affect quality in positive or negative way\n",
      "RSM on GPU will work only for non-binary features. Plus current implementation will sample by groups, so this could slightly affect quality in positive or negative way\n",
      "Default metric period is 5 because MAP is/are not implemented for GPU\n",
      "Metric MAP:top=10 is not implemented on GPU. Will use CPU for metric computation, this could significantly affect learning time\n",
      "RSM on GPU will work only for non-binary features. Plus current implementation will sample by groups, so this could slightly affect quality in positive or negative way\n",
      "Warning: less than 75% gpu memory available for training. Free: 9785.75 Total: 15109.75\n",
      "RSM on GPU will work only for non-binary features. Plus current implementation will sample by groups, so this could slightly affect quality in positive or negative way\n",
      "RSM on GPU will work only for non-binary features. Plus current implementation will sample by groups, so this could slightly affect quality in positive or negative way\n",
      "Default metric period is 5 because MAP is/are not implemented for GPU\n",
      "Metric MAP:top=10 is not implemented on GPU. Will use CPU for metric computation, this could significantly affect learning time\n",
      "RSM on GPU will work only for non-binary features. Plus current implementation will sample by groups, so this could slightly affect quality in positive or negative way\n",
      "Warning: less than 75% gpu memory available for training. Free: 9785.75 Total: 15109.75\n",
      "RSM on GPU will work only for non-binary features. Plus current implementation will sample by groups, so this could slightly affect quality in positive or negative way\n",
      "RSM on GPU will work only for non-binary features. Plus current implementation will sample by groups, so this could slightly affect quality in positive or negative way\n",
      "Default metric period is 5 because MAP is/are not implemented for GPU\n",
      "Metric MAP:top=10 is not implemented on GPU. Will use CPU for metric computation, this could significantly affect learning time\n",
      "RSM on GPU will work only for non-binary features. Plus current implementation will sample by groups, so this could slightly affect quality in positive or negative way\n",
      "Warning: less than 75% gpu memory available for training. Free: 9785.75 Total: 15109.75\n",
      "RSM on GPU will work only for non-binary features. Plus current implementation will sample by groups, so this could slightly affect quality in positive or negative way\n",
      "RSM on GPU will work only for non-binary features. Plus current implementation will sample by groups, so this could slightly affect quality in positive or negative way\n",
      "Default metric period is 5 because MAP is/are not implemented for GPU\n",
      "Metric MAP:top=10 is not implemented on GPU. Will use CPU for metric computation, this could significantly affect learning time\n",
      "RSM on GPU will work only for non-binary features. Plus current implementation will sample by groups, so this could slightly affect quality in positive or negative way\n",
      "Warning: less than 75% gpu memory available for training. Free: 9785.75 Total: 15109.75\n",
      "RSM on GPU will work only for non-binary features. Plus current implementation will sample by groups, so this could slightly affect quality in positive or negative way\n",
      "RSM on GPU will work only for non-binary features. Plus current implementation will sample by groups, so this could slightly affect quality in positive or negative way\n",
      "Default metric period is 5 because MAP is/are not implemented for GPU\n",
      "Metric MAP:top=10 is not implemented on GPU. Will use CPU for metric computation, this could significantly affect learning time\n",
      "RSM on GPU will work only for non-binary features. Plus current implementation will sample by groups, so this could slightly affect quality in positive or negative way\n",
      "Warning: less than 75% gpu memory available for training. Free: 9785.75 Total: 15109.75\n",
      "RSM on GPU will work only for non-binary features. Plus current implementation will sample by groups, so this could slightly affect quality in positive or negative way\n",
      "RSM on GPU will work only for non-binary features. Plus current implementation will sample by groups, so this could slightly affect quality in positive or negative way\n",
      "Default metric period is 5 because MAP is/are not implemented for GPU\n",
      "Metric MAP:top=10 is not implemented on GPU. Will use CPU for metric computation, this could significantly affect learning time\n",
      "RSM on GPU will work only for non-binary features. Plus current implementation will sample by groups, so this could slightly affect quality in positive or negative way\n",
      "Warning: less than 75% gpu memory available for training. Free: 9785.75 Total: 15109.75\n",
      "RSM on GPU will work only for non-binary features. Plus current implementation will sample by groups, so this could slightly affect quality in positive or negative way\n",
      "RSM on GPU will work only for non-binary features. Plus current implementation will sample by groups, so this could slightly affect quality in positive or negative way\n",
      "Default metric period is 5 because MAP is/are not implemented for GPU\n",
      "Metric MAP:top=10 is not implemented on GPU. Will use CPU for metric computation, this could significantly affect learning time\n",
      "RSM on GPU will work only for non-binary features. Plus current implementation will sample by groups, so this could slightly affect quality in positive or negative way\n",
      "Warning: less than 75% gpu memory available for training. Free: 9785.75 Total: 15109.75\n",
      "RSM on GPU will work only for non-binary features. Plus current implementation will sample by groups, so this could slightly affect quality in positive or negative way\n",
      "RSM on GPU will work only for non-binary features. Plus current implementation will sample by groups, so this could slightly affect quality in positive or negative way\n",
      "Default metric period is 5 because MAP is/are not implemented for GPU\n",
      "Metric MAP:top=10 is not implemented on GPU. Will use CPU for metric computation, this could significantly affect learning time\n",
      "RSM on GPU will work only for non-binary features. Plus current implementation will sample by groups, so this could slightly affect quality in positive or negative way\n",
      "Warning: less than 75% gpu memory available for training. Free: 9785.75 Total: 15109.75\n",
      "RSM on GPU will work only for non-binary features. Plus current implementation will sample by groups, so this could slightly affect quality in positive or negative way\n",
      "RSM on GPU will work only for non-binary features. Plus current implementation will sample by groups, so this could slightly affect quality in positive or negative way\n",
      "Default metric period is 5 because MAP is/are not implemented for GPU\n",
      "Metric MAP:top=10 is not implemented on GPU. Will use CPU for metric computation, this could significantly affect learning time\n",
      "RSM on GPU will work only for non-binary features. Plus current implementation will sample by groups, so this could slightly affect quality in positive or negative way\n",
      "Warning: less than 75% gpu memory available for training. Free: 9785.75 Total: 15109.75\n",
      "RSM on GPU will work only for non-binary features. Plus current implementation will sample by groups, so this could slightly affect quality in positive or negative way\n",
      "RSM on GPU will work only for non-binary features. Plus current implementation will sample by groups, so this could slightly affect quality in positive or negative way\n",
      "Default metric period is 5 because MAP is/are not implemented for GPU\n",
      "Metric MAP:top=10 is not implemented on GPU. Will use CPU for metric computation, this could significantly affect learning time\n",
      "RSM on GPU will work only for non-binary features. Plus current implementation will sample by groups, so this could slightly affect quality in positive or negative way\n",
      "Warning: less than 75% gpu memory available for training. Free: 9785.75 Total: 15109.75\n",
      "RSM on GPU will work only for non-binary features. Plus current implementation will sample by groups, so this could slightly affect quality in positive or negative way\n",
      "RSM on GPU will work only for non-binary features. Plus current implementation will sample by groups, so this could slightly affect quality in positive or negative way\n",
      "Default metric period is 5 because MAP is/are not implemented for GPU\n",
      "Metric MAP:top=10 is not implemented on GPU. Will use CPU for metric computation, this could significantly affect learning time\n",
      "RSM on GPU will work only for non-binary features. Plus current implementation will sample by groups, so this could slightly affect quality in positive or negative way\n",
      "Warning: less than 75% gpu memory available for training. Free: 9785.75 Total: 15109.75\n",
      "RSM on GPU will work only for non-binary features. Plus current implementation will sample by groups, so this could slightly affect quality in positive or negative way\n",
      "RSM on GPU will work only for non-binary features. Plus current implementation will sample by groups, so this could slightly affect quality in positive or negative way\n",
      "Default metric period is 5 because MAP is/are not implemented for GPU\n",
      "Metric MAP:top=10 is not implemented on GPU. Will use CPU for metric computation, this could significantly affect learning time\n",
      "RSM on GPU will work only for non-binary features. Plus current implementation will sample by groups, so this could slightly affect quality in positive or negative way\n",
      "Warning: less than 75% gpu memory available for training. Free: 9785.75 Total: 15109.75\n",
      "RSM on GPU will work only for non-binary features. Plus current implementation will sample by groups, so this could slightly affect quality in positive or negative way\n",
      "RSM on GPU will work only for non-binary features. Plus current implementation will sample by groups, so this could slightly affect quality in positive or negative way\n",
      "Default metric period is 5 because MAP is/are not implemented for GPU\n",
      "Metric MAP:top=10 is not implemented on GPU. Will use CPU for metric computation, this could significantly affect learning time\n",
      "RSM on GPU will work only for non-binary features. Plus current implementation will sample by groups, so this could slightly affect quality in positive or negative way\n",
      "Warning: less than 75% gpu memory available for training. Free: 9785.75 Total: 15109.75\n",
      "RSM on GPU will work only for non-binary features. Plus current implementation will sample by groups, so this could slightly affect quality in positive or negative way\n",
      "RSM on GPU will work only for non-binary features. Plus current implementation will sample by groups, so this could slightly affect quality in positive or negative way\n",
      "Default metric period is 5 because MAP is/are not implemented for GPU\n",
      "Metric MAP:top=10 is not implemented on GPU. Will use CPU for metric computation, this could significantly affect learning time\n",
      "RSM on GPU will work only for non-binary features. Plus current implementation will sample by groups, so this could slightly affect quality in positive or negative way\n",
      "Warning: less than 75% gpu memory available for training. Free: 9785.75 Total: 15109.75\n",
      "RSM on GPU will work only for non-binary features. Plus current implementation will sample by groups, so this could slightly affect quality in positive or negative way\n",
      "RSM on GPU will work only for non-binary features. Plus current implementation will sample by groups, so this could slightly affect quality in positive or negative way\n",
      "Default metric period is 5 because MAP is/are not implemented for GPU\n",
      "Metric MAP:top=10 is not implemented on GPU. Will use CPU for metric computation, this could significantly affect learning time\n",
      "RSM on GPU will work only for non-binary features. Plus current implementation will sample by groups, so this could slightly affect quality in positive or negative way\n",
      "Warning: less than 75% gpu memory available for training. Free: 9785.75 Total: 15109.75\n",
      "RSM on GPU will work only for non-binary features. Plus current implementation will sample by groups, so this could slightly affect quality in positive or negative way\n",
      "RSM on GPU will work only for non-binary features. Plus current implementation will sample by groups, so this could slightly affect quality in positive or negative way\n",
      "Default metric period is 5 because MAP is/are not implemented for GPU\n",
      "Metric MAP:top=10 is not implemented on GPU. Will use CPU for metric computation, this could significantly affect learning time\n",
      "RSM on GPU will work only for non-binary features. Plus current implementation will sample by groups, so this could slightly affect quality in positive or negative way\n",
      "Warning: less than 75% gpu memory available for training. Free: 9785.75 Total: 15109.75\n",
      "RSM on GPU will work only for non-binary features. Plus current implementation will sample by groups, so this could slightly affect quality in positive or negative way\n",
      "RSM on GPU will work only for non-binary features. Plus current implementation will sample by groups, so this could slightly affect quality in positive or negative way\n",
      "Default metric period is 5 because MAP is/are not implemented for GPU\n",
      "Metric MAP:top=10 is not implemented on GPU. Will use CPU for metric computation, this could significantly affect learning time\n"
     ]
    }
   ],
   "source": [
    "def objective(trial):\n",
    "\n",
    "        metric = \"map@10\"\n",
    "\n",
    "        param = {\n",
    "                \"task_type\":\"GPU\",\n",
    "                \"has_time\":True,\n",
    "                \"save_snapshot\":False,\n",
    "                \"use_best_model\":True, # requires eval set to be set\n",
    "                \"loss_function\":'PairLogitPairwise',\n",
    "                'custom_metric': ['MAP:top=10'],\n",
    "                \"learning_rate\": trial.suggest_float(\"learning_rate\", 1e-5, 1e0),\n",
    "                \"l2_leaf_reg\": trial.suggest_float(\"l2_leaf_reg\", 1e-2, 1e0),\n",
    "                \"colsample_bylevel\": trial.suggest_float(\"colsample_bylevel\", 0.01, 0.1, log=True),\n",
    "                \"depth\": trial.suggest_int(\"depth\", 1, 8),\n",
    "                # \"boosting_type\": trial.suggest_categorical(\"boosting_type\", [\"Ordered\", \"Plain\"]),\n",
    "                \"min_data_in_leaf\": trial.suggest_int(\"min_data_in_leaf\", 2, 20),\n",
    "            }\n",
    "        \n",
    "        gbm = catboost.CatBoostRanker(**param)\n",
    "\n",
    "        # pruning_callback = optuna.integration.CatBoostPruningCallback(trial, \"MAP:top=10\")\n",
    "        gbm.fit(train, \n",
    "            eval_set=test,\n",
    "            verbose=0,\n",
    "            early_stopping_rounds=100,\n",
    "            # callbacks=[pruning_callback],\n",
    "        )\n",
    "\n",
    "\n",
    "        test_score = np.mean(gbm.get_evals_result()[\"learn\"]['MAP:top=10'])\n",
    "\n",
    "        return test_score\n",
    "\n",
    "# optuna.logging.WARNING\n",
    "optuna.logging.set_verbosity(optuna.logging.WARNING)\n",
    "\n",
    "pruner = optuna.pruners.MedianPruner(n_warmup_steps=20)\n",
    "study = optuna.create_study(pruner=pruner, direction='maximize')\n",
    "study.optimize(objective, n_trials=50)"
   ]
  },
  {
   "cell_type": "code",
   "execution_count": 23,
   "id": "cf65c64a-7c4a-4764-b040-004355e85005",
   "metadata": {},
   "outputs": [
    {
     "name": "stdout",
     "output_type": "stream",
     "text": [
      "Optimized MAP: 0.9573\n",
      "Best params:\n",
      "\tlearning_rate: 0.9444081577388139\n",
      "\tl2_leaf_reg: 0.44684282200200404\n",
      "\tcolsample_bylevel: 0.03693837102533545\n",
      "\tdepth: 8\n",
      "\tmin_data_in_leaf: 19\n"
     ]
    }
   ],
   "source": [
    "print(f\"Optimized MAP: {study.best_value:.4f}\")\n",
    "print(\"Best params:\")\n",
    "for key, value in study.best_params.items():\n",
    "    print(f\"\\t{key}: {value}\")"
   ]
  },
  {
   "cell_type": "code",
   "execution_count": 24,
   "id": "acd83b4b-21cc-4228-b657-24c272133855",
   "metadata": {},
   "outputs": [
    {
     "name": "stderr",
     "output_type": "stream",
     "text": [
      "RSM on GPU will work only for non-binary features. Plus current implementation will sample by groups, so this could slightly affect quality in positive or negative way\n",
      "Warning: less than 75% gpu memory available for training. Free: 9785.75 Total: 15109.75\n",
      "RSM on GPU will work only for non-binary features. Plus current implementation will sample by groups, so this could slightly affect quality in positive or negative way\n",
      "RSM on GPU will work only for non-binary features. Plus current implementation will sample by groups, so this could slightly affect quality in positive or negative way\n",
      "Default metric period is 5 because MAP is/are not implemented for GPU\n",
      "Metric MAP:top=10 is not implemented on GPU. Will use CPU for metric computation, this could significantly affect learning time\n"
     ]
    },
    {
     "name": "stdout",
     "output_type": "stream",
     "text": [
      "Optimized Test :   0.957761643118786\n"
     ]
    }
   ],
   "source": [
    "d_param = {\n",
    "            \"task_type\":\"GPU\",\n",
    "            \"has_time\":True,\n",
    "            \"save_snapshot\":False,\n",
    "            \"use_best_model\":True, # requires eval set to be set\n",
    "            \"loss_function\":'PairLogitPairwise',\n",
    "            'custom_metric': ['MAP:top=10']}\n",
    "best_params = study.best_params\n",
    "best_params.update(d_param)\n",
    "\n",
    "bst_gbm = catboost.CatBoostRanker(**best_params)\n",
    "\n",
    "\n",
    "bst_gbm.fit(train, \n",
    "    eval_set=test,\n",
    "    verbose=0,\n",
    "    early_stopping_rounds=100\n",
    ")\n",
    "\n",
    "test_score = np.mean(bst_gbm.get_evals_result()[\"learn\"]['MAP:top=10'])\n",
    "print('Optimized Test :  ',test_score)"
   ]
  },
  {
   "cell_type": "markdown",
   "id": "d7b76587-40e9-4f2c-941b-e2fa5f555360",
   "metadata": {},
   "source": [
    "## Model Evaluation"
   ]
  },
  {
   "cell_type": "code",
   "execution_count": 26,
   "id": "70cdf7a1-32f4-45d0-9253-7f686825fa90",
   "metadata": {},
   "outputs": [],
   "source": [
    "xgb_Prediction = LtrPrediction(bst_gbm, test_data)"
   ]
  },
  {
   "cell_type": "code",
   "execution_count": 27,
   "id": "7d0b4d31-3f32-402e-b2eb-08971e1471e2",
   "metadata": {},
   "outputs": [
    {
     "data": {
      "text/plain": [
       "{'MAP@10': 0.18659737969261778,\n",
       " 'Prediction_Coverage': 52.94,\n",
       " 'Catalog_Coverage': 52.94,\n",
       " 'Novelty': 0.36456050799499634,\n",
       " 'personalization': 0.500952380952381}"
      ]
     },
     "execution_count": 27,
     "metadata": {},
     "output_type": "execute_result"
    }
   ],
   "source": [
    "results = xgb_Prediction.evaluate()\n",
    "results"
   ]
  },
  {
   "cell_type": "code",
   "execution_count": 28,
   "id": "4a604bef-955d-47a8-9326-82cc52938c97",
   "metadata": {},
   "outputs": [],
   "source": [
    "top_k_best_score_ips = xgb_Prediction.get_recomendation()"
   ]
  },
  {
   "cell_type": "code",
   "execution_count": 29,
   "id": "08600799-281d-4b56-a9cf-5d1e04e96e6f",
   "metadata": {},
   "outputs": [],
   "source": [
    "tcm_le = DataPrep.return_inverse_transform()\n",
    "top_k_best_score_ips['article_actual_ids'] = top_k_best_score_ips.apply(lambda row: tcm_le.inverse_transform(row['article_actual']) ,axis=1)\n",
    "top_k_best_score_ips['article_recomended_ids'] = top_k_best_score_ips.apply(lambda row: tcm_le.inverse_transform(row['article_prediction']) ,axis=1)"
   ]
  },
  {
   "cell_type": "code",
   "execution_count": 30,
   "id": "df65cfe3-7815-4511-a852-b524d5ddddc6",
   "metadata": {},
   "outputs": [
    {
     "data": {
      "text/html": [
       "<div>\n",
       "<style scoped>\n",
       "    .dataframe tbody tr th:only-of-type {\n",
       "        vertical-align: middle;\n",
       "    }\n",
       "\n",
       "    .dataframe tbody tr th {\n",
       "        vertical-align: top;\n",
       "    }\n",
       "\n",
       "    .dataframe thead th {\n",
       "        text-align: right;\n",
       "    }\n",
       "</style>\n",
       "<table border=\"1\" class=\"dataframe\">\n",
       "  <thead>\n",
       "    <tr style=\"text-align: right;\">\n",
       "      <th></th>\n",
       "      <th>article_actual_ids</th>\n",
       "      <th>article_recomended_ids</th>\n",
       "      <th>apk</th>\n",
       "    </tr>\n",
       "    <tr>\n",
       "      <th>ip</th>\n",
       "      <th></th>\n",
       "      <th></th>\n",
       "      <th></th>\n",
       "    </tr>\n",
       "  </thead>\n",
       "  <tbody>\n",
       "    <tr>\n",
       "      <th>503477</th>\n",
       "      <td>[tcm:526-656536, tcm:526-12180, tcm:526-674187, tcm:526-681575, tcm:526-16645, tcm:526-208086, tcm:526-209028, tcm:526-22867, tcm:526-273898, tcm:526-40469]</td>\n",
       "      <td>[tcm:526-22867, tcm:526-40469, tcm:526-209028, tcm:526-16645, tcm:526-551763, tcm:526-187302, tcm:526-273898, tcm:526-261006, tcm:526-682379, tcm:526-12174]</td>\n",
       "      <td>0.471429</td>\n",
       "    </tr>\n",
       "    <tr>\n",
       "      <th>452530</th>\n",
       "      <td>[tcm:526-22867, tcm:526-10838, tcm:526-209028, tcm:526-712788]</td>\n",
       "      <td>[tcm:526-22867, tcm:526-187302, tcm:526-16645, tcm:526-209028, tcm:526-273898, tcm:526-40469, tcm:526-551763, tcm:526-10838, tcm:526-12174, tcm:526-261006]</td>\n",
       "      <td>0.468750</td>\n",
       "    </tr>\n",
       "    <tr>\n",
       "      <th>1602525</th>\n",
       "      <td>[tcm:526-116442, tcm:526-16645, tcm:526-187302, tcm:526-209028, tcm:526-224772, tcm:526-249037, tcm:526-40469, tcm:526-46242]</td>\n",
       "      <td>[tcm:526-22867, tcm:526-40469, tcm:526-209028, tcm:526-16645, tcm:526-551763, tcm:526-187302, tcm:526-273898, tcm:526-261006, tcm:526-682379, tcm:526-12174]</td>\n",
       "      <td>0.322917</td>\n",
       "    </tr>\n",
       "    <tr>\n",
       "      <th>395075</th>\n",
       "      <td>[tcm:526-12167, tcm:526-674187, tcm:526-149043, tcm:526-16645, tcm:526-18025, tcm:526-209028, tcm:526-261006, tcm:526-273898, tcm:526-276414]</td>\n",
       "      <td>[tcm:526-22867, tcm:526-209028, tcm:526-40469, tcm:526-273898, tcm:526-149043, tcm:526-16645, tcm:526-551763, tcm:526-187302, tcm:526-385364, tcm:526-276414]</td>\n",
       "      <td>0.307407</td>\n",
       "    </tr>\n",
       "    <tr>\n",
       "      <th>1523358</th>\n",
       "      <td>[tcm:526-10838, tcm:526-656536, tcm:526-681575, tcm:526-688510, tcm:526-707567, tcm:526-224772, tcm:526-22867, tcm:526-46242]</td>\n",
       "      <td>[tcm:526-22867, tcm:526-10838, tcm:526-16645, tcm:526-40469, tcm:526-209028, tcm:526-273898, tcm:526-187302, tcm:526-551763, tcm:526-261006, tcm:526-385364]</td>\n",
       "      <td>0.250000</td>\n",
       "    </tr>\n",
       "    <tr>\n",
       "      <th>1356756</th>\n",
       "      <td>[tcm:526-13782, tcm:526-16645, tcm:526-684643, tcm:526-199040, tcm:526-231792, tcm:526-80807, tcm:526-40469]</td>\n",
       "      <td>[tcm:526-80807, tcm:526-388698, tcm:526-707567, tcm:526-682379, tcm:526-12174, tcm:526-385364, tcm:526-13782, tcm:526-261006, tcm:526-684643, tcm:526-674187]</td>\n",
       "      <td>0.231293</td>\n",
       "    </tr>\n",
       "    <tr>\n",
       "      <th>223190</th>\n",
       "      <td>[tcm:526-551763, tcm:526-191289, tcm:526-707567, tcm:526-22867, tcm:526-231792, tcm:526-244935, tcm:526-249037, tcm:526-276414]</td>\n",
       "      <td>[tcm:526-276414, tcm:526-12174, tcm:526-682379, tcm:526-385364, tcm:526-261006, tcm:526-707567, tcm:526-80807, tcm:526-388698, tcm:526-70899, tcm:526-782343]</td>\n",
       "      <td>0.166667</td>\n",
       "    </tr>\n",
       "    <tr>\n",
       "      <th>379682</th>\n",
       "      <td>[tcm:526-12167, tcm:526-13782, tcm:526-149043, tcm:526-784445, tcm:526-244935, tcm:526-273898, tcm:526-346380]</td>\n",
       "      <td>[tcm:526-22867, tcm:526-209028, tcm:526-149043, tcm:526-551763, tcm:526-273898, tcm:526-187302, tcm:526-16645, tcm:526-40469, tcm:526-13782, tcm:526-385364]</td>\n",
       "      <td>0.152381</td>\n",
       "    </tr>\n",
       "    <tr>\n",
       "      <th>60747</th>\n",
       "      <td>[tcm:526-551763, tcm:526-12174, tcm:526-149043, tcm:526-681575, tcm:526-682576, tcm:526-18025, tcm:526-93195, tcm:526-259315, tcm:526-276414]</td>\n",
       "      <td>[tcm:526-80807, tcm:526-388698, tcm:526-707567, tcm:526-682379, tcm:526-12174, tcm:526-385364, tcm:526-276414, tcm:526-18025, tcm:526-674187, tcm:526-681575]</td>\n",
       "      <td>0.140079</td>\n",
       "    </tr>\n",
       "    <tr>\n",
       "      <th>47811</th>\n",
       "      <td>[tcm:526-10787, tcm:526-670542, tcm:526-18025, tcm:526-684643, tcm:526-191289, tcm:526-239640, tcm:526-244935, tcm:526-418532]</td>\n",
       "      <td>[tcm:526-385364, tcm:526-261006, tcm:526-670542, tcm:526-682379, tcm:526-684643, tcm:526-707567, tcm:526-388698, tcm:526-80807, tcm:526-12180, tcm:526-70899]</td>\n",
       "      <td>0.091667</td>\n",
       "    </tr>\n",
       "  </tbody>\n",
       "</table>\n",
       "</div>"
      ],
      "text/plain": [
       "                                                                                                                                                   article_actual_ids  \\\n",
       "ip                                                                                                                                                                      \n",
       "503477   [tcm:526-656536, tcm:526-12180, tcm:526-674187, tcm:526-681575, tcm:526-16645, tcm:526-208086, tcm:526-209028, tcm:526-22867, tcm:526-273898, tcm:526-40469]   \n",
       "452530                                                                                                 [tcm:526-22867, tcm:526-10838, tcm:526-209028, tcm:526-712788]   \n",
       "1602525                                 [tcm:526-116442, tcm:526-16645, tcm:526-187302, tcm:526-209028, tcm:526-224772, tcm:526-249037, tcm:526-40469, tcm:526-46242]   \n",
       "395075                  [tcm:526-12167, tcm:526-674187, tcm:526-149043, tcm:526-16645, tcm:526-18025, tcm:526-209028, tcm:526-261006, tcm:526-273898, tcm:526-276414]   \n",
       "1523358                                 [tcm:526-10838, tcm:526-656536, tcm:526-681575, tcm:526-688510, tcm:526-707567, tcm:526-224772, tcm:526-22867, tcm:526-46242]   \n",
       "1356756                                                  [tcm:526-13782, tcm:526-16645, tcm:526-684643, tcm:526-199040, tcm:526-231792, tcm:526-80807, tcm:526-40469]   \n",
       "223190                                [tcm:526-551763, tcm:526-191289, tcm:526-707567, tcm:526-22867, tcm:526-231792, tcm:526-244935, tcm:526-249037, tcm:526-276414]   \n",
       "379682                                                 [tcm:526-12167, tcm:526-13782, tcm:526-149043, tcm:526-784445, tcm:526-244935, tcm:526-273898, tcm:526-346380]   \n",
       "60747                   [tcm:526-551763, tcm:526-12174, tcm:526-149043, tcm:526-681575, tcm:526-682576, tcm:526-18025, tcm:526-93195, tcm:526-259315, tcm:526-276414]   \n",
       "47811                                  [tcm:526-10787, tcm:526-670542, tcm:526-18025, tcm:526-684643, tcm:526-191289, tcm:526-239640, tcm:526-244935, tcm:526-418532]   \n",
       "\n",
       "                                                                                                                                                article_recomended_ids  \\\n",
       "ip                                                                                                                                                                       \n",
       "503477    [tcm:526-22867, tcm:526-40469, tcm:526-209028, tcm:526-16645, tcm:526-551763, tcm:526-187302, tcm:526-273898, tcm:526-261006, tcm:526-682379, tcm:526-12174]   \n",
       "452530     [tcm:526-22867, tcm:526-187302, tcm:526-16645, tcm:526-209028, tcm:526-273898, tcm:526-40469, tcm:526-551763, tcm:526-10838, tcm:526-12174, tcm:526-261006]   \n",
       "1602525   [tcm:526-22867, tcm:526-40469, tcm:526-209028, tcm:526-16645, tcm:526-551763, tcm:526-187302, tcm:526-273898, tcm:526-261006, tcm:526-682379, tcm:526-12174]   \n",
       "395075   [tcm:526-22867, tcm:526-209028, tcm:526-40469, tcm:526-273898, tcm:526-149043, tcm:526-16645, tcm:526-551763, tcm:526-187302, tcm:526-385364, tcm:526-276414]   \n",
       "1523358   [tcm:526-22867, tcm:526-10838, tcm:526-16645, tcm:526-40469, tcm:526-209028, tcm:526-273898, tcm:526-187302, tcm:526-551763, tcm:526-261006, tcm:526-385364]   \n",
       "1356756  [tcm:526-80807, tcm:526-388698, tcm:526-707567, tcm:526-682379, tcm:526-12174, tcm:526-385364, tcm:526-13782, tcm:526-261006, tcm:526-684643, tcm:526-674187]   \n",
       "223190   [tcm:526-276414, tcm:526-12174, tcm:526-682379, tcm:526-385364, tcm:526-261006, tcm:526-707567, tcm:526-80807, tcm:526-388698, tcm:526-70899, tcm:526-782343]   \n",
       "379682    [tcm:526-22867, tcm:526-209028, tcm:526-149043, tcm:526-551763, tcm:526-273898, tcm:526-187302, tcm:526-16645, tcm:526-40469, tcm:526-13782, tcm:526-385364]   \n",
       "60747    [tcm:526-80807, tcm:526-388698, tcm:526-707567, tcm:526-682379, tcm:526-12174, tcm:526-385364, tcm:526-276414, tcm:526-18025, tcm:526-674187, tcm:526-681575]   \n",
       "47811    [tcm:526-385364, tcm:526-261006, tcm:526-670542, tcm:526-682379, tcm:526-684643, tcm:526-707567, tcm:526-388698, tcm:526-80807, tcm:526-12180, tcm:526-70899]   \n",
       "\n",
       "              apk  \n",
       "ip                 \n",
       "503477   0.471429  \n",
       "452530   0.468750  \n",
       "1602525  0.322917  \n",
       "395075   0.307407  \n",
       "1523358  0.250000  \n",
       "1356756  0.231293  \n",
       "223190   0.166667  \n",
       "379682   0.152381  \n",
       "60747    0.140079  \n",
       "47811    0.091667  "
      ]
     },
     "execution_count": 30,
     "metadata": {},
     "output_type": "execute_result"
    }
   ],
   "source": [
    "pd.set_option('max_columns', None)\n",
    "pd.set_option('display.max_colwidth', None)\n",
    "top_k_best_score_ips[['article_actual_ids','article_recomended_ids','apk']].sort_values(by='apk',ascending = False).head(10)"
   ]
  },
  {
   "cell_type": "code",
   "execution_count": null,
   "id": "e16f17f5-d199-4e41-8b5b-ec53fae876f4",
   "metadata": {},
   "outputs": [],
   "source": []
  }
 ],
 "metadata": {
  "instance_type": "ml.g4dn.xlarge",
  "kernelspec": {
   "display_name": "Python 3 (Data Science)",
   "language": "python",
   "name": "python3__SAGEMAKER_INTERNAL__arn:aws:sagemaker:us-east-1:081325390199:image/datascience-1.0"
  },
  "language_info": {
   "codemirror_mode": {
    "name": "ipython",
    "version": 3
   },
   "file_extension": ".py",
   "mimetype": "text/x-python",
   "name": "python",
   "nbconvert_exporter": "python",
   "pygments_lexer": "ipython3",
   "version": "3.7.10"
  },
  "lcc_arn": "arn:aws:sagemaker:us-east-1:647324198242:studio-lifecycle-config/dlsg-sagemaker-kernel-on-start-d120ff"
 },
 "nbformat": 4,
 "nbformat_minor": 5
}
