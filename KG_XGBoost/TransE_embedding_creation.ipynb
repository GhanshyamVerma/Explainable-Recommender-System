{
 "cells": [
  {
   "cell_type": "code",
   "execution_count": 1,
   "metadata": {},
   "outputs": [],
   "source": [
    "import pickle\n",
    "\n",
    "transE_file = open(\"TransE/transe_embed.pkl\",\"rb\")\n",
    "transE = pickle.load(transE_file)\n",
    "transE_file.close()"
   ]
  },
  {
   "cell_type": "code",
   "execution_count": 2,
   "metadata": {},
   "outputs": [
    {
     "data": {
      "text/plain": [
       "dict_keys(['user', 'article', 'word', 'topic', 'product', 'related_article', 'topic_tag', 'product_tag', 'recommended', 'within', 'has_topic', 'has_product', 'has_topic_tag', 'has_product_tag', 'also_response', 'recommended_together', 'response_together'])"
      ]
     },
     "execution_count": 2,
     "metadata": {},
     "output_type": "execute_result"
    }
   ],
   "source": [
    "transE.keys()"
   ]
  },
  {
   "cell_type": "code",
   "execution_count": 2,
   "metadata": {},
   "outputs": [
    {
     "name": "stdout",
     "output_type": "stream",
     "text": [
      "2246\n"
     ]
    }
   ],
   "source": [
    "word_list = []\n",
    "with open(\"TransE/word_map.txt\", 'r') as word_map:\n",
    "    lines = word_map.readlines()\n",
    "    for line in lines:\n",
    "        word = line.split()[0]\n",
    "        word_list.append(word)\n",
    "\n",
    "transE_words = dict(zip(word_list, transE['word']))\n",
    "print(len(transE_words.keys()))"
   ]
  },
  {
   "cell_type": "code",
   "execution_count": 3,
   "metadata": {},
   "outputs": [],
   "source": [
    "with open('TransE/transE_words_emb.txt','w') as f:\n",
    "    for key, values in transE_words.items():\n",
    "        line = '\"' + str(key) + '\\t' + '\\t'.join(str(value) for value in values) + '\\n'\n",
    "        f.write(line)"
   ]
  },
  {
   "cell_type": "code",
   "execution_count": 4,
   "metadata": {},
   "outputs": [
    {
     "name": "stdout",
     "output_type": "stream",
     "text": [
      "53\n"
     ]
    }
   ],
   "source": [
    "product_list = []\n",
    "with open(\"TransE/product_map.txt\", 'r') as product_map:\n",
    "    lines = product_map.readlines()\n",
    "    for line in lines:\n",
    "        product = line.split()[0]\n",
    "        product_list.append(product)\n",
    "\n",
    "transE_product = dict(zip(product_list, transE['product']))\n",
    "print(len(transE_product.keys()))"
   ]
  },
  {
   "cell_type": "code",
   "execution_count": 5,
   "metadata": {},
   "outputs": [
    {
     "name": "stdout",
     "output_type": "stream",
     "text": [
      "43\n"
     ]
    }
   ],
   "source": [
    "product_tag_list = []\n",
    "with open(\"TransE/product_tag_map.txt\", 'r') as product_tag_map:\n",
    "    lines = product_tag_map.readlines()\n",
    "    for line in lines:\n",
    "        product_tag = line.split()[0]\n",
    "        product_tag_list.append(product_tag)\n",
    "\n",
    "transE_product_tag = dict(zip(product_tag_list, transE['product_tag']))\n",
    "print(len(transE_product_tag.keys()))"
   ]
  },
  {
   "cell_type": "code",
   "execution_count": 6,
   "metadata": {},
   "outputs": [
    {
     "name": "stdout",
     "output_type": "stream",
     "text": [
      "51\n"
     ]
    }
   ],
   "source": [
    "topic_list = []\n",
    "with open(\"TransE/topic_map.txt\", 'r') as topic_map:\n",
    "    lines = topic_map.readlines()\n",
    "    for line in lines:\n",
    "        topic = line.split()[0]\n",
    "        topic_list.append(topic)\n",
    "\n",
    "transE_topic = dict(zip(topic_list, transE['topic']))\n",
    "print(len(transE_topic.keys()))"
   ]
  },
  {
   "cell_type": "code",
   "execution_count": 7,
   "metadata": {},
   "outputs": [
    {
     "name": "stdout",
     "output_type": "stream",
     "text": [
      "20\n"
     ]
    }
   ],
   "source": [
    "topic_tag_list = []\n",
    "with open(\"TransE/topic_tag_map.txt\", 'r') as topic_tag_map:\n",
    "    lines = topic_tag_map.readlines()\n",
    "    for line in lines:\n",
    "        topic_tag = line.split()[0]\n",
    "        topic_tag_list.append(topic_tag)\n",
    "\n",
    "transE_topic_tag = dict(zip(topic_tag_list, transE['topic_tag']))\n",
    "print(len(transE_topic_tag.keys()))"
   ]
  },
  {
   "cell_type": "code",
   "execution_count": 8,
   "metadata": {},
   "outputs": [],
   "source": [
    "def create_merged_dict(dict1, dict2):\n",
    "    print(len(dict1))\n",
    "    transE_combined = dict1.copy()\n",
    "    for key, value in dict2.items():\n",
    "        if key not in transE_combined:\n",
    "            transE_combined[key] = value\n",
    "        else:\n",
    "            continue\n",
    "    print(len(transE_combined))\n",
    "    return transE_combined"
   ]
  },
  {
   "cell_type": "code",
   "execution_count": 9,
   "metadata": {},
   "outputs": [
    {
     "name": "stdout",
     "output_type": "stream",
     "text": [
      "2246\n",
      "2299\n"
     ]
    }
   ],
   "source": [
    "transE_combined = create_merged_dict(transE_words, transE_product)"
   ]
  },
  {
   "cell_type": "code",
   "execution_count": 10,
   "metadata": {},
   "outputs": [
    {
     "name": "stdout",
     "output_type": "stream",
     "text": [
      "2299\n",
      "2319\n"
     ]
    }
   ],
   "source": [
    "transE_combined = create_merged_dict(transE_combined, transE_product_tag)"
   ]
  },
  {
   "cell_type": "code",
   "execution_count": 11,
   "metadata": {},
   "outputs": [
    {
     "name": "stdout",
     "output_type": "stream",
     "text": [
      "2319\n",
      "2356\n"
     ]
    }
   ],
   "source": [
    "transE_combined = create_merged_dict(transE_combined, transE_topic)"
   ]
  },
  {
   "cell_type": "code",
   "execution_count": 12,
   "metadata": {},
   "outputs": [
    {
     "name": "stdout",
     "output_type": "stream",
     "text": [
      "2356\n",
      "2360\n"
     ]
    }
   ],
   "source": [
    "transE_combined = create_merged_dict(transE_combined, transE_topic_tag)"
   ]
  },
  {
   "cell_type": "code",
   "execution_count": 13,
   "metadata": {},
   "outputs": [],
   "source": [
    "with open('TransE/transE_combined_emb.txt','w') as f:\n",
    "    for key, values in transE_words.items():\n",
    "        line = '\"' + str(key) + '\\t' + '\\t'.join(str(value) for value in values) + '\\n'\n",
    "        f.write(line)"
   ]
  }
 ],
 "metadata": {
  "kernelspec": {
   "display_name": "fid_xgboost",
   "language": "python",
   "name": "python3"
  },
  "language_info": {
   "codemirror_mode": {
    "name": "ipython",
    "version": 3
   },
   "file_extension": ".py",
   "mimetype": "text/x-python",
   "name": "python",
   "nbconvert_exporter": "python",
   "pygments_lexer": "ipython3",
   "version": "3.7.10"
  },
  "orig_nbformat": 4
 },
 "nbformat": 4,
 "nbformat_minor": 2
}
