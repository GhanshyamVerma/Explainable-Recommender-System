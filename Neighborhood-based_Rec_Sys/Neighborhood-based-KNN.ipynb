{
 "cells": [
  {
   "cell_type": "code",
   "execution_count": 1,
   "metadata": {},
   "outputs": [
    {
     "name": "stdout",
     "output_type": "stream",
     "text": [
      "Collecting papermill\n",
      "  Using cached papermill-2.4.0-py3-none-any.whl (38 kB)\n",
      "Requirement already satisfied: requests in /home/devpil/anaconda3/envs/fid_xgboost/lib/python3.7/site-packages (from papermill) (2.25.1)\n",
      "Requirement already satisfied: pyyaml in /home/devpil/anaconda3/envs/fid_xgboost/lib/python3.7/site-packages (from papermill) (6.0)\n",
      "Requirement already satisfied: tqdm>=4.32.2 in /home/devpil/anaconda3/envs/fid_xgboost/lib/python3.7/site-packages (from papermill) (4.65.0)\n",
      "Requirement already satisfied: entrypoints in /home/devpil/anaconda3/envs/fid_xgboost/lib/python3.7/site-packages (from papermill) (0.4)\n",
      "Requirement already satisfied: click in /home/devpil/anaconda3/envs/fid_xgboost/lib/python3.7/site-packages (from papermill) (8.1.3)\n",
      "Requirement already satisfied: nbclient>=0.2.0 in /home/devpil/anaconda3/envs/fid_xgboost/lib/python3.7/site-packages (from papermill) (0.7.4)\n",
      "Collecting ansiwrap\n",
      "  Using cached ansiwrap-0.8.4-py2.py3-none-any.whl (8.5 kB)\n",
      "Requirement already satisfied: nbformat>=5.1.2 in /home/devpil/anaconda3/envs/fid_xgboost/lib/python3.7/site-packages (from papermill) (5.8.0)\n",
      "Collecting tenacity\n",
      "  Using cached tenacity-8.2.2-py3-none-any.whl (24 kB)\n",
      "Requirement already satisfied: jupyter-client>=6.1.12 in /home/devpil/anaconda3/envs/fid_xgboost/lib/python3.7/site-packages (from nbclient>=0.2.0->papermill) (7.4.9)\n",
      "Requirement already satisfied: jupyter-core!=5.0.*,>=4.12 in /home/devpil/anaconda3/envs/fid_xgboost/lib/python3.7/site-packages (from nbclient>=0.2.0->papermill) (4.12.0)\n",
      "Requirement already satisfied: traitlets>=5.3 in /home/devpil/anaconda3/envs/fid_xgboost/lib/python3.7/site-packages (from nbclient>=0.2.0->papermill) (5.9.0)\n",
      "Requirement already satisfied: importlib-metadata>=3.6 in /home/devpil/anaconda3/envs/fid_xgboost/lib/python3.7/site-packages (from nbformat>=5.1.2->papermill) (6.7.0)\n",
      "Requirement already satisfied: fastjsonschema in /home/devpil/anaconda3/envs/fid_xgboost/lib/python3.7/site-packages (from nbformat>=5.1.2->papermill) (2.17.1)\n",
      "Requirement already satisfied: jsonschema>=2.6 in /home/devpil/anaconda3/envs/fid_xgboost/lib/python3.7/site-packages (from nbformat>=5.1.2->papermill) (4.17.3)\n",
      "Collecting textwrap3>=0.9.2\n",
      "  Using cached textwrap3-0.9.2-py2.py3-none-any.whl (12 kB)\n",
      "Requirement already satisfied: chardet<5,>=3.0.2 in /home/devpil/anaconda3/envs/fid_xgboost/lib/python3.7/site-packages (from requests->papermill) (4.0.0)\n",
      "Requirement already satisfied: certifi>=2017.4.17 in /home/devpil/anaconda3/envs/fid_xgboost/lib/python3.7/site-packages (from requests->papermill) (2022.12.7)\n",
      "Requirement already satisfied: urllib3<1.27,>=1.21.1 in /home/devpil/anaconda3/envs/fid_xgboost/lib/python3.7/site-packages (from requests->papermill) (1.26.16)\n",
      "Requirement already satisfied: idna<3,>=2.5 in /home/devpil/anaconda3/envs/fid_xgboost/lib/python3.7/site-packages (from requests->papermill) (2.10)\n",
      "Requirement already satisfied: typing-extensions>=3.6.4 in /home/devpil/anaconda3/envs/fid_xgboost/lib/python3.7/site-packages (from importlib-metadata>=3.6->nbformat>=5.1.2->papermill) (4.7.1)\n",
      "Requirement already satisfied: zipp>=0.5 in /home/devpil/anaconda3/envs/fid_xgboost/lib/python3.7/site-packages (from importlib-metadata>=3.6->nbformat>=5.1.2->papermill) (3.15.0)\n",
      "Requirement already satisfied: attrs>=17.4.0 in /home/devpil/anaconda3/envs/fid_xgboost/lib/python3.7/site-packages (from jsonschema>=2.6->nbformat>=5.1.2->papermill) (23.1.0)\n",
      "Requirement already satisfied: pkgutil-resolve-name>=1.3.10 in /home/devpil/anaconda3/envs/fid_xgboost/lib/python3.7/site-packages (from jsonschema>=2.6->nbformat>=5.1.2->papermill) (1.3.10)\n",
      "Requirement already satisfied: pyrsistent!=0.17.0,!=0.17.1,!=0.17.2,>=0.14.0 in /home/devpil/anaconda3/envs/fid_xgboost/lib/python3.7/site-packages (from jsonschema>=2.6->nbformat>=5.1.2->papermill) (0.19.3)\n",
      "Requirement already satisfied: importlib-resources>=1.4.0 in /home/devpil/anaconda3/envs/fid_xgboost/lib/python3.7/site-packages (from jsonschema>=2.6->nbformat>=5.1.2->papermill) (5.12.0)\n",
      "Requirement already satisfied: tornado>=6.2 in /home/devpil/anaconda3/envs/fid_xgboost/lib/python3.7/site-packages (from jupyter-client>=6.1.12->nbclient>=0.2.0->papermill) (6.2)\n",
      "Requirement already satisfied: python-dateutil>=2.8.2 in /home/devpil/anaconda3/envs/fid_xgboost/lib/python3.7/site-packages (from jupyter-client>=6.1.12->nbclient>=0.2.0->papermill) (2.8.2)\n",
      "Requirement already satisfied: pyzmq>=23.0 in /home/devpil/anaconda3/envs/fid_xgboost/lib/python3.7/site-packages (from jupyter-client>=6.1.12->nbclient>=0.2.0->papermill) (25.1.0)\n",
      "Requirement already satisfied: nest-asyncio>=1.5.4 in /home/devpil/anaconda3/envs/fid_xgboost/lib/python3.7/site-packages (from jupyter-client>=6.1.12->nbclient>=0.2.0->papermill) (1.5.6)\n",
      "Requirement already satisfied: six>=1.5 in /home/devpil/anaconda3/envs/fid_xgboost/lib/python3.7/site-packages (from python-dateutil>=2.8.2->jupyter-client>=6.1.12->nbclient>=0.2.0->papermill) (1.16.0)\n",
      "Installing collected packages: textwrap3, tenacity, ansiwrap, papermill\n",
      "Successfully installed ansiwrap-0.8.4 papermill-2.4.0 tenacity-8.2.2 textwrap3-0.9.2\n",
      "Collecting scrapbook\n",
      "  Using cached scrapbook-0.5.0-py3-none-any.whl (34 kB)\n",
      "Requirement already satisfied: pandas in /home/devpil/anaconda3/envs/fid_xgboost/lib/python3.7/site-packages (from scrapbook) (1.2.4)\n",
      "Requirement already satisfied: jsonschema in /home/devpil/anaconda3/envs/fid_xgboost/lib/python3.7/site-packages (from scrapbook) (4.17.3)\n",
      "Collecting pyarrow\n",
      "  Downloading pyarrow-12.0.1-cp37-cp37m-manylinux_2_17_x86_64.manylinux2014_x86_64.whl (39.1 MB)\n",
      "\u001b[2K     \u001b[90m━━━━━━━━━━━━━━━━━━━━━━━━━━━━━━━━━━━━━━━━\u001b[0m \u001b[32m39.1/39.1 MB\u001b[0m \u001b[31m19.8 MB/s\u001b[0m eta \u001b[36m0:00:00\u001b[0m00:01\u001b[0m00:01\u001b[0m\n",
      "\u001b[?25hRequirement already satisfied: ipython in /home/devpil/anaconda3/envs/fid_xgboost/lib/python3.7/site-packages (from scrapbook) (7.34.0)\n",
      "Requirement already satisfied: papermill in /home/devpil/anaconda3/envs/fid_xgboost/lib/python3.7/site-packages (from scrapbook) (2.4.0)\n",
      "Requirement already satisfied: pexpect>4.3 in /home/devpil/anaconda3/envs/fid_xgboost/lib/python3.7/site-packages (from ipython->scrapbook) (4.8.0)\n",
      "Requirement already satisfied: setuptools>=18.5 in /home/devpil/anaconda3/envs/fid_xgboost/lib/python3.7/site-packages (from ipython->scrapbook) (65.6.3)\n",
      "Requirement already satisfied: pygments in /home/devpil/anaconda3/envs/fid_xgboost/lib/python3.7/site-packages (from ipython->scrapbook) (2.15.1)\n",
      "Requirement already satisfied: decorator in /home/devpil/anaconda3/envs/fid_xgboost/lib/python3.7/site-packages (from ipython->scrapbook) (5.1.1)\n",
      "Requirement already satisfied: prompt-toolkit!=3.0.0,!=3.0.1,<3.1.0,>=2.0.0 in /home/devpil/anaconda3/envs/fid_xgboost/lib/python3.7/site-packages (from ipython->scrapbook) (3.0.38)\n",
      "Requirement already satisfied: pickleshare in /home/devpil/anaconda3/envs/fid_xgboost/lib/python3.7/site-packages (from ipython->scrapbook) (0.7.5)\n",
      "Requirement already satisfied: jedi>=0.16 in /home/devpil/anaconda3/envs/fid_xgboost/lib/python3.7/site-packages (from ipython->scrapbook) (0.18.2)\n",
      "Requirement already satisfied: backcall in /home/devpil/anaconda3/envs/fid_xgboost/lib/python3.7/site-packages (from ipython->scrapbook) (0.2.0)\n",
      "Requirement already satisfied: traitlets>=4.2 in /home/devpil/anaconda3/envs/fid_xgboost/lib/python3.7/site-packages (from ipython->scrapbook) (5.9.0)\n",
      "Requirement already satisfied: matplotlib-inline in /home/devpil/anaconda3/envs/fid_xgboost/lib/python3.7/site-packages (from ipython->scrapbook) (0.1.6)\n",
      "Requirement already satisfied: attrs>=17.4.0 in /home/devpil/anaconda3/envs/fid_xgboost/lib/python3.7/site-packages (from jsonschema->scrapbook) (23.1.0)\n",
      "Requirement already satisfied: pyrsistent!=0.17.0,!=0.17.1,!=0.17.2,>=0.14.0 in /home/devpil/anaconda3/envs/fid_xgboost/lib/python3.7/site-packages (from jsonschema->scrapbook) (0.19.3)\n",
      "Requirement already satisfied: importlib-metadata in /home/devpil/anaconda3/envs/fid_xgboost/lib/python3.7/site-packages (from jsonschema->scrapbook) (6.7.0)\n",
      "Requirement already satisfied: typing-extensions in /home/devpil/anaconda3/envs/fid_xgboost/lib/python3.7/site-packages (from jsonschema->scrapbook) (4.7.1)\n",
      "Requirement already satisfied: pkgutil-resolve-name>=1.3.10 in /home/devpil/anaconda3/envs/fid_xgboost/lib/python3.7/site-packages (from jsonschema->scrapbook) (1.3.10)\n",
      "Requirement already satisfied: importlib-resources>=1.4.0 in /home/devpil/anaconda3/envs/fid_xgboost/lib/python3.7/site-packages (from jsonschema->scrapbook) (5.12.0)\n",
      "Requirement already satisfied: python-dateutil>=2.7.3 in /home/devpil/anaconda3/envs/fid_xgboost/lib/python3.7/site-packages (from pandas->scrapbook) (2.8.2)\n",
      "Requirement already satisfied: pytz>=2017.3 in /home/devpil/anaconda3/envs/fid_xgboost/lib/python3.7/site-packages (from pandas->scrapbook) (2023.3)\n",
      "Requirement already satisfied: numpy>=1.16.5 in /home/devpil/anaconda3/envs/fid_xgboost/lib/python3.7/site-packages (from pandas->scrapbook) (1.21.6)\n",
      "Requirement already satisfied: requests in /home/devpil/anaconda3/envs/fid_xgboost/lib/python3.7/site-packages (from papermill->scrapbook) (2.25.1)\n",
      "Requirement already satisfied: pyyaml in /home/devpil/anaconda3/envs/fid_xgboost/lib/python3.7/site-packages (from papermill->scrapbook) (6.0)\n",
      "Requirement already satisfied: entrypoints in /home/devpil/anaconda3/envs/fid_xgboost/lib/python3.7/site-packages (from papermill->scrapbook) (0.4)\n",
      "Requirement already satisfied: nbclient>=0.2.0 in /home/devpil/anaconda3/envs/fid_xgboost/lib/python3.7/site-packages (from papermill->scrapbook) (0.7.4)\n",
      "Requirement already satisfied: click in /home/devpil/anaconda3/envs/fid_xgboost/lib/python3.7/site-packages (from papermill->scrapbook) (8.1.3)\n",
      "Requirement already satisfied: tqdm>=4.32.2 in /home/devpil/anaconda3/envs/fid_xgboost/lib/python3.7/site-packages (from papermill->scrapbook) (4.65.0)\n",
      "Requirement already satisfied: tenacity in /home/devpil/anaconda3/envs/fid_xgboost/lib/python3.7/site-packages (from papermill->scrapbook) (8.2.2)\n",
      "Requirement already satisfied: ansiwrap in /home/devpil/anaconda3/envs/fid_xgboost/lib/python3.7/site-packages (from papermill->scrapbook) (0.8.4)\n",
      "Requirement already satisfied: nbformat>=5.1.2 in /home/devpil/anaconda3/envs/fid_xgboost/lib/python3.7/site-packages (from papermill->scrapbook) (5.8.0)\n",
      "Requirement already satisfied: zipp>=3.1.0 in /home/devpil/anaconda3/envs/fid_xgboost/lib/python3.7/site-packages (from importlib-resources>=1.4.0->jsonschema->scrapbook) (3.15.0)\n",
      "Requirement already satisfied: parso<0.9.0,>=0.8.0 in /home/devpil/anaconda3/envs/fid_xgboost/lib/python3.7/site-packages (from jedi>=0.16->ipython->scrapbook) (0.8.3)\n",
      "Requirement already satisfied: jupyter-core!=5.0.*,>=4.12 in /home/devpil/anaconda3/envs/fid_xgboost/lib/python3.7/site-packages (from nbclient>=0.2.0->papermill->scrapbook) (4.12.0)\n",
      "Requirement already satisfied: jupyter-client>=6.1.12 in /home/devpil/anaconda3/envs/fid_xgboost/lib/python3.7/site-packages (from nbclient>=0.2.0->papermill->scrapbook) (7.4.9)\n",
      "Requirement already satisfied: fastjsonschema in /home/devpil/anaconda3/envs/fid_xgboost/lib/python3.7/site-packages (from nbformat>=5.1.2->papermill->scrapbook) (2.17.1)\n",
      "Requirement already satisfied: ptyprocess>=0.5 in /home/devpil/anaconda3/envs/fid_xgboost/lib/python3.7/site-packages (from pexpect>4.3->ipython->scrapbook) (0.7.0)\n",
      "Requirement already satisfied: wcwidth in /home/devpil/anaconda3/envs/fid_xgboost/lib/python3.7/site-packages (from prompt-toolkit!=3.0.0,!=3.0.1,<3.1.0,>=2.0.0->ipython->scrapbook) (0.2.6)\n",
      "Requirement already satisfied: six>=1.5 in /home/devpil/anaconda3/envs/fid_xgboost/lib/python3.7/site-packages (from python-dateutil>=2.7.3->pandas->scrapbook) (1.16.0)\n",
      "Requirement already satisfied: textwrap3>=0.9.2 in /home/devpil/anaconda3/envs/fid_xgboost/lib/python3.7/site-packages (from ansiwrap->papermill->scrapbook) (0.9.2)\n",
      "Requirement already satisfied: urllib3<1.27,>=1.21.1 in /home/devpil/anaconda3/envs/fid_xgboost/lib/python3.7/site-packages (from requests->papermill->scrapbook) (1.26.16)\n",
      "Requirement already satisfied: idna<3,>=2.5 in /home/devpil/anaconda3/envs/fid_xgboost/lib/python3.7/site-packages (from requests->papermill->scrapbook) (2.10)\n",
      "Requirement already satisfied: certifi>=2017.4.17 in /home/devpil/anaconda3/envs/fid_xgboost/lib/python3.7/site-packages (from requests->papermill->scrapbook) (2022.12.7)\n",
      "Requirement already satisfied: chardet<5,>=3.0.2 in /home/devpil/anaconda3/envs/fid_xgboost/lib/python3.7/site-packages (from requests->papermill->scrapbook) (4.0.0)\n",
      "Requirement already satisfied: tornado>=6.2 in /home/devpil/anaconda3/envs/fid_xgboost/lib/python3.7/site-packages (from jupyter-client>=6.1.12->nbclient>=0.2.0->papermill->scrapbook) (6.2)\n",
      "Requirement already satisfied: pyzmq>=23.0 in /home/devpil/anaconda3/envs/fid_xgboost/lib/python3.7/site-packages (from jupyter-client>=6.1.12->nbclient>=0.2.0->papermill->scrapbook) (25.1.0)\n",
      "Requirement already satisfied: nest-asyncio>=1.5.4 in /home/devpil/anaconda3/envs/fid_xgboost/lib/python3.7/site-packages (from jupyter-client>=6.1.12->nbclient>=0.2.0->papermill->scrapbook) (1.5.6)\n",
      "Installing collected packages: pyarrow, scrapbook\n",
      "Successfully installed pyarrow-12.0.1 scrapbook-0.5.0\n",
      "Requirement already satisfied: cornac in /home/devpil/anaconda3/envs/fid_xgboost/lib/python3.7/site-packages (1.14.2)\n",
      "Requirement already satisfied: tqdm>=4.19 in /home/devpil/anaconda3/envs/fid_xgboost/lib/python3.7/site-packages (from cornac) (4.65.0)\n",
      "Requirement already satisfied: numpy in /home/devpil/anaconda3/envs/fid_xgboost/lib/python3.7/site-packages (from cornac) (1.21.6)\n",
      "Requirement already satisfied: scipy in /home/devpil/anaconda3/envs/fid_xgboost/lib/python3.7/site-packages (from cornac) (1.7.3)\n",
      "Requirement already satisfied: powerlaw in /home/devpil/anaconda3/envs/fid_xgboost/lib/python3.7/site-packages (from cornac) (1.4.6)\n",
      "Requirement already satisfied: matplotlib in /home/devpil/anaconda3/envs/fid_xgboost/lib/python3.7/site-packages (from powerlaw->cornac) (3.5.1)\n",
      "Requirement already satisfied: mpmath in /home/devpil/anaconda3/envs/fid_xgboost/lib/python3.7/site-packages (from powerlaw->cornac) (1.3.0)\n",
      "Requirement already satisfied: packaging>=20.0 in /home/devpil/anaconda3/envs/fid_xgboost/lib/python3.7/site-packages (from matplotlib->powerlaw->cornac) (23.1)\n",
      "Requirement already satisfied: python-dateutil>=2.7 in /home/devpil/anaconda3/envs/fid_xgboost/lib/python3.7/site-packages (from matplotlib->powerlaw->cornac) (2.8.2)\n",
      "Requirement already satisfied: pillow>=6.2.0 in /home/devpil/anaconda3/envs/fid_xgboost/lib/python3.7/site-packages (from matplotlib->powerlaw->cornac) (9.5.0)\n",
      "Requirement already satisfied: kiwisolver>=1.0.1 in /home/devpil/anaconda3/envs/fid_xgboost/lib/python3.7/site-packages (from matplotlib->powerlaw->cornac) (1.4.4)\n",
      "Requirement already satisfied: cycler>=0.10 in /home/devpil/anaconda3/envs/fid_xgboost/lib/python3.7/site-packages (from matplotlib->powerlaw->cornac) (0.11.0)\n",
      "Requirement already satisfied: fonttools>=4.22.0 in /home/devpil/anaconda3/envs/fid_xgboost/lib/python3.7/site-packages (from matplotlib->powerlaw->cornac) (4.38.0)\n",
      "Requirement already satisfied: pyparsing>=2.2.1 in /home/devpil/anaconda3/envs/fid_xgboost/lib/python3.7/site-packages (from matplotlib->powerlaw->cornac) (3.1.0)\n",
      "Requirement already satisfied: typing-extensions in /home/devpil/anaconda3/envs/fid_xgboost/lib/python3.7/site-packages (from kiwisolver>=1.0.1->matplotlib->powerlaw->cornac) (4.7.1)\n",
      "Requirement already satisfied: six>=1.5 in /home/devpil/anaconda3/envs/fid_xgboost/lib/python3.7/site-packages (from python-dateutil>=2.7->matplotlib->powerlaw->cornac) (1.16.0)\n",
      "Requirement already satisfied: retrying in /home/devpil/anaconda3/envs/fid_xgboost/lib/python3.7/site-packages (1.3.4)\n",
      "Requirement already satisfied: six>=1.7.0 in /home/devpil/anaconda3/envs/fid_xgboost/lib/python3.7/site-packages (from retrying) (1.16.0)\n",
      "Collecting pandera\n",
      "  Using cached pandera-0.16.1-py3-none-any.whl (201 kB)\n",
      "Collecting typeguard>=3.0.2\n",
      "  Using cached typeguard-4.0.0-py3-none-any.whl (33 kB)\n",
      "Collecting pydantic<2.0.0\n",
      "  Downloading pydantic-1.10.11-cp37-cp37m-manylinux_2_17_x86_64.manylinux2014_x86_64.whl (3.1 MB)\n",
      "\u001b[2K     \u001b[90m━━━━━━━━━━━━━━━━━━━━━━━━━━━━━━━━━━━━━━━━\u001b[0m \u001b[32m3.1/3.1 MB\u001b[0m \u001b[31m20.0 MB/s\u001b[0m eta \u001b[36m0:00:00\u001b[0m00:01\u001b[0m00:01\u001b[0m\n",
      "\u001b[?25hRequirement already satisfied: numpy>=1.19.0 in /home/devpil/anaconda3/envs/fid_xgboost/lib/python3.7/site-packages (from pandera) (1.21.6)\n",
      "Requirement already satisfied: packaging>=20.0 in /home/devpil/anaconda3/envs/fid_xgboost/lib/python3.7/site-packages (from pandera) (23.1)\n",
      "Collecting multimethod\n",
      "  Using cached multimethod-1.9.1-py3-none-any.whl (10 kB)\n",
      "Requirement already satisfied: pandas>=1.2.0 in /home/devpil/anaconda3/envs/fid_xgboost/lib/python3.7/site-packages (from pandera) (1.2.4)\n",
      "Requirement already satisfied: typing-extensions>=3.7.4.3 in /home/devpil/anaconda3/envs/fid_xgboost/lib/python3.7/site-packages (from pandera) (4.7.1)\n",
      "Collecting typing-inspect>=0.6.0\n",
      "  Using cached typing_inspect-0.9.0-py3-none-any.whl (8.8 kB)\n",
      "Collecting wrapt\n",
      "  Downloading wrapt-1.15.0-cp37-cp37m-manylinux_2_5_x86_64.manylinux1_x86_64.manylinux_2_17_x86_64.manylinux2014_x86_64.whl (75 kB)\n",
      "\u001b[2K     \u001b[90m━━━━━━━━━━━━━━━━━━━━━━━━━━━━━━━━━━━━━━━━\u001b[0m \u001b[32m75.7/75.7 kB\u001b[0m \u001b[31m4.3 MB/s\u001b[0m eta \u001b[36m0:00:00\u001b[0m\n",
      "\u001b[?25hRequirement already satisfied: python-dateutil>=2.7.3 in /home/devpil/anaconda3/envs/fid_xgboost/lib/python3.7/site-packages (from pandas>=1.2.0->pandera) (2.8.2)\n",
      "Requirement already satisfied: pytz>=2017.3 in /home/devpil/anaconda3/envs/fid_xgboost/lib/python3.7/site-packages (from pandas>=1.2.0->pandera) (2023.3)\n",
      "Requirement already satisfied: importlib-metadata>=3.6 in /home/devpil/anaconda3/envs/fid_xgboost/lib/python3.7/site-packages (from typeguard>=3.0.2->pandera) (6.7.0)\n",
      "Collecting mypy-extensions>=0.3.0\n",
      "  Using cached mypy_extensions-1.0.0-py3-none-any.whl (4.7 kB)\n",
      "Requirement already satisfied: zipp>=0.5 in /home/devpil/anaconda3/envs/fid_xgboost/lib/python3.7/site-packages (from importlib-metadata>=3.6->typeguard>=3.0.2->pandera) (3.15.0)\n",
      "Requirement already satisfied: six>=1.5 in /home/devpil/anaconda3/envs/fid_xgboost/lib/python3.7/site-packages (from python-dateutil>=2.7.3->pandas>=1.2.0->pandera) (1.16.0)\n",
      "Installing collected packages: wrapt, pydantic, mypy-extensions, multimethod, typing-inspect, typeguard, pandera\n",
      "Successfully installed multimethod-1.9.1 mypy-extensions-1.0.0 pandera-0.16.1 pydantic-1.10.11 typeguard-4.0.0 typing-inspect-0.9.0 wrapt-1.15.0\n"
     ]
    }
   ],
   "source": [
    "!pip install papermill\n",
    "!pip install scrapbook\n",
    "!pip install cornac\n",
    "!pip install retrying\n",
    "!pip install pandera"
   ]
  },
  {
   "cell_type": "code",
   "execution_count": 36,
   "metadata": {},
   "outputs": [
    {
     "name": "stdout",
     "output_type": "stream",
     "text": [
      "Cloning into 'recommenders'...\n",
      "remote: Enumerating objects: 37376, done.\u001b[K\n",
      "remote: Counting objects: 100% (908/908), done.\u001b[K\n",
      "remote: Compressing objects: 100% (311/311), done.\u001b[K\n",
      "remote: Total 37376 (delta 621), reused 759 (delta 581), pack-reused 36468\u001b[K\n",
      "Receiving objects: 100% (37376/37376), 205.18 MiB | 21.64 MiB/s, done.\n",
      "Resolving deltas: 100% (25265/25265), done.\n",
      "Checking connectivity... done.\n"
     ]
    }
   ],
   "source": [
    "!git clone https://github.com/microsoft/recommenders.git"
   ]
  },
  {
   "cell_type": "code",
   "execution_count": 37,
   "metadata": {},
   "outputs": [],
   "source": [
    "!mv recommenders recommender\n",
    "!cp -r recommender/recommenders recommenders/"
   ]
  },
  {
   "cell_type": "code",
   "execution_count": 38,
   "metadata": {},
   "outputs": [
    {
     "name": "stdout",
     "output_type": "stream",
     "text": [
      "System version: 3.7.10 (default, Jun  4 2021, 14:48:32) \n",
      "[GCC 7.5.0]\n",
      "Cornac version: 1.14.2\n"
     ]
    }
   ],
   "source": [
    "import sys\n",
    "import os\n",
    "import cornac\n",
    "import papermill as pm\n",
    "import scrapbook as sb\n",
    "import pandas as pd\n",
    "sys.path.append(os.getcwd())\n",
    "from recommenders.evaluation.python_evaluation import map_at_k, ndcg_at_k, precision_at_k, recall_at_k\n",
    "from recommenders.models.cornac.cornac_utils import predict_ranking\n",
    "from recommenders.utils.timer import Timer\n",
    "from recommenders.utils.constants import SEED\n",
    "\n",
    "print(\"System version: {}\".format(sys.version))\n",
    "print(\"Cornac version: {}\".format(cornac.__version__))"
   ]
  },
  {
   "cell_type": "code",
   "execution_count": 39,
   "metadata": {},
   "outputs": [],
   "source": [
    "from sklearn.preprocessing import LabelEncoder"
   ]
  },
  {
   "cell_type": "code",
   "execution_count": 42,
   "metadata": {},
   "outputs": [],
   "source": [
    "test = pd.read_csv('../Dataset/test.csv')\n",
    "train = pd.read_csv('../Dataset/train.csv')"
   ]
  },
  {
   "cell_type": "code",
   "execution_count": 43,
   "metadata": {},
   "outputs": [],
   "source": [
    "test = test.drop('xd', axis=1)\n",
    "train = train.drop('xd', axis=1)"
   ]
  },
  {
   "cell_type": "code",
   "execution_count": 44,
   "metadata": {},
   "outputs": [],
   "source": [
    "test = test.rename(columns={'qid': 'userID', 'article_id': 'itemID', 'response': 'rating'})\n",
    "train = train.rename(columns={'qid': 'userID', 'article_id': 'itemID', 'response': 'rating'})"
   ]
  },
  {
   "cell_type": "code",
   "execution_count": 45,
   "metadata": {},
   "outputs": [],
   "source": [
    "test = test[[\"userID\", \"itemID\", \"rating\"]]\n",
    "train = train[[\"userID\", \"itemID\", \"rating\"]]"
   ]
  },
  {
   "cell_type": "code",
   "execution_count": 46,
   "metadata": {},
   "outputs": [
    {
     "data": {
      "text/html": [
       "<div>\n",
       "<style scoped>\n",
       "    .dataframe tbody tr th:only-of-type {\n",
       "        vertical-align: middle;\n",
       "    }\n",
       "\n",
       "    .dataframe tbody tr th {\n",
       "        vertical-align: top;\n",
       "    }\n",
       "\n",
       "    .dataframe thead th {\n",
       "        text-align: right;\n",
       "    }\n",
       "</style>\n",
       "<table border=\"1\" class=\"dataframe\">\n",
       "  <thead>\n",
       "    <tr style=\"text-align: right;\">\n",
       "      <th></th>\n",
       "      <th>userID</th>\n",
       "      <th>itemID</th>\n",
       "      <th>rating</th>\n",
       "    </tr>\n",
       "  </thead>\n",
       "  <tbody>\n",
       "    <tr>\n",
       "      <th>0</th>\n",
       "      <td>85837</td>\n",
       "      <td>1073</td>\n",
       "      <td>0</td>\n",
       "    </tr>\n",
       "    <tr>\n",
       "      <th>1</th>\n",
       "      <td>85837</td>\n",
       "      <td>4807</td>\n",
       "      <td>0</td>\n",
       "    </tr>\n",
       "    <tr>\n",
       "      <th>2</th>\n",
       "      <td>85837</td>\n",
       "      <td>6379</td>\n",
       "      <td>0</td>\n",
       "    </tr>\n",
       "    <tr>\n",
       "      <th>3</th>\n",
       "      <td>85837</td>\n",
       "      <td>4909</td>\n",
       "      <td>0</td>\n",
       "    </tr>\n",
       "    <tr>\n",
       "      <th>4</th>\n",
       "      <td>85837</td>\n",
       "      <td>9953</td>\n",
       "      <td>0</td>\n",
       "    </tr>\n",
       "  </tbody>\n",
       "</table>\n",
       "</div>"
      ],
      "text/plain": [
       "   userID  itemID  rating\n",
       "0   85837    1073       0\n",
       "1   85837    4807       0\n",
       "2   85837    6379       0\n",
       "3   85837    4909       0\n",
       "4   85837    9953       0"
      ]
     },
     "execution_count": 46,
     "metadata": {},
     "output_type": "execute_result"
    }
   ],
   "source": [
    "train.head()"
   ]
  },
  {
   "cell_type": "code",
   "execution_count": 47,
   "metadata": {},
   "outputs": [
    {
     "data": {
      "text/html": [
       "<div>\n",
       "<style scoped>\n",
       "    .dataframe tbody tr th:only-of-type {\n",
       "        vertical-align: middle;\n",
       "    }\n",
       "\n",
       "    .dataframe tbody tr th {\n",
       "        vertical-align: top;\n",
       "    }\n",
       "\n",
       "    .dataframe thead th {\n",
       "        text-align: right;\n",
       "    }\n",
       "</style>\n",
       "<table border=\"1\" class=\"dataframe\">\n",
       "  <thead>\n",
       "    <tr style=\"text-align: right;\">\n",
       "      <th></th>\n",
       "      <th>userID</th>\n",
       "      <th>itemID</th>\n",
       "      <th>rating</th>\n",
       "    </tr>\n",
       "  </thead>\n",
       "  <tbody>\n",
       "    <tr>\n",
       "      <th>0</th>\n",
       "      <td>95354290</td>\n",
       "      <td>4234</td>\n",
       "      <td>0</td>\n",
       "    </tr>\n",
       "    <tr>\n",
       "      <th>1</th>\n",
       "      <td>95354290</td>\n",
       "      <td>1226</td>\n",
       "      <td>0</td>\n",
       "    </tr>\n",
       "    <tr>\n",
       "      <th>2</th>\n",
       "      <td>95354290</td>\n",
       "      <td>8952</td>\n",
       "      <td>0</td>\n",
       "    </tr>\n",
       "    <tr>\n",
       "      <th>3</th>\n",
       "      <td>95354290</td>\n",
       "      <td>8952</td>\n",
       "      <td>0</td>\n",
       "    </tr>\n",
       "    <tr>\n",
       "      <th>4</th>\n",
       "      <td>95354290</td>\n",
       "      <td>6200</td>\n",
       "      <td>0</td>\n",
       "    </tr>\n",
       "  </tbody>\n",
       "</table>\n",
       "</div>"
      ],
      "text/plain": [
       "     userID  itemID  rating\n",
       "0  95354290    4234       0\n",
       "1  95354290    1226       0\n",
       "2  95354290    8952       0\n",
       "3  95354290    8952       0\n",
       "4  95354290    6200       0"
      ]
     },
     "execution_count": 47,
     "metadata": {},
     "output_type": "execute_result"
    }
   ],
   "source": [
    "test.head()"
   ]
  },
  {
   "cell_type": "code",
   "execution_count": 48,
   "metadata": {},
   "outputs": [],
   "source": [
    "df_articles = pd.read_csv('../Dataset/Published_online_articles.csv')"
   ]
  },
  {
   "cell_type": "code",
   "execution_count": 49,
   "metadata": {},
   "outputs": [],
   "source": [
    "df_articles['all_text'] = pd.Series(df_articles[['headline','teaser','text']].fillna('').values.tolist()).str.join(' ')\n",
    "df_articles = df_articles[['article_id','all_text']]\n",
    "df_articles = df_articles.rename(columns={'article_id': 'itemID'})"
   ]
  },
  {
   "cell_type": "code",
   "execution_count": 50,
   "metadata": {},
   "outputs": [],
   "source": [
    "tcm_id_le = LabelEncoder()\n",
    "\n",
    "df_articles['itemID'] = tcm_id_le.fit_transform(df_articles['itemID'])\n",
    "test['itemID'] = tcm_id_le.transform(test['itemID'])\n",
    "train['itemID'] = tcm_id_le.transform(train['itemID'])"
   ]
  },
  {
   "cell_type": "code",
   "execution_count": 51,
   "metadata": {},
   "outputs": [
    {
     "name": "stdout",
     "output_type": "stream",
     "text": [
      "Number of users: 463\n",
      "Number of items: 66\n"
     ]
    },
    {
     "name": "stderr",
     "output_type": "stream",
     "text": [
      "/home/devpil/anaconda3/envs/fid_xgboost/lib/python3.7/site-packages/cornac/data/dataset.py:361: UserWarning: 6527 duplicated observations are removed!\n",
      "  warnings.warn(\"%d duplicated observations are removed!\" % dup_count)\n"
     ]
    }
   ],
   "source": [
    "train_set = cornac.data.Dataset.from_uir(train.itertuples(index=False), seed=SEED)\n",
    "\n",
    "print('Number of users: {}'.format(train_set.num_users))\n",
    "print('Number of items: {}'.format(train_set.num_items))"
   ]
  },
  {
   "cell_type": "code",
   "execution_count": 52,
   "metadata": {},
   "outputs": [],
   "source": [
    "# UserKNN methods\n",
    "K = 30\n",
    "user_knn_cosine = cornac.models.UserKNN(k=K, similarity=\"cosine\", name=\"UserKNN-Cosine\")\n",
    "user_knn_pearson = cornac.models.UserKNN(k=K, similarity=\"pearson\", name=\"UserKNN-Pearson\")"
   ]
  },
  {
   "cell_type": "code",
   "execution_count": 61,
   "metadata": {},
   "outputs": [
    {
     "data": {
      "application/vnd.jupyter.widget-view+json": {
       "model_id": "4f0d7e6568064fa6affe44e3c612a386",
       "version_major": 2,
       "version_minor": 0
      },
      "text/plain": [
       "  0%|          | 0/463 [00:00<?, ?it/s]"
      ]
     },
     "metadata": {},
     "output_type": "display_data"
    },
    {
     "name": "stdout",
     "output_type": "stream",
     "text": [
      "Took 0.1010 seconds for training.\n"
     ]
    }
   ],
   "source": [
    "with Timer() as t:\n",
    "    user_knn_cosine.fit(train_set)\n",
    "print(\"Took {} seconds for training.\".format(t))"
   ]
  },
  {
   "cell_type": "code",
   "execution_count": 62,
   "metadata": {},
   "outputs": [
    {
     "name": "stdout",
     "output_type": "stream",
     "text": [
      "Took 6.4313 seconds for prediction.\n"
     ]
    }
   ],
   "source": [
    "with Timer() as t:\n",
    "    all_predictions = predict_ranking(user_knn_cosine, train, usercol='userID', itemcol='itemID', remove_seen=True)\n",
    "print(\"Took {} seconds for prediction.\".format(t))"
   ]
  },
  {
   "cell_type": "code",
   "execution_count": 56,
   "metadata": {},
   "outputs": [
    {
     "data": {
      "text/html": [
       "<div>\n",
       "<style scoped>\n",
       "    .dataframe tbody tr th:only-of-type {\n",
       "        vertical-align: middle;\n",
       "    }\n",
       "\n",
       "    .dataframe tbody tr th {\n",
       "        vertical-align: top;\n",
       "    }\n",
       "\n",
       "    .dataframe thead th {\n",
       "        text-align: right;\n",
       "    }\n",
       "</style>\n",
       "<table border=\"1\" class=\"dataframe\">\n",
       "  <thead>\n",
       "    <tr style=\"text-align: right;\">\n",
       "      <th></th>\n",
       "      <th>userID</th>\n",
       "      <th>itemID</th>\n",
       "      <th>prediction</th>\n",
       "    </tr>\n",
       "  </thead>\n",
       "  <tbody>\n",
       "    <tr>\n",
       "      <th>26172</th>\n",
       "      <td>85837</td>\n",
       "      <td>43</td>\n",
       "      <td>0.129842</td>\n",
       "    </tr>\n",
       "    <tr>\n",
       "      <th>26173</th>\n",
       "      <td>85837</td>\n",
       "      <td>50</td>\n",
       "      <td>0.191415</td>\n",
       "    </tr>\n",
       "    <tr>\n",
       "      <th>26174</th>\n",
       "      <td>85837</td>\n",
       "      <td>20</td>\n",
       "      <td>0.127504</td>\n",
       "    </tr>\n",
       "    <tr>\n",
       "      <th>26175</th>\n",
       "      <td>85837</td>\n",
       "      <td>32</td>\n",
       "      <td>0.219859</td>\n",
       "    </tr>\n",
       "    <tr>\n",
       "      <th>26176</th>\n",
       "      <td>85837</td>\n",
       "      <td>61</td>\n",
       "      <td>0.454536</td>\n",
       "    </tr>\n",
       "  </tbody>\n",
       "</table>\n",
       "</div>"
      ],
      "text/plain": [
       "       userID  itemID  prediction\n",
       "26172   85837      43    0.129842\n",
       "26173   85837      50    0.191415\n",
       "26174   85837      20    0.127504\n",
       "26175   85837      32    0.219859\n",
       "26176   85837      61    0.454536"
      ]
     },
     "execution_count": 56,
     "metadata": {},
     "output_type": "execute_result"
    }
   ],
   "source": [
    "all_predictions.head()"
   ]
  },
  {
   "cell_type": "code",
   "execution_count": 63,
   "metadata": {},
   "outputs": [
    {
     "name": "stdout",
     "output_type": "stream",
     "text": [
      "MAP:\t0.203942\n",
      "NDCG:\t0.748457\n",
      "Precision@K:\t0.659179\n",
      "Recall@K:\t0.270598\n"
     ]
    }
   ],
   "source": [
    "k = 10\n",
    "eval_map = map_at_k(test, all_predictions, col_prediction='prediction', k=k)\n",
    "eval_ndcg = ndcg_at_k(test, all_predictions, col_prediction='prediction', k=k)\n",
    "eval_precision = precision_at_k(test, all_predictions, col_prediction='prediction', k=k)\n",
    "eval_recall = recall_at_k(test, all_predictions, col_prediction='prediction', k=k)\n",
    "\n",
    "print(\"MAP:\\t%f\" % eval_map,\n",
    "      \"NDCG:\\t%f\" % eval_ndcg,\n",
    "      \"Precision@K:\\t%f\" % eval_precision,\n",
    "      \"Recall@K:\\t%f\" % eval_recall, sep='\\n')"
   ]
  }
 ],
 "metadata": {
  "kernelspec": {
   "display_name": "fid2_xgboost",
   "language": "python",
   "name": "python3"
  },
  "language_info": {
   "codemirror_mode": {
    "name": "ipython",
    "version": 3
   },
   "file_extension": ".py",
   "mimetype": "text/x-python",
   "name": "python",
   "nbconvert_exporter": "python",
   "pygments_lexer": "ipython3",
   "version": "3.7.10"
  },
  "orig_nbformat": 4
 },
 "nbformat": 4,
 "nbformat_minor": 2
}
